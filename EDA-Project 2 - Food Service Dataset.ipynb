{
 "cells": [
  {
   "cell_type": "markdown",
   "id": "3c807d9d",
   "metadata": {},
   "source": [
    "# Exploratory Data Analysis - Cleaning and Manipulation"
   ]
  },
  {
   "cell_type": "markdown",
   "id": "1116b915",
   "metadata": {},
   "source": [
    "# # Sheet 1 - Data Cleaning and EDA"
   ]
  },
  {
   "cell_type": "markdown",
   "id": "10b208c7",
   "metadata": {},
   "source": [
    "\n",
    "importing basic libraries"
   ]
  },
  {
   "cell_type": "code",
   "execution_count": 1,
   "id": "6eba0699",
   "metadata": {},
   "outputs": [],
   "source": [
    "\n",
    "import pandas as pd\n",
    "import numpy as np\n",
    "import seaborn as sns\n",
    "import matplotlib as plt\n"
   ]
  },
  {
   "cell_type": "code",
   "execution_count": 2,
   "id": "a9fe0884",
   "metadata": {},
   "outputs": [
    {
     "name": "stdout",
     "output_type": "stream",
     "text": [
      "D:\\Bepec\\Project 2 - Food Service\n"
     ]
    }
   ],
   "source": [
    "cd D:\\Bepec\\Project 2 - Food Service"
   ]
  },
  {
   "cell_type": "code",
   "execution_count": 3,
   "id": "500763de",
   "metadata": {},
   "outputs": [],
   "source": [
    "#Importing excel file\n",
    "df = pd.read_excel('Food_services.docx-EmbeddedFile.xlsx')"
   ]
  },
  {
   "cell_type": "code",
   "execution_count": 4,
   "id": "1b6e9aac",
   "metadata": {},
   "outputs": [
    {
     "data": {
      "text/html": [
       "<div>\n",
       "<style scoped>\n",
       "    .dataframe tbody tr th:only-of-type {\n",
       "        vertical-align: middle;\n",
       "    }\n",
       "\n",
       "    .dataframe tbody tr th {\n",
       "        vertical-align: top;\n",
       "    }\n",
       "\n",
       "    .dataframe thead th {\n",
       "        text-align: right;\n",
       "    }\n",
       "</style>\n",
       "<table border=\"1\" class=\"dataframe\">\n",
       "  <thead>\n",
       "    <tr style=\"text-align: right;\">\n",
       "      <th></th>\n",
       "      <th>NAME</th>\n",
       "      <th>CITY</th>\n",
       "      <th>STATE</th>\n",
       "      <th>ZIP</th>\n",
       "      <th>ZIP_PLUS4</th>\n",
       "      <th>COUNTY_CODE</th>\n",
       "      <th>COUNTY_NAME</th>\n",
       "      <th>MSA</th>\n",
       "      <th>MARKET_SEGMENT</th>\n",
       "      <th>SIMPLIFIED_MENU</th>\n",
       "      <th>...</th>\n",
       "      <th>AVERAGE_CHECK</th>\n",
       "      <th>NUMBER_OF_ROOMS</th>\n",
       "      <th>FOOD_BEVERAGE_PURCHASE</th>\n",
       "      <th>FOOD_PURCHASE</th>\n",
       "      <th>BEVERAGE_PURCHASE</th>\n",
       "      <th>TOTAL_CATEGORY_DRY</th>\n",
       "      <th>TOTAL_CATEGORY_FRESH</th>\n",
       "      <th>TOTAL_CATEGORY_FROZEN</th>\n",
       "      <th>TOTAL_CATEGORY_PROTEIN</th>\n",
       "      <th>% Share of F&amp;B Purchases from Company</th>\n",
       "    </tr>\n",
       "  </thead>\n",
       "  <tbody>\n",
       "    <tr>\n",
       "      <th>0</th>\n",
       "      <td>APPLEBEE'S</td>\n",
       "      <td>POTTSTOWN</td>\n",
       "      <td>PA</td>\n",
       "      <td>19464</td>\n",
       "      <td>NaN</td>\n",
       "      <td>42091.0</td>\n",
       "      <td>MONTGOMERY</td>\n",
       "      <td>6162.0</td>\n",
       "      <td>FSR - TRADITIONAL RESTAURANTS, CASUAL DINING</td>\n",
       "      <td>CLASSIC &amp; VARIED MENU</td>\n",
       "      <td>...</td>\n",
       "      <td>$10 TO $15</td>\n",
       "      <td>NOT APPLICABLE</td>\n",
       "      <td>597290.100988</td>\n",
       "      <td>545006.687015</td>\n",
       "      <td>52283.413973</td>\n",
       "      <td>73292.586865</td>\n",
       "      <td>96286.339607</td>\n",
       "      <td>124412.626443</td>\n",
       "      <td>212623.779075</td>\n",
       "      <td>0.578681</td>\n",
       "    </tr>\n",
       "    <tr>\n",
       "      <th>1</th>\n",
       "      <td>STANS RESTAURANT</td>\n",
       "      <td>SAN LEANDRO</td>\n",
       "      <td>CA</td>\n",
       "      <td>94577</td>\n",
       "      <td>3236.0</td>\n",
       "      <td>6001.0</td>\n",
       "      <td>ALAMEDA</td>\n",
       "      <td>7362.0</td>\n",
       "      <td>FSR - TRADITIONAL RESTAURANTS, CASUAL DINING</td>\n",
       "      <td>CLASSIC &amp; VARIED MENU</td>\n",
       "      <td>...</td>\n",
       "      <td>$15 TO $20</td>\n",
       "      <td>NOT APPLICABLE</td>\n",
       "      <td>39742.939174</td>\n",
       "      <td>36264.065946</td>\n",
       "      <td>3478.873227</td>\n",
       "      <td>4876.797417</td>\n",
       "      <td>6406.773077</td>\n",
       "      <td>8278.261162</td>\n",
       "      <td>14147.721358</td>\n",
       "      <td>0.339348</td>\n",
       "    </tr>\n",
       "    <tr>\n",
       "      <th>2</th>\n",
       "      <td>THANH THANH</td>\n",
       "      <td>OAKLAND</td>\n",
       "      <td>CA</td>\n",
       "      <td>94606</td>\n",
       "      <td>2978.0</td>\n",
       "      <td>6001.0</td>\n",
       "      <td>ALAMEDA</td>\n",
       "      <td>7362.0</td>\n",
       "      <td>FSR - TRADITIONAL RESTAURANTS, CASUAL DINING</td>\n",
       "      <td>CLASSIC &amp; VARIED MENU</td>\n",
       "      <td>...</td>\n",
       "      <td>$15 TO $20</td>\n",
       "      <td>NOT APPLICABLE</td>\n",
       "      <td>39742.939174</td>\n",
       "      <td>36264.065946</td>\n",
       "      <td>3478.873227</td>\n",
       "      <td>4876.797417</td>\n",
       "      <td>6406.773077</td>\n",
       "      <td>8278.261162</td>\n",
       "      <td>14147.721358</td>\n",
       "      <td>0.646409</td>\n",
       "    </tr>\n",
       "  </tbody>\n",
       "</table>\n",
       "<p>3 rows × 25 columns</p>\n",
       "</div>"
      ],
      "text/plain": [
       "               NAME         CITY STATE    ZIP  ZIP_PLUS4  COUNTY_CODE  \\\n",
       "0        APPLEBEE'S    POTTSTOWN    PA  19464        NaN      42091.0   \n",
       "1  STANS RESTAURANT  SAN LEANDRO    CA  94577     3236.0       6001.0   \n",
       "2       THANH THANH      OAKLAND    CA  94606     2978.0       6001.0   \n",
       "\n",
       "  COUNTY_NAME     MSA                                MARKET_SEGMENT  \\\n",
       "0  MONTGOMERY  6162.0  FSR - TRADITIONAL RESTAURANTS, CASUAL DINING   \n",
       "1     ALAMEDA  7362.0  FSR - TRADITIONAL RESTAURANTS, CASUAL DINING   \n",
       "2     ALAMEDA  7362.0  FSR - TRADITIONAL RESTAURANTS, CASUAL DINING   \n",
       "\n",
       "         SIMPLIFIED_MENU  ... AVERAGE_CHECK NUMBER_OF_ROOMS  \\\n",
       "0  CLASSIC & VARIED MENU  ...    $10 TO $15  NOT APPLICABLE   \n",
       "1  CLASSIC & VARIED MENU  ...    $15 TO $20  NOT APPLICABLE   \n",
       "2  CLASSIC & VARIED MENU  ...    $15 TO $20  NOT APPLICABLE   \n",
       "\n",
       "  FOOD_BEVERAGE_PURCHASE  FOOD_PURCHASE BEVERAGE_PURCHASE TOTAL_CATEGORY_DRY  \\\n",
       "0          597290.100988  545006.687015      52283.413973       73292.586865   \n",
       "1           39742.939174   36264.065946       3478.873227        4876.797417   \n",
       "2           39742.939174   36264.065946       3478.873227        4876.797417   \n",
       "\n",
       "  TOTAL_CATEGORY_FRESH  TOTAL_CATEGORY_FROZEN  TOTAL_CATEGORY_PROTEIN  \\\n",
       "0         96286.339607          124412.626443           212623.779075   \n",
       "1          6406.773077            8278.261162            14147.721358   \n",
       "2          6406.773077            8278.261162            14147.721358   \n",
       "\n",
       "   % Share of F&B Purchases from Company  \n",
       "0                               0.578681  \n",
       "1                               0.339348  \n",
       "2                               0.646409  \n",
       "\n",
       "[3 rows x 25 columns]"
      ]
     },
     "execution_count": 4,
     "metadata": {},
     "output_type": "execute_result"
    }
   ],
   "source": [
    "df.head(3)"
   ]
  },
  {
   "cell_type": "code",
   "execution_count": 5,
   "id": "226318f3",
   "metadata": {},
   "outputs": [],
   "source": [
    "#removing non-required column\n",
    "del df['ZIP_PLUS4']\n",
    "del df['MSA']\n",
    "del df['MARKET_SEGMENT']\n",
    "del df['MENU_TYPE']\n",
    "del df['NUMBER_OF_ROOMS']\n"
   ]
  },
  {
   "cell_type": "code",
   "execution_count": 6,
   "id": "fc633cac",
   "metadata": {},
   "outputs": [
    {
     "name": "stdout",
     "output_type": "stream",
     "text": [
      "<class 'pandas.core.frame.DataFrame'>\n",
      "RangeIndex: 1000 entries, 0 to 999\n",
      "Data columns (total 20 columns):\n",
      " #   Column                                 Non-Null Count  Dtype  \n",
      "---  ------                                 --------------  -----  \n",
      " 0   NAME                                   1000 non-null   object \n",
      " 1   CITY                                   1000 non-null   object \n",
      " 2   STATE                                  1000 non-null   object \n",
      " 3   ZIP                                    1000 non-null   int64  \n",
      " 4   COUNTY_CODE                            999 non-null    float64\n",
      " 5   COUNTY_NAME                            999 non-null    object \n",
      " 6   SIMPLIFIED_MENU                        1000 non-null   object \n",
      " 7   UNITS                                  1000 non-null   object \n",
      " 8   EMPLOYEES                              1000 non-null   object \n",
      " 9   YEARS_IN_BUSINESS                      1000 non-null   object \n",
      " 10  ANNUAL_SALES                           1000 non-null   object \n",
      " 11  AVERAGE_CHECK                          1000 non-null   object \n",
      " 12  FOOD_BEVERAGE_PURCHASE                 889 non-null    float64\n",
      " 13  FOOD_PURCHASE                          889 non-null    float64\n",
      " 14  BEVERAGE_PURCHASE                      889 non-null    float64\n",
      " 15  TOTAL_CATEGORY_DRY                     889 non-null    float64\n",
      " 16  TOTAL_CATEGORY_FRESH                   889 non-null    float64\n",
      " 17  TOTAL_CATEGORY_FROZEN                  889 non-null    float64\n",
      " 18  TOTAL_CATEGORY_PROTEIN                 889 non-null    float64\n",
      " 19  % Share of F&B Purchases from Company  889 non-null    float64\n",
      "dtypes: float64(9), int64(1), object(10)\n",
      "memory usage: 156.4+ KB\n"
     ]
    }
   ],
   "source": [
    "df.info()"
   ]
  },
  {
   "cell_type": "code",
   "execution_count": 7,
   "id": "57d677a7",
   "metadata": {},
   "outputs": [
    {
     "data": {
      "text/plain": [
       "NAME                                       0\n",
       "CITY                                       0\n",
       "STATE                                      0\n",
       "ZIP                                        0\n",
       "COUNTY_CODE                                1\n",
       "COUNTY_NAME                                1\n",
       "SIMPLIFIED_MENU                            0\n",
       "UNITS                                      0\n",
       "EMPLOYEES                                  0\n",
       "YEARS_IN_BUSINESS                          0\n",
       "ANNUAL_SALES                               0\n",
       "AVERAGE_CHECK                              0\n",
       "FOOD_BEVERAGE_PURCHASE                   111\n",
       "FOOD_PURCHASE                            111\n",
       "BEVERAGE_PURCHASE                        111\n",
       "TOTAL_CATEGORY_DRY                       111\n",
       "TOTAL_CATEGORY_FRESH                     111\n",
       "TOTAL_CATEGORY_FROZEN                    111\n",
       "TOTAL_CATEGORY_PROTEIN                   111\n",
       "% Share of F&B Purchases from Company    111\n",
       "dtype: int64"
      ]
     },
     "execution_count": 7,
     "metadata": {},
     "output_type": "execute_result"
    }
   ],
   "source": [
    "df.isnull().sum()"
   ]
  },
  {
   "cell_type": "code",
   "execution_count": 8,
   "id": "1caf501d",
   "metadata": {},
   "outputs": [
    {
     "data": {
      "text/html": [
       "<div>\n",
       "<style scoped>\n",
       "    .dataframe tbody tr th:only-of-type {\n",
       "        vertical-align: middle;\n",
       "    }\n",
       "\n",
       "    .dataframe tbody tr th {\n",
       "        vertical-align: top;\n",
       "    }\n",
       "\n",
       "    .dataframe thead th {\n",
       "        text-align: right;\n",
       "    }\n",
       "</style>\n",
       "<table border=\"1\" class=\"dataframe\">\n",
       "  <thead>\n",
       "    <tr style=\"text-align: right;\">\n",
       "      <th></th>\n",
       "      <th>NAME</th>\n",
       "      <th>CITY</th>\n",
       "      <th>STATE</th>\n",
       "      <th>ZIP</th>\n",
       "      <th>COUNTY_CODE</th>\n",
       "      <th>COUNTY_NAME</th>\n",
       "      <th>SIMPLIFIED_MENU</th>\n",
       "      <th>UNITS</th>\n",
       "      <th>EMPLOYEES</th>\n",
       "      <th>YEARS_IN_BUSINESS</th>\n",
       "      <th>ANNUAL_SALES</th>\n",
       "      <th>AVERAGE_CHECK</th>\n",
       "      <th>FOOD_BEVERAGE_PURCHASE</th>\n",
       "      <th>FOOD_PURCHASE</th>\n",
       "      <th>BEVERAGE_PURCHASE</th>\n",
       "      <th>TOTAL_CATEGORY_DRY</th>\n",
       "      <th>TOTAL_CATEGORY_FRESH</th>\n",
       "      <th>TOTAL_CATEGORY_FROZEN</th>\n",
       "      <th>TOTAL_CATEGORY_PROTEIN</th>\n",
       "      <th>% Share of F&amp;B Purchases from Company</th>\n",
       "    </tr>\n",
       "  </thead>\n",
       "  <tbody>\n",
       "    <tr>\n",
       "      <th>635</th>\n",
       "      <td>UNCLE BEAR'S GRILL AND BAR</td>\n",
       "      <td>HIGLEY</td>\n",
       "      <td>AZ</td>\n",
       "      <td>85236</td>\n",
       "      <td>NaN</td>\n",
       "      <td>NaN</td>\n",
       "      <td>AMERICAN AND AMERICAN TRADITIONAL</td>\n",
       "      <td>INDEPENDENT (1-9 UNITS)</td>\n",
       "      <td>5 TO 9</td>\n",
       "      <td>5 YEARS PLUS</td>\n",
       "      <td>&lt;=$500,000</td>\n",
       "      <td>$15 TO $20</td>\n",
       "      <td>86932.085323</td>\n",
       "      <td>78865.921533</td>\n",
       "      <td>8066.16379</td>\n",
       "      <td>12288.523897</td>\n",
       "      <td>13162.115643</td>\n",
       "      <td>16345.872229</td>\n",
       "      <td>29061.485424</td>\n",
       "      <td>0.375721</td>\n",
       "    </tr>\n",
       "  </tbody>\n",
       "</table>\n",
       "</div>"
      ],
      "text/plain": [
       "                           NAME    CITY STATE    ZIP  COUNTY_CODE COUNTY_NAME  \\\n",
       "635  UNCLE BEAR'S GRILL AND BAR  HIGLEY    AZ  85236          NaN         NaN   \n",
       "\n",
       "                       SIMPLIFIED_MENU                    UNITS EMPLOYEES  \\\n",
       "635  AMERICAN AND AMERICAN TRADITIONAL  INDEPENDENT (1-9 UNITS)    5 TO 9   \n",
       "\n",
       "    YEARS_IN_BUSINESS ANNUAL_SALES AVERAGE_CHECK  FOOD_BEVERAGE_PURCHASE  \\\n",
       "635      5 YEARS PLUS   <=$500,000    $15 TO $20            86932.085323   \n",
       "\n",
       "     FOOD_PURCHASE  BEVERAGE_PURCHASE  TOTAL_CATEGORY_DRY  \\\n",
       "635   78865.921533         8066.16379        12288.523897   \n",
       "\n",
       "     TOTAL_CATEGORY_FRESH  TOTAL_CATEGORY_FROZEN  TOTAL_CATEGORY_PROTEIN  \\\n",
       "635          13162.115643           16345.872229            29061.485424   \n",
       "\n",
       "     % Share of F&B Purchases from Company  \n",
       "635                               0.375721  "
      ]
     },
     "execution_count": 8,
     "metadata": {},
     "output_type": "execute_result"
    }
   ],
   "source": [
    "#Row with null county code and county name\n",
    "#Doesnot required deletion\n",
    "df[df['COUNTY_CODE'].isnull()]"
   ]
  },
  {
   "cell_type": "code",
   "execution_count": 9,
   "id": "881de17b",
   "metadata": {},
   "outputs": [],
   "source": [
    "#Rows containing null values in financial transactions need to be removed \n",
    "#as they cannot be replaced by any statistical value\n",
    "df['FOOD_BEVERAGE_PURCHASE'] = df['FOOD_BEVERAGE_PURCHASE'].dropna(axis  = 0)\n",
    "df['FOOD_PURCHASE'] = df['FOOD_PURCHASE'].dropna(axis  = 0)\n",
    "df['BEVERAGE_PURCHASE'] = df['BEVERAGE_PURCHASE'].dropna(axis  = 0)\n",
    "df['TOTAL_CATEGORY_DRY'] = df['TOTAL_CATEGORY_DRY'].dropna(axis  = 0)\n",
    "df['TOTAL_CATEGORY_FRESH'] = df['TOTAL_CATEGORY_FRESH'].dropna(axis  = 0)\n",
    "df['TOTAL_CATEGORY_FROZEN'] = df['TOTAL_CATEGORY_FROZEN'].dropna(axis  = 0)\n",
    "df['TOTAL_CATEGORY_PROTEIN'] = df['TOTAL_CATEGORY_PROTEIN'].dropna(axis  = 0)"
   ]
  },
  {
   "cell_type": "code",
   "execution_count": 10,
   "id": "69635bbf",
   "metadata": {},
   "outputs": [
    {
     "name": "stdout",
     "output_type": "stream",
     "text": [
      "<class 'pandas.core.frame.DataFrame'>\n",
      "RangeIndex: 1000 entries, 0 to 999\n",
      "Data columns (total 20 columns):\n",
      " #   Column                                 Non-Null Count  Dtype  \n",
      "---  ------                                 --------------  -----  \n",
      " 0   NAME                                   1000 non-null   object \n",
      " 1   CITY                                   1000 non-null   object \n",
      " 2   STATE                                  1000 non-null   object \n",
      " 3   ZIP                                    1000 non-null   int64  \n",
      " 4   COUNTY_CODE                            999 non-null    float64\n",
      " 5   COUNTY_NAME                            999 non-null    object \n",
      " 6   SIMPLIFIED_MENU                        1000 non-null   object \n",
      " 7   UNITS                                  1000 non-null   object \n",
      " 8   EMPLOYEES                              1000 non-null   object \n",
      " 9   YEARS_IN_BUSINESS                      1000 non-null   object \n",
      " 10  ANNUAL_SALES                           1000 non-null   object \n",
      " 11  AVERAGE_CHECK                          1000 non-null   object \n",
      " 12  FOOD_BEVERAGE_PURCHASE                 889 non-null    float64\n",
      " 13  FOOD_PURCHASE                          889 non-null    float64\n",
      " 14  BEVERAGE_PURCHASE                      889 non-null    float64\n",
      " 15  TOTAL_CATEGORY_DRY                     889 non-null    float64\n",
      " 16  TOTAL_CATEGORY_FRESH                   889 non-null    float64\n",
      " 17  TOTAL_CATEGORY_FROZEN                  889 non-null    float64\n",
      " 18  TOTAL_CATEGORY_PROTEIN                 889 non-null    float64\n",
      " 19  % Share of F&B Purchases from Company  889 non-null    float64\n",
      "dtypes: float64(9), int64(1), object(10)\n",
      "memory usage: 156.4+ KB\n"
     ]
    }
   ],
   "source": [
    "df.info()"
   ]
  },
  {
   "cell_type": "code",
   "execution_count": 11,
   "id": "6ca78ab8",
   "metadata": {},
   "outputs": [
    {
     "data": {
      "text/plain": [
       "NAME                                       0\n",
       "CITY                                       0\n",
       "STATE                                      0\n",
       "ZIP                                        0\n",
       "COUNTY_CODE                                1\n",
       "COUNTY_NAME                                1\n",
       "SIMPLIFIED_MENU                            0\n",
       "UNITS                                      0\n",
       "EMPLOYEES                                  0\n",
       "YEARS_IN_BUSINESS                          0\n",
       "ANNUAL_SALES                               0\n",
       "AVERAGE_CHECK                              0\n",
       "FOOD_BEVERAGE_PURCHASE                   111\n",
       "FOOD_PURCHASE                            111\n",
       "BEVERAGE_PURCHASE                        111\n",
       "TOTAL_CATEGORY_DRY                       111\n",
       "TOTAL_CATEGORY_FRESH                     111\n",
       "TOTAL_CATEGORY_FROZEN                    111\n",
       "TOTAL_CATEGORY_PROTEIN                   111\n",
       "% Share of F&B Purchases from Company    111\n",
       "dtype: int64"
      ]
     },
     "execution_count": 11,
     "metadata": {},
     "output_type": "execute_result"
    }
   ],
   "source": [
    "df.isna().sum()"
   ]
  },
  {
   "cell_type": "code",
   "execution_count": 12,
   "id": "c20464ac",
   "metadata": {},
   "outputs": [],
   "source": [
    "df = df.dropna()"
   ]
  },
  {
   "cell_type": "code",
   "execution_count": 13,
   "id": "33eb0078",
   "metadata": {},
   "outputs": [
    {
     "data": {
      "text/plain": [
       "(888, 20)"
      ]
     },
     "execution_count": 13,
     "metadata": {},
     "output_type": "execute_result"
    }
   ],
   "source": [
    "df.shape"
   ]
  },
  {
   "cell_type": "code",
   "execution_count": 14,
   "id": "999d2a0e",
   "metadata": {},
   "outputs": [
    {
     "data": {
      "text/html": [
       "<div>\n",
       "<style scoped>\n",
       "    .dataframe tbody tr th:only-of-type {\n",
       "        vertical-align: middle;\n",
       "    }\n",
       "\n",
       "    .dataframe tbody tr th {\n",
       "        vertical-align: top;\n",
       "    }\n",
       "\n",
       "    .dataframe thead th {\n",
       "        text-align: right;\n",
       "    }\n",
       "</style>\n",
       "<table border=\"1\" class=\"dataframe\">\n",
       "  <thead>\n",
       "    <tr style=\"text-align: right;\">\n",
       "      <th></th>\n",
       "      <th>NAME</th>\n",
       "      <th>CITY</th>\n",
       "      <th>STATE</th>\n",
       "      <th>ZIP</th>\n",
       "      <th>COUNTY_CODE</th>\n",
       "      <th>COUNTY_NAME</th>\n",
       "      <th>SIMPLIFIED_MENU</th>\n",
       "      <th>UNITS</th>\n",
       "      <th>EMPLOYEES</th>\n",
       "      <th>YEARS_IN_BUSINESS</th>\n",
       "      <th>ANNUAL_SALES</th>\n",
       "      <th>AVERAGE_CHECK</th>\n",
       "      <th>FOOD_BEVERAGE_PURCHASE</th>\n",
       "      <th>FOOD_PURCHASE</th>\n",
       "      <th>BEVERAGE_PURCHASE</th>\n",
       "      <th>TOTAL_CATEGORY_DRY</th>\n",
       "      <th>TOTAL_CATEGORY_FRESH</th>\n",
       "      <th>TOTAL_CATEGORY_FROZEN</th>\n",
       "      <th>TOTAL_CATEGORY_PROTEIN</th>\n",
       "      <th>% Share of F&amp;B Purchases from Company</th>\n",
       "    </tr>\n",
       "  </thead>\n",
       "  <tbody>\n",
       "    <tr>\n",
       "      <th>995</th>\n",
       "      <td>SUBWAY</td>\n",
       "      <td>CARROLLTON</td>\n",
       "      <td>TX</td>\n",
       "      <td>75010</td>\n",
       "      <td>48121.0</td>\n",
       "      <td>DENTON</td>\n",
       "      <td>SANDWICHES, SOUPS AND SALADS, DELI, SUBS &amp; HOT...</td>\n",
       "      <td>501+ UNITS</td>\n",
       "      <td>1 TO 4</td>\n",
       "      <td>5 YEARS PLUS</td>\n",
       "      <td>&lt;=$500,000</td>\n",
       "      <td>$5 TO $7</td>\n",
       "      <td>1.264464e+05</td>\n",
       "      <td>1.082253e+05</td>\n",
       "      <td>18221.074108</td>\n",
       "      <td>20302.620653</td>\n",
       "      <td>19035.592321</td>\n",
       "      <td>27723.786598</td>\n",
       "      <td>26652.845984</td>\n",
       "      <td>0.987625</td>\n",
       "    </tr>\n",
       "    <tr>\n",
       "      <th>996</th>\n",
       "      <td>RED LOBSTER</td>\n",
       "      <td>INGLEWOOD</td>\n",
       "      <td>CA</td>\n",
       "      <td>90303</td>\n",
       "      <td>6037.0</td>\n",
       "      <td>LOS ANGELES</td>\n",
       "      <td>STEAK, SEAFOOD &amp; FISH</td>\n",
       "      <td>501+ UNITS</td>\n",
       "      <td>OVER 50</td>\n",
       "      <td>5 YEARS PLUS</td>\n",
       "      <td>$2,500,001 - $5,000,000</td>\n",
       "      <td>$10 TO $15</td>\n",
       "      <td>1.096238e+06</td>\n",
       "      <td>1.026739e+06</td>\n",
       "      <td>69498.776116</td>\n",
       "      <td>142453.292480</td>\n",
       "      <td>191473.607862</td>\n",
       "      <td>182514.281291</td>\n",
       "      <td>440158.915398</td>\n",
       "      <td>0.599890</td>\n",
       "    </tr>\n",
       "    <tr>\n",
       "      <th>997</th>\n",
       "      <td>REYNOLDS CAFE</td>\n",
       "      <td>NAUGATUCK</td>\n",
       "      <td>CT</td>\n",
       "      <td>6770</td>\n",
       "      <td>9009.0</td>\n",
       "      <td>NEW HAVEN</td>\n",
       "      <td>CLASSIC &amp; VARIED MENU</td>\n",
       "      <td>INDEPENDENT (1-9 UNITS)</td>\n",
       "      <td>1 TO 4</td>\n",
       "      <td>5 YEARS PLUS</td>\n",
       "      <td>&lt;=$500,000</td>\n",
       "      <td>$15 TO $20</td>\n",
       "      <td>4.240708e+04</td>\n",
       "      <td>3.843948e+04</td>\n",
       "      <td>3967.601528</td>\n",
       "      <td>5235.276904</td>\n",
       "      <td>6858.790982</td>\n",
       "      <td>9732.188501</td>\n",
       "      <td>13174.927943</td>\n",
       "      <td>0.302793</td>\n",
       "    </tr>\n",
       "    <tr>\n",
       "      <th>998</th>\n",
       "      <td>PUEBLO VIEJO</td>\n",
       "      <td>PORT SAINT LUCIE</td>\n",
       "      <td>FL</td>\n",
       "      <td>34952</td>\n",
       "      <td>12111.0</td>\n",
       "      <td>SAINT LUCIE</td>\n",
       "      <td>CLASSIC &amp; VARIED MENU</td>\n",
       "      <td>INDEPENDENT (1-9 UNITS)</td>\n",
       "      <td>5 TO 9</td>\n",
       "      <td>5 YEARS PLUS</td>\n",
       "      <td>&lt;=$500,000</td>\n",
       "      <td>$15 TO $20</td>\n",
       "      <td>8.948728e+04</td>\n",
       "      <td>8.165407e+04</td>\n",
       "      <td>7833.212973</td>\n",
       "      <td>10980.852218</td>\n",
       "      <td>14425.825462</td>\n",
       "      <td>18639.765949</td>\n",
       "      <td>31855.749617</td>\n",
       "      <td>0.497217</td>\n",
       "    </tr>\n",
       "    <tr>\n",
       "      <th>999</th>\n",
       "      <td>BUFFALO WILD WINGS</td>\n",
       "      <td>DEARBORN</td>\n",
       "      <td>MI</td>\n",
       "      <td>48124</td>\n",
       "      <td>26163.0</td>\n",
       "      <td>WAYNE</td>\n",
       "      <td>BAR &amp; GRILL, BREW PUB, &amp; EATERTAINMENT</td>\n",
       "      <td>501+ UNITS</td>\n",
       "      <td>10 TO 19</td>\n",
       "      <td>5 YEARS PLUS</td>\n",
       "      <td>$1,000,001 - $2,500,000</td>\n",
       "      <td>$10 TO $15</td>\n",
       "      <td>5.653861e+05</td>\n",
       "      <td>5.257160e+05</td>\n",
       "      <td>39670.082460</td>\n",
       "      <td>73253.221050</td>\n",
       "      <td>91863.877018</td>\n",
       "      <td>114742.390183</td>\n",
       "      <td>199189.990762</td>\n",
       "      <td>0.666672</td>\n",
       "    </tr>\n",
       "  </tbody>\n",
       "</table>\n",
       "</div>"
      ],
      "text/plain": [
       "                   NAME              CITY STATE    ZIP  COUNTY_CODE  \\\n",
       "995              SUBWAY        CARROLLTON    TX  75010      48121.0   \n",
       "996         RED LOBSTER         INGLEWOOD    CA  90303       6037.0   \n",
       "997       REYNOLDS CAFE         NAUGATUCK    CT   6770       9009.0   \n",
       "998        PUEBLO VIEJO  PORT SAINT LUCIE    FL  34952      12111.0   \n",
       "999  BUFFALO WILD WINGS          DEARBORN    MI  48124      26163.0   \n",
       "\n",
       "     COUNTY_NAME                                    SIMPLIFIED_MENU  \\\n",
       "995       DENTON  SANDWICHES, SOUPS AND SALADS, DELI, SUBS & HOT...   \n",
       "996  LOS ANGELES                              STEAK, SEAFOOD & FISH   \n",
       "997    NEW HAVEN                              CLASSIC & VARIED MENU   \n",
       "998  SAINT LUCIE                              CLASSIC & VARIED MENU   \n",
       "999        WAYNE             BAR & GRILL, BREW PUB, & EATERTAINMENT   \n",
       "\n",
       "                       UNITS EMPLOYEES YEARS_IN_BUSINESS  \\\n",
       "995               501+ UNITS    1 TO 4      5 YEARS PLUS   \n",
       "996               501+ UNITS   OVER 50      5 YEARS PLUS   \n",
       "997  INDEPENDENT (1-9 UNITS)    1 TO 4      5 YEARS PLUS   \n",
       "998  INDEPENDENT (1-9 UNITS)    5 TO 9      5 YEARS PLUS   \n",
       "999               501+ UNITS  10 TO 19      5 YEARS PLUS   \n",
       "\n",
       "                ANNUAL_SALES AVERAGE_CHECK  FOOD_BEVERAGE_PURCHASE  \\\n",
       "995               <=$500,000      $5 TO $7            1.264464e+05   \n",
       "996  $2,500,001 - $5,000,000    $10 TO $15            1.096238e+06   \n",
       "997               <=$500,000    $15 TO $20            4.240708e+04   \n",
       "998               <=$500,000    $15 TO $20            8.948728e+04   \n",
       "999  $1,000,001 - $2,500,000    $10 TO $15            5.653861e+05   \n",
       "\n",
       "     FOOD_PURCHASE  BEVERAGE_PURCHASE  TOTAL_CATEGORY_DRY  \\\n",
       "995   1.082253e+05       18221.074108        20302.620653   \n",
       "996   1.026739e+06       69498.776116       142453.292480   \n",
       "997   3.843948e+04        3967.601528         5235.276904   \n",
       "998   8.165407e+04        7833.212973        10980.852218   \n",
       "999   5.257160e+05       39670.082460        73253.221050   \n",
       "\n",
       "     TOTAL_CATEGORY_FRESH  TOTAL_CATEGORY_FROZEN  TOTAL_CATEGORY_PROTEIN  \\\n",
       "995          19035.592321           27723.786598            26652.845984   \n",
       "996         191473.607862          182514.281291           440158.915398   \n",
       "997           6858.790982            9732.188501            13174.927943   \n",
       "998          14425.825462           18639.765949            31855.749617   \n",
       "999          91863.877018          114742.390183           199189.990762   \n",
       "\n",
       "     % Share of F&B Purchases from Company  \n",
       "995                               0.987625  \n",
       "996                               0.599890  \n",
       "997                               0.302793  \n",
       "998                               0.497217  \n",
       "999                               0.666672  "
      ]
     },
     "execution_count": 14,
     "metadata": {},
     "output_type": "execute_result"
    }
   ],
   "source": [
    "df.tail()"
   ]
  },
  {
   "cell_type": "code",
   "execution_count": 15,
   "id": "c72b9cf2",
   "metadata": {},
   "outputs": [
    {
     "data": {
      "text/plain": [
       "array(['501+ UNITS', 'INDEPENDENT (1-9 UNITS)', '251-500 UNITS',\n",
       "       '101-250 UNITS', '51-100 UNITS', '10-50 UNITS'], dtype=object)"
      ]
     },
     "execution_count": 15,
     "metadata": {},
     "output_type": "execute_result"
    }
   ],
   "source": [
    "df.UNITS.unique()"
   ]
  },
  {
   "cell_type": "code",
   "execution_count": 16,
   "id": "a34ce9b8",
   "metadata": {},
   "outputs": [
    {
     "name": "stdout",
     "output_type": "stream",
     "text": [
      "Requirement already satisfied: scikit-learn in c:\\users\\dell\\anaconda3\\lib\\site-packages (1.0.2)\n",
      "Requirement already satisfied: joblib>=0.11 in c:\\users\\dell\\anaconda3\\lib\\site-packages (from scikit-learn) (1.1.0)\n",
      "Requirement already satisfied: numpy>=1.14.6 in c:\\users\\dell\\anaconda3\\lib\\site-packages (from scikit-learn) (1.21.5)\n",
      "Requirement already satisfied: scipy>=1.1.0 in c:\\users\\dell\\anaconda3\\lib\\site-packages (from scikit-learn) (1.9.1)\n",
      "Requirement already satisfied: threadpoolctl>=2.0.0 in c:\\users\\dell\\anaconda3\\lib\\site-packages (from scikit-learn) (2.2.0)\n",
      "Note: you may need to restart the kernel to use updated packages.\n"
     ]
    }
   ],
   "source": [
    "pip install scikit-learn"
   ]
  },
  {
   "cell_type": "code",
   "execution_count": 17,
   "id": "ad3fb615",
   "metadata": {},
   "outputs": [],
   "source": [
    "#let us perform label encoding to the above UNITS column so as to include in our EDA\n",
    "from sklearn.preprocessing import LabelEncoder\n",
    "le = LabelEncoder()"
   ]
  },
  {
   "cell_type": "code",
   "execution_count": 18,
   "id": "ed75f700",
   "metadata": {},
   "outputs": [],
   "source": [
    "#array(['501+ UNITS' = 3, 'INDEPENDENT (1-9 UNITS)' = 5, '251-500 UNITS' = 2,\n",
    " #      '101-250 UNITS' = 1, '51-100 UNITS' = 4, '10-50 UNITS' = 0], dtype=object)\n",
    "df['UNITS']= le.fit_transform(df['UNITS'])"
   ]
  },
  {
   "cell_type": "code",
   "execution_count": 19,
   "id": "b80f5d03",
   "metadata": {},
   "outputs": [
    {
     "data": {
      "text/plain": [
       "array([3, 5, 2, 1, 4, 0])"
      ]
     },
     "execution_count": 19,
     "metadata": {},
     "output_type": "execute_result"
    }
   ],
   "source": [
    "df.UNITS.unique()"
   ]
  },
  {
   "cell_type": "code",
   "execution_count": 20,
   "id": "b48dba8c",
   "metadata": {},
   "outputs": [
    {
     "name": "stdout",
     "output_type": "stream",
     "text": [
      "<class 'pandas.core.frame.DataFrame'>\n",
      "Int64Index: 888 entries, 0 to 999\n",
      "Data columns (total 20 columns):\n",
      " #   Column                                 Non-Null Count  Dtype  \n",
      "---  ------                                 --------------  -----  \n",
      " 0   NAME                                   888 non-null    object \n",
      " 1   CITY                                   888 non-null    object \n",
      " 2   STATE                                  888 non-null    object \n",
      " 3   ZIP                                    888 non-null    int64  \n",
      " 4   COUNTY_CODE                            888 non-null    float64\n",
      " 5   COUNTY_NAME                            888 non-null    object \n",
      " 6   SIMPLIFIED_MENU                        888 non-null    object \n",
      " 7   UNITS                                  888 non-null    int32  \n",
      " 8   EMPLOYEES                              888 non-null    object \n",
      " 9   YEARS_IN_BUSINESS                      888 non-null    object \n",
      " 10  ANNUAL_SALES                           888 non-null    object \n",
      " 11  AVERAGE_CHECK                          888 non-null    object \n",
      " 12  FOOD_BEVERAGE_PURCHASE                 888 non-null    float64\n",
      " 13  FOOD_PURCHASE                          888 non-null    float64\n",
      " 14  BEVERAGE_PURCHASE                      888 non-null    float64\n",
      " 15  TOTAL_CATEGORY_DRY                     888 non-null    float64\n",
      " 16  TOTAL_CATEGORY_FRESH                   888 non-null    float64\n",
      " 17  TOTAL_CATEGORY_FROZEN                  888 non-null    float64\n",
      " 18  TOTAL_CATEGORY_PROTEIN                 888 non-null    float64\n",
      " 19  % Share of F&B Purchases from Company  888 non-null    float64\n",
      "dtypes: float64(9), int32(1), int64(1), object(9)\n",
      "memory usage: 142.2+ KB\n"
     ]
    }
   ],
   "source": [
    "df.info()"
   ]
  },
  {
   "cell_type": "code",
   "execution_count": 21,
   "id": "6b42cdd1",
   "metadata": {},
   "outputs": [
    {
     "data": {
      "text/html": [
       "<div>\n",
       "<style scoped>\n",
       "    .dataframe tbody tr th:only-of-type {\n",
       "        vertical-align: middle;\n",
       "    }\n",
       "\n",
       "    .dataframe tbody tr th {\n",
       "        vertical-align: top;\n",
       "    }\n",
       "\n",
       "    .dataframe thead th {\n",
       "        text-align: right;\n",
       "    }\n",
       "</style>\n",
       "<table border=\"1\" class=\"dataframe\">\n",
       "  <thead>\n",
       "    <tr style=\"text-align: right;\">\n",
       "      <th></th>\n",
       "      <th>NAME</th>\n",
       "      <th>CITY</th>\n",
       "      <th>STATE</th>\n",
       "      <th>ZIP</th>\n",
       "      <th>COUNTY_CODE</th>\n",
       "      <th>COUNTY_NAME</th>\n",
       "      <th>SIMPLIFIED_MENU</th>\n",
       "      <th>UNITS</th>\n",
       "      <th>EMPLOYEES</th>\n",
       "      <th>YEARS_IN_BUSINESS</th>\n",
       "      <th>ANNUAL_SALES</th>\n",
       "      <th>AVERAGE_CHECK</th>\n",
       "      <th>FOOD_BEVERAGE_PURCHASE</th>\n",
       "      <th>FOOD_PURCHASE</th>\n",
       "      <th>BEVERAGE_PURCHASE</th>\n",
       "      <th>TOTAL_CATEGORY_DRY</th>\n",
       "      <th>TOTAL_CATEGORY_FRESH</th>\n",
       "      <th>TOTAL_CATEGORY_FROZEN</th>\n",
       "      <th>TOTAL_CATEGORY_PROTEIN</th>\n",
       "      <th>% Share of F&amp;B Purchases from Company</th>\n",
       "    </tr>\n",
       "  </thead>\n",
       "  <tbody>\n",
       "    <tr>\n",
       "      <th>995</th>\n",
       "      <td>SUBWAY</td>\n",
       "      <td>CARROLLTON</td>\n",
       "      <td>TX</td>\n",
       "      <td>75010</td>\n",
       "      <td>48121.0</td>\n",
       "      <td>DENTON</td>\n",
       "      <td>SANDWICHES, SOUPS AND SALADS, DELI, SUBS &amp; HOT...</td>\n",
       "      <td>3</td>\n",
       "      <td>1 TO 4</td>\n",
       "      <td>5 YEARS PLUS</td>\n",
       "      <td>&lt;=$500,000</td>\n",
       "      <td>$5 TO $7</td>\n",
       "      <td>1.264464e+05</td>\n",
       "      <td>1.082253e+05</td>\n",
       "      <td>18221.074108</td>\n",
       "      <td>20302.620653</td>\n",
       "      <td>19035.592321</td>\n",
       "      <td>27723.786598</td>\n",
       "      <td>26652.845984</td>\n",
       "      <td>0.987625</td>\n",
       "    </tr>\n",
       "    <tr>\n",
       "      <th>996</th>\n",
       "      <td>RED LOBSTER</td>\n",
       "      <td>INGLEWOOD</td>\n",
       "      <td>CA</td>\n",
       "      <td>90303</td>\n",
       "      <td>6037.0</td>\n",
       "      <td>LOS ANGELES</td>\n",
       "      <td>STEAK, SEAFOOD &amp; FISH</td>\n",
       "      <td>3</td>\n",
       "      <td>OVER 50</td>\n",
       "      <td>5 YEARS PLUS</td>\n",
       "      <td>$2,500,001 - $5,000,000</td>\n",
       "      <td>$10 TO $15</td>\n",
       "      <td>1.096238e+06</td>\n",
       "      <td>1.026739e+06</td>\n",
       "      <td>69498.776116</td>\n",
       "      <td>142453.292480</td>\n",
       "      <td>191473.607862</td>\n",
       "      <td>182514.281291</td>\n",
       "      <td>440158.915398</td>\n",
       "      <td>0.599890</td>\n",
       "    </tr>\n",
       "    <tr>\n",
       "      <th>997</th>\n",
       "      <td>REYNOLDS CAFE</td>\n",
       "      <td>NAUGATUCK</td>\n",
       "      <td>CT</td>\n",
       "      <td>6770</td>\n",
       "      <td>9009.0</td>\n",
       "      <td>NEW HAVEN</td>\n",
       "      <td>CLASSIC &amp; VARIED MENU</td>\n",
       "      <td>5</td>\n",
       "      <td>1 TO 4</td>\n",
       "      <td>5 YEARS PLUS</td>\n",
       "      <td>&lt;=$500,000</td>\n",
       "      <td>$15 TO $20</td>\n",
       "      <td>4.240708e+04</td>\n",
       "      <td>3.843948e+04</td>\n",
       "      <td>3967.601528</td>\n",
       "      <td>5235.276904</td>\n",
       "      <td>6858.790982</td>\n",
       "      <td>9732.188501</td>\n",
       "      <td>13174.927943</td>\n",
       "      <td>0.302793</td>\n",
       "    </tr>\n",
       "    <tr>\n",
       "      <th>998</th>\n",
       "      <td>PUEBLO VIEJO</td>\n",
       "      <td>PORT SAINT LUCIE</td>\n",
       "      <td>FL</td>\n",
       "      <td>34952</td>\n",
       "      <td>12111.0</td>\n",
       "      <td>SAINT LUCIE</td>\n",
       "      <td>CLASSIC &amp; VARIED MENU</td>\n",
       "      <td>5</td>\n",
       "      <td>5 TO 9</td>\n",
       "      <td>5 YEARS PLUS</td>\n",
       "      <td>&lt;=$500,000</td>\n",
       "      <td>$15 TO $20</td>\n",
       "      <td>8.948728e+04</td>\n",
       "      <td>8.165407e+04</td>\n",
       "      <td>7833.212973</td>\n",
       "      <td>10980.852218</td>\n",
       "      <td>14425.825462</td>\n",
       "      <td>18639.765949</td>\n",
       "      <td>31855.749617</td>\n",
       "      <td>0.497217</td>\n",
       "    </tr>\n",
       "    <tr>\n",
       "      <th>999</th>\n",
       "      <td>BUFFALO WILD WINGS</td>\n",
       "      <td>DEARBORN</td>\n",
       "      <td>MI</td>\n",
       "      <td>48124</td>\n",
       "      <td>26163.0</td>\n",
       "      <td>WAYNE</td>\n",
       "      <td>BAR &amp; GRILL, BREW PUB, &amp; EATERTAINMENT</td>\n",
       "      <td>3</td>\n",
       "      <td>10 TO 19</td>\n",
       "      <td>5 YEARS PLUS</td>\n",
       "      <td>$1,000,001 - $2,500,000</td>\n",
       "      <td>$10 TO $15</td>\n",
       "      <td>5.653861e+05</td>\n",
       "      <td>5.257160e+05</td>\n",
       "      <td>39670.082460</td>\n",
       "      <td>73253.221050</td>\n",
       "      <td>91863.877018</td>\n",
       "      <td>114742.390183</td>\n",
       "      <td>199189.990762</td>\n",
       "      <td>0.666672</td>\n",
       "    </tr>\n",
       "  </tbody>\n",
       "</table>\n",
       "</div>"
      ],
      "text/plain": [
       "                   NAME              CITY STATE    ZIP  COUNTY_CODE  \\\n",
       "995              SUBWAY        CARROLLTON    TX  75010      48121.0   \n",
       "996         RED LOBSTER         INGLEWOOD    CA  90303       6037.0   \n",
       "997       REYNOLDS CAFE         NAUGATUCK    CT   6770       9009.0   \n",
       "998        PUEBLO VIEJO  PORT SAINT LUCIE    FL  34952      12111.0   \n",
       "999  BUFFALO WILD WINGS          DEARBORN    MI  48124      26163.0   \n",
       "\n",
       "     COUNTY_NAME                                    SIMPLIFIED_MENU  UNITS  \\\n",
       "995       DENTON  SANDWICHES, SOUPS AND SALADS, DELI, SUBS & HOT...      3   \n",
       "996  LOS ANGELES                              STEAK, SEAFOOD & FISH      3   \n",
       "997    NEW HAVEN                              CLASSIC & VARIED MENU      5   \n",
       "998  SAINT LUCIE                              CLASSIC & VARIED MENU      5   \n",
       "999        WAYNE             BAR & GRILL, BREW PUB, & EATERTAINMENT      3   \n",
       "\n",
       "    EMPLOYEES YEARS_IN_BUSINESS             ANNUAL_SALES AVERAGE_CHECK  \\\n",
       "995    1 TO 4      5 YEARS PLUS               <=$500,000      $5 TO $7   \n",
       "996   OVER 50      5 YEARS PLUS  $2,500,001 - $5,000,000    $10 TO $15   \n",
       "997    1 TO 4      5 YEARS PLUS               <=$500,000    $15 TO $20   \n",
       "998    5 TO 9      5 YEARS PLUS               <=$500,000    $15 TO $20   \n",
       "999  10 TO 19      5 YEARS PLUS  $1,000,001 - $2,500,000    $10 TO $15   \n",
       "\n",
       "     FOOD_BEVERAGE_PURCHASE  FOOD_PURCHASE  BEVERAGE_PURCHASE  \\\n",
       "995            1.264464e+05   1.082253e+05       18221.074108   \n",
       "996            1.096238e+06   1.026739e+06       69498.776116   \n",
       "997            4.240708e+04   3.843948e+04        3967.601528   \n",
       "998            8.948728e+04   8.165407e+04        7833.212973   \n",
       "999            5.653861e+05   5.257160e+05       39670.082460   \n",
       "\n",
       "     TOTAL_CATEGORY_DRY  TOTAL_CATEGORY_FRESH  TOTAL_CATEGORY_FROZEN  \\\n",
       "995        20302.620653          19035.592321           27723.786598   \n",
       "996       142453.292480         191473.607862          182514.281291   \n",
       "997         5235.276904           6858.790982            9732.188501   \n",
       "998        10980.852218          14425.825462           18639.765949   \n",
       "999        73253.221050          91863.877018          114742.390183   \n",
       "\n",
       "     TOTAL_CATEGORY_PROTEIN  % Share of F&B Purchases from Company  \n",
       "995            26652.845984                               0.987625  \n",
       "996           440158.915398                               0.599890  \n",
       "997            13174.927943                               0.302793  \n",
       "998            31855.749617                               0.497217  \n",
       "999           199189.990762                               0.666672  "
      ]
     },
     "execution_count": 21,
     "metadata": {},
     "output_type": "execute_result"
    }
   ],
   "source": [
    "df.tail()"
   ]
  },
  {
   "cell_type": "code",
   "execution_count": 22,
   "id": "696c66cf",
   "metadata": {},
   "outputs": [
    {
     "data": {
      "text/plain": [
       "array(['CLASSIC & VARIED MENU', 'PIZZA, PASTA & ITALIAN', 'OTHER ASIAN',\n",
       "       'SANDWICHES, SOUPS AND SALADS, DELI, SUBS & HOT DOG', 'CHICKEN',\n",
       "       'BEVERAGES', 'OTHER ETHNIC FOOD', 'MEXICAN', 'CHINESE',\n",
       "       'FROZEN DESSERT', 'LATIN AMERICAN',\n",
       "       'BAKERIES, BAGELS, DONUTS AND COFFEE & SNACKS',\n",
       "       'AMERICAN AND AMERICAN TRADITIONAL', 'HAMBURGERS',\n",
       "       'STEAK, SEAFOOD & FISH', 'EUROPEAN',\n",
       "       'BAR & GRILL, BREW PUB, & EATERTAINMENT', 'BBQ',\n",
       "       'AMERICAN REGIONAL'], dtype=object)"
      ]
     },
     "execution_count": 22,
     "metadata": {},
     "output_type": "execute_result"
    }
   ],
   "source": [
    "#Ckecking all uniques from menu styles\n",
    "df.SIMPLIFIED_MENU.unique()"
   ]
  },
  {
   "cell_type": "code",
   "execution_count": 23,
   "id": "3e2c1940",
   "metadata": {},
   "outputs": [
    {
     "data": {
      "text/plain": [
       "array(['OVER 50', '1 TO 4', '20 TO 49', '10 TO 19', '5 TO 9', 'UNKNOWN'],\n",
       "      dtype=object)"
      ]
     },
     "execution_count": 23,
     "metadata": {},
     "output_type": "execute_result"
    }
   ],
   "source": [
    "#As we can see the Employee columns have a Unknown Value in unique\n",
    "#as the (Over 50) means employee more than 50, we cannot assume\n",
    "df.EMPLOYEES.unique()"
   ]
  },
  {
   "cell_type": "code",
   "execution_count": 24,
   "id": "1ba84415",
   "metadata": {},
   "outputs": [
    {
     "data": {
      "text/html": [
       "<div>\n",
       "<style scoped>\n",
       "    .dataframe tbody tr th:only-of-type {\n",
       "        vertical-align: middle;\n",
       "    }\n",
       "\n",
       "    .dataframe tbody tr th {\n",
       "        vertical-align: top;\n",
       "    }\n",
       "\n",
       "    .dataframe thead th {\n",
       "        text-align: right;\n",
       "    }\n",
       "</style>\n",
       "<table border=\"1\" class=\"dataframe\">\n",
       "  <thead>\n",
       "    <tr style=\"text-align: right;\">\n",
       "      <th></th>\n",
       "      <th>NAME</th>\n",
       "      <th>CITY</th>\n",
       "      <th>STATE</th>\n",
       "      <th>ZIP</th>\n",
       "      <th>COUNTY_CODE</th>\n",
       "      <th>COUNTY_NAME</th>\n",
       "      <th>SIMPLIFIED_MENU</th>\n",
       "      <th>UNITS</th>\n",
       "      <th>EMPLOYEES</th>\n",
       "      <th>YEARS_IN_BUSINESS</th>\n",
       "      <th>ANNUAL_SALES</th>\n",
       "      <th>AVERAGE_CHECK</th>\n",
       "      <th>FOOD_BEVERAGE_PURCHASE</th>\n",
       "      <th>FOOD_PURCHASE</th>\n",
       "      <th>BEVERAGE_PURCHASE</th>\n",
       "      <th>TOTAL_CATEGORY_DRY</th>\n",
       "      <th>TOTAL_CATEGORY_FRESH</th>\n",
       "      <th>TOTAL_CATEGORY_FROZEN</th>\n",
       "      <th>TOTAL_CATEGORY_PROTEIN</th>\n",
       "      <th>% Share of F&amp;B Purchases from Company</th>\n",
       "    </tr>\n",
       "  </thead>\n",
       "  <tbody>\n",
       "    <tr>\n",
       "      <th>1</th>\n",
       "      <td>STANS RESTAURANT</td>\n",
       "      <td>SAN LEANDRO</td>\n",
       "      <td>CA</td>\n",
       "      <td>94577</td>\n",
       "      <td>6001.0</td>\n",
       "      <td>ALAMEDA</td>\n",
       "      <td>CLASSIC &amp; VARIED MENU</td>\n",
       "      <td>5</td>\n",
       "      <td>1 TO 4</td>\n",
       "      <td>5 YEARS PLUS</td>\n",
       "      <td>&lt;=$500,000</td>\n",
       "      <td>$15 TO $20</td>\n",
       "      <td>39742.939174</td>\n",
       "      <td>36264.065946</td>\n",
       "      <td>3478.873227</td>\n",
       "      <td>4876.797417</td>\n",
       "      <td>6406.773077</td>\n",
       "      <td>8278.261162</td>\n",
       "      <td>14147.721358</td>\n",
       "      <td>0.339348</td>\n",
       "    </tr>\n",
       "    <tr>\n",
       "      <th>2</th>\n",
       "      <td>THANH THANH</td>\n",
       "      <td>OAKLAND</td>\n",
       "      <td>CA</td>\n",
       "      <td>94606</td>\n",
       "      <td>6001.0</td>\n",
       "      <td>ALAMEDA</td>\n",
       "      <td>CLASSIC &amp; VARIED MENU</td>\n",
       "      <td>5</td>\n",
       "      <td>1 TO 4</td>\n",
       "      <td>5 YEARS PLUS</td>\n",
       "      <td>&lt;=$500,000</td>\n",
       "      <td>$15 TO $20</td>\n",
       "      <td>39742.939174</td>\n",
       "      <td>36264.065946</td>\n",
       "      <td>3478.873227</td>\n",
       "      <td>4876.797417</td>\n",
       "      <td>6406.773077</td>\n",
       "      <td>8278.261162</td>\n",
       "      <td>14147.721358</td>\n",
       "      <td>0.646409</td>\n",
       "    </tr>\n",
       "    <tr>\n",
       "      <th>4</th>\n",
       "      <td>NINNA RESTAURANT</td>\n",
       "      <td>OAKLAND</td>\n",
       "      <td>CA</td>\n",
       "      <td>94611</td>\n",
       "      <td>6001.0</td>\n",
       "      <td>ALAMEDA</td>\n",
       "      <td>OTHER ASIAN</td>\n",
       "      <td>5</td>\n",
       "      <td>1 TO 4</td>\n",
       "      <td>5 YEARS PLUS</td>\n",
       "      <td>&lt;=$500,000</td>\n",
       "      <td>$15 TO $20</td>\n",
       "      <td>42645.370261</td>\n",
       "      <td>40042.762870</td>\n",
       "      <td>2602.607391</td>\n",
       "      <td>6395.821567</td>\n",
       "      <td>8260.449546</td>\n",
       "      <td>5938.274331</td>\n",
       "      <td>15827.198446</td>\n",
       "      <td>0.655083</td>\n",
       "    </tr>\n",
       "    <tr>\n",
       "      <th>5</th>\n",
       "      <td>BROOKLYN DISCOUNT DELI</td>\n",
       "      <td>BERKELEY</td>\n",
       "      <td>CA</td>\n",
       "      <td>94704</td>\n",
       "      <td>6001.0</td>\n",
       "      <td>ALAMEDA</td>\n",
       "      <td>SANDWICHES, SOUPS AND SALADS, DELI, SUBS &amp; HOT...</td>\n",
       "      <td>5</td>\n",
       "      <td>1 TO 4</td>\n",
       "      <td>5 YEARS PLUS</td>\n",
       "      <td>&lt;=$500,000</td>\n",
       "      <td>$7 TO $10</td>\n",
       "      <td>46966.770000</td>\n",
       "      <td>41868.111834</td>\n",
       "      <td>5098.658166</td>\n",
       "      <td>5571.577184</td>\n",
       "      <td>6591.308817</td>\n",
       "      <td>9054.428704</td>\n",
       "      <td>16690.100352</td>\n",
       "      <td>0.780505</td>\n",
       "    </tr>\n",
       "    <tr>\n",
       "      <th>9</th>\n",
       "      <td>THE STEAM DONKEY RESTAURANT</td>\n",
       "      <td>PINECREST</td>\n",
       "      <td>CA</td>\n",
       "      <td>95364</td>\n",
       "      <td>6109.0</td>\n",
       "      <td>TUOLUMNE</td>\n",
       "      <td>CLASSIC &amp; VARIED MENU</td>\n",
       "      <td>5</td>\n",
       "      <td>5 TO 9</td>\n",
       "      <td>5 YEARS PLUS</td>\n",
       "      <td>&lt;=$500,000</td>\n",
       "      <td>$15 TO $20</td>\n",
       "      <td>113584.013152</td>\n",
       "      <td>103641.507876</td>\n",
       "      <td>9942.505276</td>\n",
       "      <td>13937.726637</td>\n",
       "      <td>18310.346758</td>\n",
       "      <td>23658.998157</td>\n",
       "      <td>40433.722372</td>\n",
       "      <td>0.414229</td>\n",
       "    </tr>\n",
       "    <tr>\n",
       "      <th>...</th>\n",
       "      <td>...</td>\n",
       "      <td>...</td>\n",
       "      <td>...</td>\n",
       "      <td>...</td>\n",
       "      <td>...</td>\n",
       "      <td>...</td>\n",
       "      <td>...</td>\n",
       "      <td>...</td>\n",
       "      <td>...</td>\n",
       "      <td>...</td>\n",
       "      <td>...</td>\n",
       "      <td>...</td>\n",
       "      <td>...</td>\n",
       "      <td>...</td>\n",
       "      <td>...</td>\n",
       "      <td>...</td>\n",
       "      <td>...</td>\n",
       "      <td>...</td>\n",
       "      <td>...</td>\n",
       "      <td>...</td>\n",
       "    </tr>\n",
       "    <tr>\n",
       "      <th>991</th>\n",
       "      <td>JAX 5TH AVE DELI &amp; ALE HOUSE</td>\n",
       "      <td>LAKE MARY</td>\n",
       "      <td>FL</td>\n",
       "      <td>32746</td>\n",
       "      <td>12117.0</td>\n",
       "      <td>SEMINOLE</td>\n",
       "      <td>SANDWICHES, SOUPS AND SALADS, DELI, SUBS &amp; HOT...</td>\n",
       "      <td>5</td>\n",
       "      <td>20 TO 49</td>\n",
       "      <td>5 YEARS PLUS</td>\n",
       "      <td>$1,000,001 - $2,500,000</td>\n",
       "      <td>$7 TO $10</td>\n",
       "      <td>351085.824900</td>\n",
       "      <td>308621.721131</td>\n",
       "      <td>42464.103769</td>\n",
       "      <td>48261.377066</td>\n",
       "      <td>49406.061602</td>\n",
       "      <td>64471.587114</td>\n",
       "      <td>112326.785796</td>\n",
       "      <td>0.253210</td>\n",
       "    </tr>\n",
       "    <tr>\n",
       "      <th>992</th>\n",
       "      <td>SUSHI PLACE</td>\n",
       "      <td>BIDDEFORD</td>\n",
       "      <td>ME</td>\n",
       "      <td>4005</td>\n",
       "      <td>23031.0</td>\n",
       "      <td>YORK</td>\n",
       "      <td>OTHER ASIAN</td>\n",
       "      <td>5</td>\n",
       "      <td>1 TO 4</td>\n",
       "      <td>5 YEARS PLUS</td>\n",
       "      <td>&lt;=$500,000</td>\n",
       "      <td>$15 TO $20</td>\n",
       "      <td>36772.724431</td>\n",
       "      <td>34528.519168</td>\n",
       "      <td>2244.205264</td>\n",
       "      <td>5515.060194</td>\n",
       "      <td>7122.912358</td>\n",
       "      <td>5120.521272</td>\n",
       "      <td>13647.652803</td>\n",
       "      <td>0.687224</td>\n",
       "    </tr>\n",
       "    <tr>\n",
       "      <th>993</th>\n",
       "      <td>SUSHIYA</td>\n",
       "      <td>KENNEWICK</td>\n",
       "      <td>WA</td>\n",
       "      <td>99336</td>\n",
       "      <td>53005.0</td>\n",
       "      <td>BENTON</td>\n",
       "      <td>OTHER ASIAN</td>\n",
       "      <td>5</td>\n",
       "      <td>5 TO 9</td>\n",
       "      <td>5 YEARS PLUS</td>\n",
       "      <td>&lt;=$500,000</td>\n",
       "      <td>$20 TO $30</td>\n",
       "      <td>99692.915010</td>\n",
       "      <td>93608.748877</td>\n",
       "      <td>6084.166133</td>\n",
       "      <td>14951.637000</td>\n",
       "      <td>19310.614248</td>\n",
       "      <td>13882.019891</td>\n",
       "      <td>36999.550944</td>\n",
       "      <td>0.961065</td>\n",
       "    </tr>\n",
       "    <tr>\n",
       "      <th>997</th>\n",
       "      <td>REYNOLDS CAFE</td>\n",
       "      <td>NAUGATUCK</td>\n",
       "      <td>CT</td>\n",
       "      <td>6770</td>\n",
       "      <td>9009.0</td>\n",
       "      <td>NEW HAVEN</td>\n",
       "      <td>CLASSIC &amp; VARIED MENU</td>\n",
       "      <td>5</td>\n",
       "      <td>1 TO 4</td>\n",
       "      <td>5 YEARS PLUS</td>\n",
       "      <td>&lt;=$500,000</td>\n",
       "      <td>$15 TO $20</td>\n",
       "      <td>42407.077315</td>\n",
       "      <td>38439.475788</td>\n",
       "      <td>3967.601528</td>\n",
       "      <td>5235.276904</td>\n",
       "      <td>6858.790982</td>\n",
       "      <td>9732.188501</td>\n",
       "      <td>13174.927943</td>\n",
       "      <td>0.302793</td>\n",
       "    </tr>\n",
       "    <tr>\n",
       "      <th>998</th>\n",
       "      <td>PUEBLO VIEJO</td>\n",
       "      <td>PORT SAINT LUCIE</td>\n",
       "      <td>FL</td>\n",
       "      <td>34952</td>\n",
       "      <td>12111.0</td>\n",
       "      <td>SAINT LUCIE</td>\n",
       "      <td>CLASSIC &amp; VARIED MENU</td>\n",
       "      <td>5</td>\n",
       "      <td>5 TO 9</td>\n",
       "      <td>5 YEARS PLUS</td>\n",
       "      <td>&lt;=$500,000</td>\n",
       "      <td>$15 TO $20</td>\n",
       "      <td>89487.281190</td>\n",
       "      <td>81654.068217</td>\n",
       "      <td>7833.212973</td>\n",
       "      <td>10980.852218</td>\n",
       "      <td>14425.825462</td>\n",
       "      <td>18639.765949</td>\n",
       "      <td>31855.749617</td>\n",
       "      <td>0.497217</td>\n",
       "    </tr>\n",
       "  </tbody>\n",
       "</table>\n",
       "<p>545 rows × 20 columns</p>\n",
       "</div>"
      ],
      "text/plain": [
       "                             NAME              CITY STATE    ZIP  COUNTY_CODE  \\\n",
       "1                STANS RESTAURANT       SAN LEANDRO    CA  94577       6001.0   \n",
       "2                     THANH THANH           OAKLAND    CA  94606       6001.0   \n",
       "4                NINNA RESTAURANT           OAKLAND    CA  94611       6001.0   \n",
       "5          BROOKLYN DISCOUNT DELI          BERKELEY    CA  94704       6001.0   \n",
       "9     THE STEAM DONKEY RESTAURANT         PINECREST    CA  95364       6109.0   \n",
       "..                            ...               ...   ...    ...          ...   \n",
       "991  JAX 5TH AVE DELI & ALE HOUSE         LAKE MARY    FL  32746      12117.0   \n",
       "992                   SUSHI PLACE         BIDDEFORD    ME   4005      23031.0   \n",
       "993                       SUSHIYA         KENNEWICK    WA  99336      53005.0   \n",
       "997                 REYNOLDS CAFE         NAUGATUCK    CT   6770       9009.0   \n",
       "998                  PUEBLO VIEJO  PORT SAINT LUCIE    FL  34952      12111.0   \n",
       "\n",
       "     COUNTY_NAME                                    SIMPLIFIED_MENU  UNITS  \\\n",
       "1        ALAMEDA                              CLASSIC & VARIED MENU      5   \n",
       "2        ALAMEDA                              CLASSIC & VARIED MENU      5   \n",
       "4        ALAMEDA                                        OTHER ASIAN      5   \n",
       "5        ALAMEDA  SANDWICHES, SOUPS AND SALADS, DELI, SUBS & HOT...      5   \n",
       "9       TUOLUMNE                              CLASSIC & VARIED MENU      5   \n",
       "..           ...                                                ...    ...   \n",
       "991     SEMINOLE  SANDWICHES, SOUPS AND SALADS, DELI, SUBS & HOT...      5   \n",
       "992         YORK                                        OTHER ASIAN      5   \n",
       "993       BENTON                                        OTHER ASIAN      5   \n",
       "997    NEW HAVEN                              CLASSIC & VARIED MENU      5   \n",
       "998  SAINT LUCIE                              CLASSIC & VARIED MENU      5   \n",
       "\n",
       "    EMPLOYEES YEARS_IN_BUSINESS             ANNUAL_SALES AVERAGE_CHECK  \\\n",
       "1      1 TO 4      5 YEARS PLUS               <=$500,000    $15 TO $20   \n",
       "2      1 TO 4      5 YEARS PLUS               <=$500,000    $15 TO $20   \n",
       "4      1 TO 4      5 YEARS PLUS               <=$500,000    $15 TO $20   \n",
       "5      1 TO 4      5 YEARS PLUS               <=$500,000     $7 TO $10   \n",
       "9      5 TO 9      5 YEARS PLUS               <=$500,000    $15 TO $20   \n",
       "..        ...               ...                      ...           ...   \n",
       "991  20 TO 49      5 YEARS PLUS  $1,000,001 - $2,500,000     $7 TO $10   \n",
       "992    1 TO 4      5 YEARS PLUS               <=$500,000    $15 TO $20   \n",
       "993    5 TO 9      5 YEARS PLUS               <=$500,000    $20 TO $30   \n",
       "997    1 TO 4      5 YEARS PLUS               <=$500,000    $15 TO $20   \n",
       "998    5 TO 9      5 YEARS PLUS               <=$500,000    $15 TO $20   \n",
       "\n",
       "     FOOD_BEVERAGE_PURCHASE  FOOD_PURCHASE  BEVERAGE_PURCHASE  \\\n",
       "1              39742.939174   36264.065946        3478.873227   \n",
       "2              39742.939174   36264.065946        3478.873227   \n",
       "4              42645.370261   40042.762870        2602.607391   \n",
       "5              46966.770000   41868.111834        5098.658166   \n",
       "9             113584.013152  103641.507876        9942.505276   \n",
       "..                      ...            ...                ...   \n",
       "991           351085.824900  308621.721131       42464.103769   \n",
       "992            36772.724431   34528.519168        2244.205264   \n",
       "993            99692.915010   93608.748877        6084.166133   \n",
       "997            42407.077315   38439.475788        3967.601528   \n",
       "998            89487.281190   81654.068217        7833.212973   \n",
       "\n",
       "     TOTAL_CATEGORY_DRY  TOTAL_CATEGORY_FRESH  TOTAL_CATEGORY_FROZEN  \\\n",
       "1           4876.797417           6406.773077            8278.261162   \n",
       "2           4876.797417           6406.773077            8278.261162   \n",
       "4           6395.821567           8260.449546            5938.274331   \n",
       "5           5571.577184           6591.308817            9054.428704   \n",
       "9          13937.726637          18310.346758           23658.998157   \n",
       "..                  ...                   ...                    ...   \n",
       "991        48261.377066          49406.061602           64471.587114   \n",
       "992         5515.060194           7122.912358            5120.521272   \n",
       "993        14951.637000          19310.614248           13882.019891   \n",
       "997         5235.276904           6858.790982            9732.188501   \n",
       "998        10980.852218          14425.825462           18639.765949   \n",
       "\n",
       "     TOTAL_CATEGORY_PROTEIN  % Share of F&B Purchases from Company  \n",
       "1              14147.721358                               0.339348  \n",
       "2              14147.721358                               0.646409  \n",
       "4              15827.198446                               0.655083  \n",
       "5              16690.100352                               0.780505  \n",
       "9              40433.722372                               0.414229  \n",
       "..                      ...                                    ...  \n",
       "991           112326.785796                               0.253210  \n",
       "992            13647.652803                               0.687224  \n",
       "993            36999.550944                               0.961065  \n",
       "997            13174.927943                               0.302793  \n",
       "998            31855.749617                               0.497217  \n",
       "\n",
       "[545 rows x 20 columns]"
      ]
     },
     "execution_count": 24,
     "metadata": {},
     "output_type": "execute_result"
    }
   ],
   "source": [
    "#The UNKNOWN employee rows have 5LabelEncoding as UNITS, therefore conting the ones whose units = 5,\n",
    "df[df.UNITS == 5]"
   ]
  },
  {
   "cell_type": "code",
   "execution_count": 25,
   "id": "68f8e816",
   "metadata": {},
   "outputs": [],
   "source": [
    "# givinng variable name un5 to Units = 5 , datafield\n",
    "un5 = df[df.UNITS == 5]"
   ]
  },
  {
   "cell_type": "code",
   "execution_count": 26,
   "id": "1b9bc16c",
   "metadata": {},
   "outputs": [
    {
     "data": {
      "text/plain": [
       "5 TO 9      198\n",
       "10 TO 19    165\n",
       "1 TO 4      128\n",
       "20 TO 49     35\n",
       "OVER 50      16\n",
       "UNKNOWN       3\n",
       "Name: EMPLOYEES, dtype: int64"
      ]
     },
     "execution_count": 26,
     "metadata": {},
     "output_type": "execute_result"
    }
   ],
   "source": [
    "#here we can easily see that 5TO9 was the top count for UNITs = 5(1-9Units)\n",
    "un5['EMPLOYEES'].value_counts()"
   ]
  },
  {
   "cell_type": "code",
   "execution_count": 27,
   "id": "5a0d4796",
   "metadata": {},
   "outputs": [],
   "source": [
    "#As we can see from above code 5 TO 9 counts is the max used \n",
    "# therefore replacing UNKNOWN with (5 to 9)\n",
    "# \n",
    "df.EMPLOYEES = df.EMPLOYEES.replace('UNKNOWN', '5 TO 9')"
   ]
  },
  {
   "cell_type": "code",
   "execution_count": 28,
   "id": "b04753eb",
   "metadata": {},
   "outputs": [
    {
     "data": {
      "text/plain": [
       "array(['OVER 50', '1 TO 4', '20 TO 49', '10 TO 19', '5 TO 9'],\n",
       "      dtype=object)"
      ]
     },
     "execution_count": 28,
     "metadata": {},
     "output_type": "execute_result"
    }
   ],
   "source": [
    "#Now check the value replaced with 5 TO 9 :\n",
    "df.EMPLOYEES.unique()\n",
    "#Correctly changed unknown values"
   ]
  },
  {
   "cell_type": "code",
   "execution_count": 29,
   "id": "844b0dcc",
   "metadata": {},
   "outputs": [],
   "source": [
    "#Again performing Label encoding to the no of Employee columns\n",
    "df.EMPLOYEES = le.fit_transform(df['EMPLOYEES'])"
   ]
  },
  {
   "cell_type": "code",
   "execution_count": 30,
   "id": "721b9eca",
   "metadata": {},
   "outputs": [
    {
     "data": {
      "text/plain": [
       "array([4, 0, 2, 1, 3])"
      ]
     },
     "execution_count": 30,
     "metadata": {},
     "output_type": "execute_result"
    }
   ],
   "source": [
    "#checking label encoding\n",
    "\n",
    "#'OVER 50' = 4, '1 TO 4' = 0, '20 TO 49' = 2, '10 TO 19' = 1, '5 TO 9' = 3\n",
    "\n",
    "df.EMPLOYEES.unique()"
   ]
  },
  {
   "cell_type": "code",
   "execution_count": 31,
   "id": "d2a61615",
   "metadata": {},
   "outputs": [
    {
     "data": {
      "text/html": [
       "<div>\n",
       "<style scoped>\n",
       "    .dataframe tbody tr th:only-of-type {\n",
       "        vertical-align: middle;\n",
       "    }\n",
       "\n",
       "    .dataframe tbody tr th {\n",
       "        vertical-align: top;\n",
       "    }\n",
       "\n",
       "    .dataframe thead th {\n",
       "        text-align: right;\n",
       "    }\n",
       "</style>\n",
       "<table border=\"1\" class=\"dataframe\">\n",
       "  <thead>\n",
       "    <tr style=\"text-align: right;\">\n",
       "      <th></th>\n",
       "      <th>NAME</th>\n",
       "      <th>CITY</th>\n",
       "      <th>STATE</th>\n",
       "      <th>ZIP</th>\n",
       "      <th>COUNTY_CODE</th>\n",
       "      <th>COUNTY_NAME</th>\n",
       "      <th>SIMPLIFIED_MENU</th>\n",
       "      <th>UNITS</th>\n",
       "      <th>EMPLOYEES</th>\n",
       "      <th>YEARS_IN_BUSINESS</th>\n",
       "      <th>ANNUAL_SALES</th>\n",
       "      <th>AVERAGE_CHECK</th>\n",
       "      <th>FOOD_BEVERAGE_PURCHASE</th>\n",
       "      <th>FOOD_PURCHASE</th>\n",
       "      <th>BEVERAGE_PURCHASE</th>\n",
       "      <th>TOTAL_CATEGORY_DRY</th>\n",
       "      <th>TOTAL_CATEGORY_FRESH</th>\n",
       "      <th>TOTAL_CATEGORY_FROZEN</th>\n",
       "      <th>TOTAL_CATEGORY_PROTEIN</th>\n",
       "      <th>% Share of F&amp;B Purchases from Company</th>\n",
       "    </tr>\n",
       "  </thead>\n",
       "  <tbody>\n",
       "    <tr>\n",
       "      <th>0</th>\n",
       "      <td>APPLEBEE'S</td>\n",
       "      <td>POTTSTOWN</td>\n",
       "      <td>PA</td>\n",
       "      <td>19464</td>\n",
       "      <td>42091.0</td>\n",
       "      <td>MONTGOMERY</td>\n",
       "      <td>CLASSIC &amp; VARIED MENU</td>\n",
       "      <td>3</td>\n",
       "      <td>4</td>\n",
       "      <td>5 YEARS PLUS</td>\n",
       "      <td>$1,000,001 - $2,500,000</td>\n",
       "      <td>$10 TO $15</td>\n",
       "      <td>597290.100988</td>\n",
       "      <td>545006.687015</td>\n",
       "      <td>52283.413973</td>\n",
       "      <td>73292.586865</td>\n",
       "      <td>96286.339607</td>\n",
       "      <td>124412.626443</td>\n",
       "      <td>212623.779075</td>\n",
       "      <td>0.578681</td>\n",
       "    </tr>\n",
       "    <tr>\n",
       "      <th>1</th>\n",
       "      <td>STANS RESTAURANT</td>\n",
       "      <td>SAN LEANDRO</td>\n",
       "      <td>CA</td>\n",
       "      <td>94577</td>\n",
       "      <td>6001.0</td>\n",
       "      <td>ALAMEDA</td>\n",
       "      <td>CLASSIC &amp; VARIED MENU</td>\n",
       "      <td>5</td>\n",
       "      <td>0</td>\n",
       "      <td>5 YEARS PLUS</td>\n",
       "      <td>&lt;=$500,000</td>\n",
       "      <td>$15 TO $20</td>\n",
       "      <td>39742.939174</td>\n",
       "      <td>36264.065946</td>\n",
       "      <td>3478.873227</td>\n",
       "      <td>4876.797417</td>\n",
       "      <td>6406.773077</td>\n",
       "      <td>8278.261162</td>\n",
       "      <td>14147.721358</td>\n",
       "      <td>0.339348</td>\n",
       "    </tr>\n",
       "    <tr>\n",
       "      <th>2</th>\n",
       "      <td>THANH THANH</td>\n",
       "      <td>OAKLAND</td>\n",
       "      <td>CA</td>\n",
       "      <td>94606</td>\n",
       "      <td>6001.0</td>\n",
       "      <td>ALAMEDA</td>\n",
       "      <td>CLASSIC &amp; VARIED MENU</td>\n",
       "      <td>5</td>\n",
       "      <td>0</td>\n",
       "      <td>5 YEARS PLUS</td>\n",
       "      <td>&lt;=$500,000</td>\n",
       "      <td>$15 TO $20</td>\n",
       "      <td>39742.939174</td>\n",
       "      <td>36264.065946</td>\n",
       "      <td>3478.873227</td>\n",
       "      <td>4876.797417</td>\n",
       "      <td>6406.773077</td>\n",
       "      <td>8278.261162</td>\n",
       "      <td>14147.721358</td>\n",
       "      <td>0.646409</td>\n",
       "    </tr>\n",
       "    <tr>\n",
       "      <th>3</th>\n",
       "      <td>DOMINO'S PIZZA</td>\n",
       "      <td>WENDELL</td>\n",
       "      <td>NC</td>\n",
       "      <td>27591</td>\n",
       "      <td>37183.0</td>\n",
       "      <td>WAKE</td>\n",
       "      <td>PIZZA, PASTA &amp; ITALIAN</td>\n",
       "      <td>3</td>\n",
       "      <td>2</td>\n",
       "      <td>5 YEARS PLUS</td>\n",
       "      <td>$500,001 - $1,000,000</td>\n",
       "      <td>$7 TO $10</td>\n",
       "      <td>282606.140700</td>\n",
       "      <td>231329.707646</td>\n",
       "      <td>51276.433054</td>\n",
       "      <td>49474.097973</td>\n",
       "      <td>27035.026215</td>\n",
       "      <td>58876.279313</td>\n",
       "      <td>53078.768135</td>\n",
       "      <td>0.797020</td>\n",
       "    </tr>\n",
       "    <tr>\n",
       "      <th>4</th>\n",
       "      <td>NINNA RESTAURANT</td>\n",
       "      <td>OAKLAND</td>\n",
       "      <td>CA</td>\n",
       "      <td>94611</td>\n",
       "      <td>6001.0</td>\n",
       "      <td>ALAMEDA</td>\n",
       "      <td>OTHER ASIAN</td>\n",
       "      <td>5</td>\n",
       "      <td>0</td>\n",
       "      <td>5 YEARS PLUS</td>\n",
       "      <td>&lt;=$500,000</td>\n",
       "      <td>$15 TO $20</td>\n",
       "      <td>42645.370261</td>\n",
       "      <td>40042.762870</td>\n",
       "      <td>2602.607391</td>\n",
       "      <td>6395.821567</td>\n",
       "      <td>8260.449546</td>\n",
       "      <td>5938.274331</td>\n",
       "      <td>15827.198446</td>\n",
       "      <td>0.655083</td>\n",
       "    </tr>\n",
       "    <tr>\n",
       "      <th>5</th>\n",
       "      <td>BROOKLYN DISCOUNT DELI</td>\n",
       "      <td>BERKELEY</td>\n",
       "      <td>CA</td>\n",
       "      <td>94704</td>\n",
       "      <td>6001.0</td>\n",
       "      <td>ALAMEDA</td>\n",
       "      <td>SANDWICHES, SOUPS AND SALADS, DELI, SUBS &amp; HOT...</td>\n",
       "      <td>5</td>\n",
       "      <td>0</td>\n",
       "      <td>5 YEARS PLUS</td>\n",
       "      <td>&lt;=$500,000</td>\n",
       "      <td>$7 TO $10</td>\n",
       "      <td>46966.770000</td>\n",
       "      <td>41868.111834</td>\n",
       "      <td>5098.658166</td>\n",
       "      <td>5571.577184</td>\n",
       "      <td>6591.308817</td>\n",
       "      <td>9054.428704</td>\n",
       "      <td>16690.100352</td>\n",
       "      <td>0.780505</td>\n",
       "    </tr>\n",
       "    <tr>\n",
       "      <th>6</th>\n",
       "      <td>BOJANGLES' FAMOUS CHICKEN 'N BISCUITS</td>\n",
       "      <td>RALEIGH</td>\n",
       "      <td>NC</td>\n",
       "      <td>27604</td>\n",
       "      <td>37183.0</td>\n",
       "      <td>WAKE</td>\n",
       "      <td>CHICKEN</td>\n",
       "      <td>3</td>\n",
       "      <td>4</td>\n",
       "      <td>5 YEARS PLUS</td>\n",
       "      <td>$1,000,001 - $2,500,000</td>\n",
       "      <td>$5 TO $7</td>\n",
       "      <td>564695.533800</td>\n",
       "      <td>467485.441404</td>\n",
       "      <td>97210.092396</td>\n",
       "      <td>93793.217443</td>\n",
       "      <td>51253.124286</td>\n",
       "      <td>111617.915112</td>\n",
       "      <td>129556.508612</td>\n",
       "      <td>0.135044</td>\n",
       "    </tr>\n",
       "    <tr>\n",
       "      <th>7</th>\n",
       "      <td>STARBUCKS</td>\n",
       "      <td>SAN RAFAEL</td>\n",
       "      <td>CA</td>\n",
       "      <td>94901</td>\n",
       "      <td>6041.0</td>\n",
       "      <td>MARIN</td>\n",
       "      <td>BEVERAGES</td>\n",
       "      <td>3</td>\n",
       "      <td>1</td>\n",
       "      <td>5 YEARS PLUS</td>\n",
       "      <td>$500,001 - $1,000,000</td>\n",
       "      <td>UNDER $5</td>\n",
       "      <td>194680.105200</td>\n",
       "      <td>136081.393535</td>\n",
       "      <td>58598.711665</td>\n",
       "      <td>52563.628404</td>\n",
       "      <td>25113.733571</td>\n",
       "      <td>23361.612624</td>\n",
       "      <td>0.000000</td>\n",
       "      <td>0.980680</td>\n",
       "    </tr>\n",
       "  </tbody>\n",
       "</table>\n",
       "</div>"
      ],
      "text/plain": [
       "                                    NAME         CITY STATE    ZIP  \\\n",
       "0                             APPLEBEE'S    POTTSTOWN    PA  19464   \n",
       "1                       STANS RESTAURANT  SAN LEANDRO    CA  94577   \n",
       "2                            THANH THANH      OAKLAND    CA  94606   \n",
       "3                         DOMINO'S PIZZA      WENDELL    NC  27591   \n",
       "4                       NINNA RESTAURANT      OAKLAND    CA  94611   \n",
       "5                 BROOKLYN DISCOUNT DELI     BERKELEY    CA  94704   \n",
       "6  BOJANGLES' FAMOUS CHICKEN 'N BISCUITS      RALEIGH    NC  27604   \n",
       "7                              STARBUCKS   SAN RAFAEL    CA  94901   \n",
       "\n",
       "   COUNTY_CODE COUNTY_NAME                                    SIMPLIFIED_MENU  \\\n",
       "0      42091.0  MONTGOMERY                              CLASSIC & VARIED MENU   \n",
       "1       6001.0     ALAMEDA                              CLASSIC & VARIED MENU   \n",
       "2       6001.0     ALAMEDA                              CLASSIC & VARIED MENU   \n",
       "3      37183.0        WAKE                             PIZZA, PASTA & ITALIAN   \n",
       "4       6001.0     ALAMEDA                                        OTHER ASIAN   \n",
       "5       6001.0     ALAMEDA  SANDWICHES, SOUPS AND SALADS, DELI, SUBS & HOT...   \n",
       "6      37183.0        WAKE                                            CHICKEN   \n",
       "7       6041.0       MARIN                                          BEVERAGES   \n",
       "\n",
       "   UNITS  EMPLOYEES YEARS_IN_BUSINESS             ANNUAL_SALES AVERAGE_CHECK  \\\n",
       "0      3          4      5 YEARS PLUS  $1,000,001 - $2,500,000    $10 TO $15   \n",
       "1      5          0      5 YEARS PLUS               <=$500,000    $15 TO $20   \n",
       "2      5          0      5 YEARS PLUS               <=$500,000    $15 TO $20   \n",
       "3      3          2      5 YEARS PLUS    $500,001 - $1,000,000     $7 TO $10   \n",
       "4      5          0      5 YEARS PLUS               <=$500,000    $15 TO $20   \n",
       "5      5          0      5 YEARS PLUS               <=$500,000     $7 TO $10   \n",
       "6      3          4      5 YEARS PLUS  $1,000,001 - $2,500,000      $5 TO $7   \n",
       "7      3          1      5 YEARS PLUS    $500,001 - $1,000,000      UNDER $5   \n",
       "\n",
       "   FOOD_BEVERAGE_PURCHASE  FOOD_PURCHASE  BEVERAGE_PURCHASE  \\\n",
       "0           597290.100988  545006.687015       52283.413973   \n",
       "1            39742.939174   36264.065946        3478.873227   \n",
       "2            39742.939174   36264.065946        3478.873227   \n",
       "3           282606.140700  231329.707646       51276.433054   \n",
       "4            42645.370261   40042.762870        2602.607391   \n",
       "5            46966.770000   41868.111834        5098.658166   \n",
       "6           564695.533800  467485.441404       97210.092396   \n",
       "7           194680.105200  136081.393535       58598.711665   \n",
       "\n",
       "   TOTAL_CATEGORY_DRY  TOTAL_CATEGORY_FRESH  TOTAL_CATEGORY_FROZEN  \\\n",
       "0        73292.586865          96286.339607          124412.626443   \n",
       "1         4876.797417           6406.773077            8278.261162   \n",
       "2         4876.797417           6406.773077            8278.261162   \n",
       "3        49474.097973          27035.026215           58876.279313   \n",
       "4         6395.821567           8260.449546            5938.274331   \n",
       "5         5571.577184           6591.308817            9054.428704   \n",
       "6        93793.217443          51253.124286          111617.915112   \n",
       "7        52563.628404          25113.733571           23361.612624   \n",
       "\n",
       "   TOTAL_CATEGORY_PROTEIN  % Share of F&B Purchases from Company  \n",
       "0           212623.779075                               0.578681  \n",
       "1            14147.721358                               0.339348  \n",
       "2            14147.721358                               0.646409  \n",
       "3            53078.768135                               0.797020  \n",
       "4            15827.198446                               0.655083  \n",
       "5            16690.100352                               0.780505  \n",
       "6           129556.508612                               0.135044  \n",
       "7                0.000000                               0.980680  "
      ]
     },
     "execution_count": 31,
     "metadata": {},
     "output_type": "execute_result"
    }
   ],
   "source": [
    "df.head(8)"
   ]
  },
  {
   "cell_type": "code",
   "execution_count": 32,
   "id": "f173576d",
   "metadata": {},
   "outputs": [
    {
     "name": "stdout",
     "output_type": "stream",
     "text": [
      "<class 'pandas.core.frame.DataFrame'>\n",
      "Int64Index: 888 entries, 0 to 999\n",
      "Data columns (total 20 columns):\n",
      " #   Column                                 Non-Null Count  Dtype  \n",
      "---  ------                                 --------------  -----  \n",
      " 0   NAME                                   888 non-null    object \n",
      " 1   CITY                                   888 non-null    object \n",
      " 2   STATE                                  888 non-null    object \n",
      " 3   ZIP                                    888 non-null    int64  \n",
      " 4   COUNTY_CODE                            888 non-null    float64\n",
      " 5   COUNTY_NAME                            888 non-null    object \n",
      " 6   SIMPLIFIED_MENU                        888 non-null    object \n",
      " 7   UNITS                                  888 non-null    int32  \n",
      " 8   EMPLOYEES                              888 non-null    int32  \n",
      " 9   YEARS_IN_BUSINESS                      888 non-null    object \n",
      " 10  ANNUAL_SALES                           888 non-null    object \n",
      " 11  AVERAGE_CHECK                          888 non-null    object \n",
      " 12  FOOD_BEVERAGE_PURCHASE                 888 non-null    float64\n",
      " 13  FOOD_PURCHASE                          888 non-null    float64\n",
      " 14  BEVERAGE_PURCHASE                      888 non-null    float64\n",
      " 15  TOTAL_CATEGORY_DRY                     888 non-null    float64\n",
      " 16  TOTAL_CATEGORY_FRESH                   888 non-null    float64\n",
      " 17  TOTAL_CATEGORY_FROZEN                  888 non-null    float64\n",
      " 18  TOTAL_CATEGORY_PROTEIN                 888 non-null    float64\n",
      " 19  % Share of F&B Purchases from Company  888 non-null    float64\n",
      "dtypes: float64(9), int32(2), int64(1), object(8)\n",
      "memory usage: 138.8+ KB\n"
     ]
    }
   ],
   "source": [
    "df.info()"
   ]
  },
  {
   "cell_type": "code",
   "execution_count": 33,
   "id": "1ff18925",
   "metadata": {},
   "outputs": [
    {
     "data": {
      "text/plain": [
       "array(['5 YEARS PLUS', '2 TO 5 YEARS'], dtype=object)"
      ]
     },
     "execution_count": 33,
     "metadata": {},
     "output_type": "execute_result"
    }
   ],
   "source": [
    "df.YEARS_IN_BUSINESS.unique()"
   ]
  },
  {
   "cell_type": "code",
   "execution_count": 34,
   "id": "bb1ae452",
   "metadata": {},
   "outputs": [],
   "source": [
    "#Label encoding the Year in businees column\n",
    "# 2 to 5 = 0\n",
    "# 5 yr plus = 1\n",
    "df.YEARS_IN_BUSINESS = le.fit_transform(df.YEARS_IN_BUSINESS)"
   ]
  },
  {
   "cell_type": "code",
   "execution_count": 35,
   "id": "120f5d8c",
   "metadata": {},
   "outputs": [
    {
     "data": {
      "text/plain": [
       "array(['$1,000,001 - $2,500,000', '<=$500,000', '$500,001 - $1,000,000',\n",
       "       '$2,500,001 - $5,000,000', '>$5,000,000'], dtype=object)"
      ]
     },
     "execution_count": 35,
     "metadata": {},
     "output_type": "execute_result"
    }
   ],
   "source": [
    "df.ANNUAL_SALES.unique()"
   ]
  },
  {
   "cell_type": "code",
   "execution_count": null,
   "id": "ad831bf1",
   "metadata": {},
   "outputs": [],
   "source": []
  },
  {
   "cell_type": "code",
   "execution_count": 36,
   "id": "6a8aeef9",
   "metadata": {},
   "outputs": [],
   "source": [
    "# Replacing annual sales value to numeric type values rather than chosing LabelEncoding, i replaced value self for better\n",
    "# understanding"
   ]
  },
  {
   "cell_type": "code",
   "execution_count": 37,
   "id": "8a7a50ca",
   "metadata": {},
   "outputs": [],
   "source": [
    "df.ANNUAL_SALES = df.ANNUAL_SALES.replace('<=$500,000', 0)\n",
    "df.ANNUAL_SALES = df.ANNUAL_SALES.replace('$500,001 - $1,000,000', 1)\n",
    "df.ANNUAL_SALES = df.ANNUAL_SALES.replace('$1,000,001 - $2,500,000', 2)\n",
    "df.ANNUAL_SALES = df.ANNUAL_SALES.replace('$2,500,001 - $5,000,000', 3)\n",
    "df.ANNUAL_SALES = df.ANNUAL_SALES.replace('>$5,000,000', 4)\n"
   ]
  },
  {
   "cell_type": "code",
   "execution_count": 38,
   "id": "f25b6a36",
   "metadata": {},
   "outputs": [
    {
     "data": {
      "text/plain": [
       "array([2, 0, 1, 3, 4], dtype=int64)"
      ]
     },
     "execution_count": 38,
     "metadata": {},
     "output_type": "execute_result"
    }
   ],
   "source": [
    "df.ANNUAL_SALES.unique()"
   ]
  },
  {
   "cell_type": "code",
   "execution_count": 39,
   "id": "b7c03ea2",
   "metadata": {},
   "outputs": [
    {
     "data": {
      "text/plain": [
       "array(['$10 TO $15', '$15 TO $20', '$7 TO $10', '$5 TO $7', 'UNDER $5',\n",
       "       '$30 TO $50', '$50 TO $75', '$20 TO $30', 'UNCODED'], dtype=object)"
      ]
     },
     "execution_count": 39,
     "metadata": {},
     "output_type": "execute_result"
    }
   ],
   "source": [
    "df.AVERAGE_CHECK.unique()"
   ]
  },
  {
   "cell_type": "code",
   "execution_count": 40,
   "id": "d7cd4bce",
   "metadata": {},
   "outputs": [
    {
     "data": {
      "text/html": [
       "<div>\n",
       "<style scoped>\n",
       "    .dataframe tbody tr th:only-of-type {\n",
       "        vertical-align: middle;\n",
       "    }\n",
       "\n",
       "    .dataframe tbody tr th {\n",
       "        vertical-align: top;\n",
       "    }\n",
       "\n",
       "    .dataframe thead th {\n",
       "        text-align: right;\n",
       "    }\n",
       "</style>\n",
       "<table border=\"1\" class=\"dataframe\">\n",
       "  <thead>\n",
       "    <tr style=\"text-align: right;\">\n",
       "      <th></th>\n",
       "      <th>NAME</th>\n",
       "      <th>CITY</th>\n",
       "      <th>STATE</th>\n",
       "      <th>ZIP</th>\n",
       "      <th>COUNTY_CODE</th>\n",
       "      <th>COUNTY_NAME</th>\n",
       "      <th>SIMPLIFIED_MENU</th>\n",
       "      <th>UNITS</th>\n",
       "      <th>EMPLOYEES</th>\n",
       "      <th>YEARS_IN_BUSINESS</th>\n",
       "      <th>ANNUAL_SALES</th>\n",
       "      <th>AVERAGE_CHECK</th>\n",
       "      <th>FOOD_BEVERAGE_PURCHASE</th>\n",
       "      <th>FOOD_PURCHASE</th>\n",
       "      <th>BEVERAGE_PURCHASE</th>\n",
       "      <th>TOTAL_CATEGORY_DRY</th>\n",
       "      <th>TOTAL_CATEGORY_FRESH</th>\n",
       "      <th>TOTAL_CATEGORY_FROZEN</th>\n",
       "      <th>TOTAL_CATEGORY_PROTEIN</th>\n",
       "      <th>% Share of F&amp;B Purchases from Company</th>\n",
       "    </tr>\n",
       "  </thead>\n",
       "  <tbody>\n",
       "    <tr>\n",
       "      <th>769</th>\n",
       "      <td>BIG POPY'S DELI</td>\n",
       "      <td>BAKERSFIELD</td>\n",
       "      <td>CA</td>\n",
       "      <td>93301</td>\n",
       "      <td>6029.0</td>\n",
       "      <td>KERN</td>\n",
       "      <td>SANDWICHES, SOUPS AND SALADS, DELI, SUBS &amp; HOT...</td>\n",
       "      <td>5</td>\n",
       "      <td>3</td>\n",
       "      <td>0</td>\n",
       "      <td>0</td>\n",
       "      <td>UNCODED</td>\n",
       "      <td>112069.9116</td>\n",
       "      <td>99903.731769</td>\n",
       "      <td>12166.179831</td>\n",
       "      <td>13294.63709</td>\n",
       "      <td>15727.873057</td>\n",
       "      <td>21605.254617</td>\n",
       "      <td>39825.137456</td>\n",
       "      <td>0.584849</td>\n",
       "    </tr>\n",
       "  </tbody>\n",
       "</table>\n",
       "</div>"
      ],
      "text/plain": [
       "                NAME         CITY STATE    ZIP  COUNTY_CODE COUNTY_NAME  \\\n",
       "769  BIG POPY'S DELI  BAKERSFIELD    CA  93301       6029.0        KERN   \n",
       "\n",
       "                                       SIMPLIFIED_MENU  UNITS  EMPLOYEES  \\\n",
       "769  SANDWICHES, SOUPS AND SALADS, DELI, SUBS & HOT...      5          3   \n",
       "\n",
       "     YEARS_IN_BUSINESS  ANNUAL_SALES AVERAGE_CHECK  FOOD_BEVERAGE_PURCHASE  \\\n",
       "769                  0             0       UNCODED             112069.9116   \n",
       "\n",
       "     FOOD_PURCHASE  BEVERAGE_PURCHASE  TOTAL_CATEGORY_DRY  \\\n",
       "769   99903.731769       12166.179831         13294.63709   \n",
       "\n",
       "     TOTAL_CATEGORY_FRESH  TOTAL_CATEGORY_FROZEN  TOTAL_CATEGORY_PROTEIN  \\\n",
       "769          15727.873057           21605.254617            39825.137456   \n",
       "\n",
       "     % Share of F&B Purchases from Company  \n",
       "769                               0.584849  "
      ]
     },
     "execution_count": 40,
     "metadata": {},
     "output_type": "execute_result"
    }
   ],
   "source": [
    "df[df.AVERAGE_CHECK == 'UNCODED']"
   ]
  },
  {
   "cell_type": "code",
   "execution_count": 41,
   "id": "c45c63de",
   "metadata": {},
   "outputs": [
    {
     "data": {
      "text/plain": [
       "$15 TO $20    246\n",
       "$7 TO $10     228\n",
       "$5 TO $7      188\n",
       "$10 TO $15    113\n",
       "UNDER $5       58\n",
       "$30 TO $50     37\n",
       "$20 TO $30      9\n",
       "$50 TO $75      8\n",
       "UNCODED         1\n",
       "Name: AVERAGE_CHECK, dtype: int64"
      ]
     },
     "execution_count": 41,
     "metadata": {},
     "output_type": "execute_result"
    }
   ],
   "source": [
    "df.AVERAGE_CHECK.value_counts()"
   ]
  },
  {
   "cell_type": "code",
   "execution_count": 42,
   "id": "70d4584b",
   "metadata": {},
   "outputs": [],
   "source": [
    "# replaced UNCODED withh null and deleting the null row\n",
    "df.AVERAGE_CHECK = df.AVERAGE_CHECK.replace(\"UNCODED\", np.nan)\n",
    "df = df.dropna()"
   ]
  },
  {
   "cell_type": "code",
   "execution_count": 43,
   "id": "c5e98eda",
   "metadata": {},
   "outputs": [],
   "source": [
    "# Label encoding the average_check column for better anlysis\n",
    "# ['$10 TO $15' = 0, '$15 TO $20' = 1, '$7 TO $10' = 6, '$5 TO $7' = 4, 'UNDER $5' = 7,\n",
    "#       '$30 TO $50' = 3, '$50 TO $75' = 5, '$20 TO $30' = 2\n",
    "#[0, 1, 6, 4, 7, 3, 5, 2]\n",
    "df.AVERAGE_CHECK = le.fit_transform(df.AVERAGE_CHECK)"
   ]
  },
  {
   "cell_type": "code",
   "execution_count": 44,
   "id": "dd36fd06",
   "metadata": {},
   "outputs": [
    {
     "data": {
      "text/plain": [
       "array([0, 1, 6, 4, 7, 3, 5, 2])"
      ]
     },
     "execution_count": 44,
     "metadata": {},
     "output_type": "execute_result"
    }
   ],
   "source": [
    "df.AVERAGE_CHECK.unique()"
   ]
  },
  {
   "cell_type": "code",
   "execution_count": 45,
   "id": "40db2a8d",
   "metadata": {},
   "outputs": [
    {
     "data": {
      "text/html": [
       "<div>\n",
       "<style scoped>\n",
       "    .dataframe tbody tr th:only-of-type {\n",
       "        vertical-align: middle;\n",
       "    }\n",
       "\n",
       "    .dataframe tbody tr th {\n",
       "        vertical-align: top;\n",
       "    }\n",
       "\n",
       "    .dataframe thead th {\n",
       "        text-align: right;\n",
       "    }\n",
       "</style>\n",
       "<table border=\"1\" class=\"dataframe\">\n",
       "  <thead>\n",
       "    <tr style=\"text-align: right;\">\n",
       "      <th></th>\n",
       "      <th>NAME</th>\n",
       "      <th>CITY</th>\n",
       "      <th>STATE</th>\n",
       "      <th>ZIP</th>\n",
       "      <th>COUNTY_CODE</th>\n",
       "      <th>COUNTY_NAME</th>\n",
       "      <th>SIMPLIFIED_MENU</th>\n",
       "      <th>UNITS</th>\n",
       "      <th>EMPLOYEES</th>\n",
       "      <th>YEARS_IN_BUSINESS</th>\n",
       "      <th>ANNUAL_SALES</th>\n",
       "      <th>AVERAGE_CHECK</th>\n",
       "      <th>FOOD_BEVERAGE_PURCHASE</th>\n",
       "      <th>FOOD_PURCHASE</th>\n",
       "      <th>BEVERAGE_PURCHASE</th>\n",
       "      <th>TOTAL_CATEGORY_DRY</th>\n",
       "      <th>TOTAL_CATEGORY_FRESH</th>\n",
       "      <th>TOTAL_CATEGORY_FROZEN</th>\n",
       "      <th>TOTAL_CATEGORY_PROTEIN</th>\n",
       "      <th>% Share of F&amp;B Purchases from Company</th>\n",
       "    </tr>\n",
       "  </thead>\n",
       "  <tbody>\n",
       "    <tr>\n",
       "      <th>0</th>\n",
       "      <td>APPLEBEE'S</td>\n",
       "      <td>POTTSTOWN</td>\n",
       "      <td>PA</td>\n",
       "      <td>19464</td>\n",
       "      <td>42091.0</td>\n",
       "      <td>MONTGOMERY</td>\n",
       "      <td>CLASSIC &amp; VARIED MENU</td>\n",
       "      <td>3</td>\n",
       "      <td>4</td>\n",
       "      <td>1</td>\n",
       "      <td>2</td>\n",
       "      <td>0</td>\n",
       "      <td>597290.100988</td>\n",
       "      <td>545006.687015</td>\n",
       "      <td>52283.413973</td>\n",
       "      <td>73292.586865</td>\n",
       "      <td>96286.339607</td>\n",
       "      <td>124412.626443</td>\n",
       "      <td>212623.779075</td>\n",
       "      <td>0.578681</td>\n",
       "    </tr>\n",
       "    <tr>\n",
       "      <th>1</th>\n",
       "      <td>STANS RESTAURANT</td>\n",
       "      <td>SAN LEANDRO</td>\n",
       "      <td>CA</td>\n",
       "      <td>94577</td>\n",
       "      <td>6001.0</td>\n",
       "      <td>ALAMEDA</td>\n",
       "      <td>CLASSIC &amp; VARIED MENU</td>\n",
       "      <td>5</td>\n",
       "      <td>0</td>\n",
       "      <td>1</td>\n",
       "      <td>0</td>\n",
       "      <td>1</td>\n",
       "      <td>39742.939174</td>\n",
       "      <td>36264.065946</td>\n",
       "      <td>3478.873227</td>\n",
       "      <td>4876.797417</td>\n",
       "      <td>6406.773077</td>\n",
       "      <td>8278.261162</td>\n",
       "      <td>14147.721358</td>\n",
       "      <td>0.339348</td>\n",
       "    </tr>\n",
       "    <tr>\n",
       "      <th>2</th>\n",
       "      <td>THANH THANH</td>\n",
       "      <td>OAKLAND</td>\n",
       "      <td>CA</td>\n",
       "      <td>94606</td>\n",
       "      <td>6001.0</td>\n",
       "      <td>ALAMEDA</td>\n",
       "      <td>CLASSIC &amp; VARIED MENU</td>\n",
       "      <td>5</td>\n",
       "      <td>0</td>\n",
       "      <td>1</td>\n",
       "      <td>0</td>\n",
       "      <td>1</td>\n",
       "      <td>39742.939174</td>\n",
       "      <td>36264.065946</td>\n",
       "      <td>3478.873227</td>\n",
       "      <td>4876.797417</td>\n",
       "      <td>6406.773077</td>\n",
       "      <td>8278.261162</td>\n",
       "      <td>14147.721358</td>\n",
       "      <td>0.646409</td>\n",
       "    </tr>\n",
       "  </tbody>\n",
       "</table>\n",
       "</div>"
      ],
      "text/plain": [
       "               NAME         CITY STATE    ZIP  COUNTY_CODE COUNTY_NAME  \\\n",
       "0        APPLEBEE'S    POTTSTOWN    PA  19464      42091.0  MONTGOMERY   \n",
       "1  STANS RESTAURANT  SAN LEANDRO    CA  94577       6001.0     ALAMEDA   \n",
       "2       THANH THANH      OAKLAND    CA  94606       6001.0     ALAMEDA   \n",
       "\n",
       "         SIMPLIFIED_MENU  UNITS  EMPLOYEES  YEARS_IN_BUSINESS  ANNUAL_SALES  \\\n",
       "0  CLASSIC & VARIED MENU      3          4                  1             2   \n",
       "1  CLASSIC & VARIED MENU      5          0                  1             0   \n",
       "2  CLASSIC & VARIED MENU      5          0                  1             0   \n",
       "\n",
       "   AVERAGE_CHECK  FOOD_BEVERAGE_PURCHASE  FOOD_PURCHASE  BEVERAGE_PURCHASE  \\\n",
       "0              0           597290.100988  545006.687015       52283.413973   \n",
       "1              1            39742.939174   36264.065946        3478.873227   \n",
       "2              1            39742.939174   36264.065946        3478.873227   \n",
       "\n",
       "   TOTAL_CATEGORY_DRY  TOTAL_CATEGORY_FRESH  TOTAL_CATEGORY_FROZEN  \\\n",
       "0        73292.586865          96286.339607          124412.626443   \n",
       "1         4876.797417           6406.773077            8278.261162   \n",
       "2         4876.797417           6406.773077            8278.261162   \n",
       "\n",
       "   TOTAL_CATEGORY_PROTEIN  % Share of F&B Purchases from Company  \n",
       "0           212623.779075                               0.578681  \n",
       "1            14147.721358                               0.339348  \n",
       "2            14147.721358                               0.646409  "
      ]
     },
     "execution_count": 45,
     "metadata": {},
     "output_type": "execute_result"
    }
   ],
   "source": [
    "df.head(3)"
   ]
  },
  {
   "cell_type": "markdown",
   "id": "cc51f62e",
   "metadata": {},
   "source": [
    "AS all the Data Manipulation as well as Data cleaning operation can be seen in the above code,\n",
    "\n",
    "Those data which were converted to (numeric format) using LabelEncoding can now be easily used for statistical analysis"
   ]
  },
  {
   "cell_type": "markdown",
   "id": "3765d71e",
   "metadata": {},
   "source": [
    "# Statistical Findings and Visualizations"
   ]
  },
  {
   "cell_type": "code",
   "execution_count": 46,
   "id": "2e0531a1",
   "metadata": {},
   "outputs": [
    {
     "data": {
      "text/html": [
       "<div>\n",
       "<style scoped>\n",
       "    .dataframe tbody tr th:only-of-type {\n",
       "        vertical-align: middle;\n",
       "    }\n",
       "\n",
       "    .dataframe tbody tr th {\n",
       "        vertical-align: top;\n",
       "    }\n",
       "\n",
       "    .dataframe thead th {\n",
       "        text-align: right;\n",
       "    }\n",
       "</style>\n",
       "<table border=\"1\" class=\"dataframe\">\n",
       "  <thead>\n",
       "    <tr style=\"text-align: right;\">\n",
       "      <th></th>\n",
       "      <th>ZIP</th>\n",
       "      <th>COUNTY_CODE</th>\n",
       "      <th>UNITS</th>\n",
       "      <th>EMPLOYEES</th>\n",
       "      <th>YEARS_IN_BUSINESS</th>\n",
       "      <th>ANNUAL_SALES</th>\n",
       "      <th>AVERAGE_CHECK</th>\n",
       "      <th>FOOD_BEVERAGE_PURCHASE</th>\n",
       "      <th>FOOD_PURCHASE</th>\n",
       "      <th>BEVERAGE_PURCHASE</th>\n",
       "      <th>TOTAL_CATEGORY_DRY</th>\n",
       "      <th>TOTAL_CATEGORY_FRESH</th>\n",
       "      <th>TOTAL_CATEGORY_FROZEN</th>\n",
       "      <th>TOTAL_CATEGORY_PROTEIN</th>\n",
       "      <th>% Share of F&amp;B Purchases from Company</th>\n",
       "    </tr>\n",
       "  </thead>\n",
       "  <tbody>\n",
       "    <tr>\n",
       "      <th>ZIP</th>\n",
       "      <td>1.000000</td>\n",
       "      <td>-0.303150</td>\n",
       "      <td>-0.076666</td>\n",
       "      <td>-0.031542</td>\n",
       "      <td>-0.016020</td>\n",
       "      <td>-0.066572</td>\n",
       "      <td>0.050953</td>\n",
       "      <td>-0.072966</td>\n",
       "      <td>-0.077532</td>\n",
       "      <td>-0.023002</td>\n",
       "      <td>-0.037919</td>\n",
       "      <td>-0.073601</td>\n",
       "      <td>-0.083137</td>\n",
       "      <td>-0.091194</td>\n",
       "      <td>-0.021541</td>\n",
       "    </tr>\n",
       "    <tr>\n",
       "      <th>COUNTY_CODE</th>\n",
       "      <td>-0.303150</td>\n",
       "      <td>1.000000</td>\n",
       "      <td>-0.039563</td>\n",
       "      <td>0.019461</td>\n",
       "      <td>0.015347</td>\n",
       "      <td>0.018505</td>\n",
       "      <td>0.086598</td>\n",
       "      <td>0.018571</td>\n",
       "      <td>0.013094</td>\n",
       "      <td>0.055438</td>\n",
       "      <td>0.021669</td>\n",
       "      <td>-0.011120</td>\n",
       "      <td>0.030666</td>\n",
       "      <td>0.002014</td>\n",
       "      <td>0.005597</td>\n",
       "    </tr>\n",
       "    <tr>\n",
       "      <th>UNITS</th>\n",
       "      <td>-0.076666</td>\n",
       "      <td>-0.039563</td>\n",
       "      <td>1.000000</td>\n",
       "      <td>-0.064946</td>\n",
       "      <td>-0.030253</td>\n",
       "      <td>-0.438213</td>\n",
       "      <td>-0.316334</td>\n",
       "      <td>-0.415346</td>\n",
       "      <td>-0.384698</td>\n",
       "      <td>-0.553977</td>\n",
       "      <td>-0.498337</td>\n",
       "      <td>-0.295014</td>\n",
       "      <td>-0.451845</td>\n",
       "      <td>-0.268321</td>\n",
       "      <td>0.044164</td>\n",
       "    </tr>\n",
       "    <tr>\n",
       "      <th>EMPLOYEES</th>\n",
       "      <td>-0.031542</td>\n",
       "      <td>0.019461</td>\n",
       "      <td>-0.064946</td>\n",
       "      <td>1.000000</td>\n",
       "      <td>-0.030393</td>\n",
       "      <td>0.212981</td>\n",
       "      <td>-0.041573</td>\n",
       "      <td>0.321786</td>\n",
       "      <td>0.325441</td>\n",
       "      <td>0.224543</td>\n",
       "      <td>0.293675</td>\n",
       "      <td>0.328389</td>\n",
       "      <td>0.321689</td>\n",
       "      <td>0.320769</td>\n",
       "      <td>-0.015590</td>\n",
       "    </tr>\n",
       "    <tr>\n",
       "      <th>YEARS_IN_BUSINESS</th>\n",
       "      <td>-0.016020</td>\n",
       "      <td>0.015347</td>\n",
       "      <td>-0.030253</td>\n",
       "      <td>-0.030393</td>\n",
       "      <td>1.000000</td>\n",
       "      <td>0.031058</td>\n",
       "      <td>0.022424</td>\n",
       "      <td>0.024989</td>\n",
       "      <td>0.023667</td>\n",
       "      <td>0.029433</td>\n",
       "      <td>0.033968</td>\n",
       "      <td>0.019171</td>\n",
       "      <td>0.009571</td>\n",
       "      <td>0.023244</td>\n",
       "      <td>-0.018369</td>\n",
       "    </tr>\n",
       "    <tr>\n",
       "      <th>ANNUAL_SALES</th>\n",
       "      <td>-0.066572</td>\n",
       "      <td>0.018505</td>\n",
       "      <td>-0.438213</td>\n",
       "      <td>0.212981</td>\n",
       "      <td>0.031058</td>\n",
       "      <td>1.000000</td>\n",
       "      <td>0.012825</td>\n",
       "      <td>0.879085</td>\n",
       "      <td>0.871568</td>\n",
       "      <td>0.744158</td>\n",
       "      <td>0.873517</td>\n",
       "      <td>0.816357</td>\n",
       "      <td>0.861170</td>\n",
       "      <td>0.812402</td>\n",
       "      <td>0.025115</td>\n",
       "    </tr>\n",
       "    <tr>\n",
       "      <th>AVERAGE_CHECK</th>\n",
       "      <td>0.050953</td>\n",
       "      <td>0.086598</td>\n",
       "      <td>-0.316334</td>\n",
       "      <td>-0.041573</td>\n",
       "      <td>0.022424</td>\n",
       "      <td>0.012825</td>\n",
       "      <td>1.000000</td>\n",
       "      <td>-0.022805</td>\n",
       "      <td>-0.064293</td>\n",
       "      <td>0.292028</td>\n",
       "      <td>0.102112</td>\n",
       "      <td>-0.143345</td>\n",
       "      <td>-0.009571</td>\n",
       "      <td>-0.184247</td>\n",
       "      <td>0.006433</td>\n",
       "    </tr>\n",
       "    <tr>\n",
       "      <th>FOOD_BEVERAGE_PURCHASE</th>\n",
       "      <td>-0.072966</td>\n",
       "      <td>0.018571</td>\n",
       "      <td>-0.415346</td>\n",
       "      <td>0.321786</td>\n",
       "      <td>0.024989</td>\n",
       "      <td>0.879085</td>\n",
       "      <td>-0.022805</td>\n",
       "      <td>1.000000</td>\n",
       "      <td>0.996857</td>\n",
       "      <td>0.806123</td>\n",
       "      <td>0.966689</td>\n",
       "      <td>0.943782</td>\n",
       "      <td>0.974828</td>\n",
       "      <td>0.951959</td>\n",
       "      <td>0.007338</td>\n",
       "    </tr>\n",
       "    <tr>\n",
       "      <th>FOOD_PURCHASE</th>\n",
       "      <td>-0.077532</td>\n",
       "      <td>0.013094</td>\n",
       "      <td>-0.384698</td>\n",
       "      <td>0.325441</td>\n",
       "      <td>0.023667</td>\n",
       "      <td>0.871568</td>\n",
       "      <td>-0.064293</td>\n",
       "      <td>0.996857</td>\n",
       "      <td>1.000000</td>\n",
       "      <td>0.756706</td>\n",
       "      <td>0.947607</td>\n",
       "      <td>0.961717</td>\n",
       "      <td>0.968472</td>\n",
       "      <td>0.971848</td>\n",
       "      <td>0.009383</td>\n",
       "    </tr>\n",
       "    <tr>\n",
       "      <th>BEVERAGE_PURCHASE</th>\n",
       "      <td>-0.023002</td>\n",
       "      <td>0.055438</td>\n",
       "      <td>-0.553977</td>\n",
       "      <td>0.224543</td>\n",
       "      <td>0.029433</td>\n",
       "      <td>0.744158</td>\n",
       "      <td>0.292028</td>\n",
       "      <td>0.806123</td>\n",
       "      <td>0.756706</td>\n",
       "      <td>1.000000</td>\n",
       "      <td>0.899093</td>\n",
       "      <td>0.604691</td>\n",
       "      <td>0.810419</td>\n",
       "      <td>0.596498</td>\n",
       "      <td>-0.009533</td>\n",
       "    </tr>\n",
       "    <tr>\n",
       "      <th>TOTAL_CATEGORY_DRY</th>\n",
       "      <td>-0.037919</td>\n",
       "      <td>0.021669</td>\n",
       "      <td>-0.498337</td>\n",
       "      <td>0.293675</td>\n",
       "      <td>0.033968</td>\n",
       "      <td>0.873517</td>\n",
       "      <td>0.102112</td>\n",
       "      <td>0.966689</td>\n",
       "      <td>0.947607</td>\n",
       "      <td>0.899093</td>\n",
       "      <td>1.000000</td>\n",
       "      <td>0.868425</td>\n",
       "      <td>0.937578</td>\n",
       "      <td>0.852946</td>\n",
       "      <td>-0.001342</td>\n",
       "    </tr>\n",
       "    <tr>\n",
       "      <th>TOTAL_CATEGORY_FRESH</th>\n",
       "      <td>-0.073601</td>\n",
       "      <td>-0.011120</td>\n",
       "      <td>-0.295014</td>\n",
       "      <td>0.328389</td>\n",
       "      <td>0.019171</td>\n",
       "      <td>0.816357</td>\n",
       "      <td>-0.143345</td>\n",
       "      <td>0.943782</td>\n",
       "      <td>0.961717</td>\n",
       "      <td>0.604691</td>\n",
       "      <td>0.868425</td>\n",
       "      <td>1.000000</td>\n",
       "      <td>0.888007</td>\n",
       "      <td>0.970551</td>\n",
       "      <td>0.014887</td>\n",
       "    </tr>\n",
       "    <tr>\n",
       "      <th>TOTAL_CATEGORY_FROZEN</th>\n",
       "      <td>-0.083137</td>\n",
       "      <td>0.030666</td>\n",
       "      <td>-0.451845</td>\n",
       "      <td>0.321689</td>\n",
       "      <td>0.009571</td>\n",
       "      <td>0.861170</td>\n",
       "      <td>-0.009571</td>\n",
       "      <td>0.974828</td>\n",
       "      <td>0.968472</td>\n",
       "      <td>0.810419</td>\n",
       "      <td>0.937578</td>\n",
       "      <td>0.888007</td>\n",
       "      <td>1.000000</td>\n",
       "      <td>0.908301</td>\n",
       "      <td>0.010476</td>\n",
       "    </tr>\n",
       "    <tr>\n",
       "      <th>TOTAL_CATEGORY_PROTEIN</th>\n",
       "      <td>-0.091194</td>\n",
       "      <td>0.002014</td>\n",
       "      <td>-0.268321</td>\n",
       "      <td>0.320769</td>\n",
       "      <td>0.023244</td>\n",
       "      <td>0.812402</td>\n",
       "      <td>-0.184247</td>\n",
       "      <td>0.951959</td>\n",
       "      <td>0.971848</td>\n",
       "      <td>0.596498</td>\n",
       "      <td>0.852946</td>\n",
       "      <td>0.970551</td>\n",
       "      <td>0.908301</td>\n",
       "      <td>1.000000</td>\n",
       "      <td>0.012784</td>\n",
       "    </tr>\n",
       "    <tr>\n",
       "      <th>% Share of F&amp;B Purchases from Company</th>\n",
       "      <td>-0.021541</td>\n",
       "      <td>0.005597</td>\n",
       "      <td>0.044164</td>\n",
       "      <td>-0.015590</td>\n",
       "      <td>-0.018369</td>\n",
       "      <td>0.025115</td>\n",
       "      <td>0.006433</td>\n",
       "      <td>0.007338</td>\n",
       "      <td>0.009383</td>\n",
       "      <td>-0.009533</td>\n",
       "      <td>-0.001342</td>\n",
       "      <td>0.014887</td>\n",
       "      <td>0.010476</td>\n",
       "      <td>0.012784</td>\n",
       "      <td>1.000000</td>\n",
       "    </tr>\n",
       "  </tbody>\n",
       "</table>\n",
       "</div>"
      ],
      "text/plain": [
       "                                            ZIP  COUNTY_CODE     UNITS  \\\n",
       "ZIP                                    1.000000    -0.303150 -0.076666   \n",
       "COUNTY_CODE                           -0.303150     1.000000 -0.039563   \n",
       "UNITS                                 -0.076666    -0.039563  1.000000   \n",
       "EMPLOYEES                             -0.031542     0.019461 -0.064946   \n",
       "YEARS_IN_BUSINESS                     -0.016020     0.015347 -0.030253   \n",
       "ANNUAL_SALES                          -0.066572     0.018505 -0.438213   \n",
       "AVERAGE_CHECK                          0.050953     0.086598 -0.316334   \n",
       "FOOD_BEVERAGE_PURCHASE                -0.072966     0.018571 -0.415346   \n",
       "FOOD_PURCHASE                         -0.077532     0.013094 -0.384698   \n",
       "BEVERAGE_PURCHASE                     -0.023002     0.055438 -0.553977   \n",
       "TOTAL_CATEGORY_DRY                    -0.037919     0.021669 -0.498337   \n",
       "TOTAL_CATEGORY_FRESH                  -0.073601    -0.011120 -0.295014   \n",
       "TOTAL_CATEGORY_FROZEN                 -0.083137     0.030666 -0.451845   \n",
       "TOTAL_CATEGORY_PROTEIN                -0.091194     0.002014 -0.268321   \n",
       "% Share of F&B Purchases from Company -0.021541     0.005597  0.044164   \n",
       "\n",
       "                                       EMPLOYEES  YEARS_IN_BUSINESS  \\\n",
       "ZIP                                    -0.031542          -0.016020   \n",
       "COUNTY_CODE                             0.019461           0.015347   \n",
       "UNITS                                  -0.064946          -0.030253   \n",
       "EMPLOYEES                               1.000000          -0.030393   \n",
       "YEARS_IN_BUSINESS                      -0.030393           1.000000   \n",
       "ANNUAL_SALES                            0.212981           0.031058   \n",
       "AVERAGE_CHECK                          -0.041573           0.022424   \n",
       "FOOD_BEVERAGE_PURCHASE                  0.321786           0.024989   \n",
       "FOOD_PURCHASE                           0.325441           0.023667   \n",
       "BEVERAGE_PURCHASE                       0.224543           0.029433   \n",
       "TOTAL_CATEGORY_DRY                      0.293675           0.033968   \n",
       "TOTAL_CATEGORY_FRESH                    0.328389           0.019171   \n",
       "TOTAL_CATEGORY_FROZEN                   0.321689           0.009571   \n",
       "TOTAL_CATEGORY_PROTEIN                  0.320769           0.023244   \n",
       "% Share of F&B Purchases from Company  -0.015590          -0.018369   \n",
       "\n",
       "                                       ANNUAL_SALES  AVERAGE_CHECK  \\\n",
       "ZIP                                       -0.066572       0.050953   \n",
       "COUNTY_CODE                                0.018505       0.086598   \n",
       "UNITS                                     -0.438213      -0.316334   \n",
       "EMPLOYEES                                  0.212981      -0.041573   \n",
       "YEARS_IN_BUSINESS                          0.031058       0.022424   \n",
       "ANNUAL_SALES                               1.000000       0.012825   \n",
       "AVERAGE_CHECK                              0.012825       1.000000   \n",
       "FOOD_BEVERAGE_PURCHASE                     0.879085      -0.022805   \n",
       "FOOD_PURCHASE                              0.871568      -0.064293   \n",
       "BEVERAGE_PURCHASE                          0.744158       0.292028   \n",
       "TOTAL_CATEGORY_DRY                         0.873517       0.102112   \n",
       "TOTAL_CATEGORY_FRESH                       0.816357      -0.143345   \n",
       "TOTAL_CATEGORY_FROZEN                      0.861170      -0.009571   \n",
       "TOTAL_CATEGORY_PROTEIN                     0.812402      -0.184247   \n",
       "% Share of F&B Purchases from Company      0.025115       0.006433   \n",
       "\n",
       "                                       FOOD_BEVERAGE_PURCHASE  FOOD_PURCHASE  \\\n",
       "ZIP                                                 -0.072966      -0.077532   \n",
       "COUNTY_CODE                                          0.018571       0.013094   \n",
       "UNITS                                               -0.415346      -0.384698   \n",
       "EMPLOYEES                                            0.321786       0.325441   \n",
       "YEARS_IN_BUSINESS                                    0.024989       0.023667   \n",
       "ANNUAL_SALES                                         0.879085       0.871568   \n",
       "AVERAGE_CHECK                                       -0.022805      -0.064293   \n",
       "FOOD_BEVERAGE_PURCHASE                               1.000000       0.996857   \n",
       "FOOD_PURCHASE                                        0.996857       1.000000   \n",
       "BEVERAGE_PURCHASE                                    0.806123       0.756706   \n",
       "TOTAL_CATEGORY_DRY                                   0.966689       0.947607   \n",
       "TOTAL_CATEGORY_FRESH                                 0.943782       0.961717   \n",
       "TOTAL_CATEGORY_FROZEN                                0.974828       0.968472   \n",
       "TOTAL_CATEGORY_PROTEIN                               0.951959       0.971848   \n",
       "% Share of F&B Purchases from Company                0.007338       0.009383   \n",
       "\n",
       "                                       BEVERAGE_PURCHASE  TOTAL_CATEGORY_DRY  \\\n",
       "ZIP                                            -0.023002           -0.037919   \n",
       "COUNTY_CODE                                     0.055438            0.021669   \n",
       "UNITS                                          -0.553977           -0.498337   \n",
       "EMPLOYEES                                       0.224543            0.293675   \n",
       "YEARS_IN_BUSINESS                               0.029433            0.033968   \n",
       "ANNUAL_SALES                                    0.744158            0.873517   \n",
       "AVERAGE_CHECK                                   0.292028            0.102112   \n",
       "FOOD_BEVERAGE_PURCHASE                          0.806123            0.966689   \n",
       "FOOD_PURCHASE                                   0.756706            0.947607   \n",
       "BEVERAGE_PURCHASE                               1.000000            0.899093   \n",
       "TOTAL_CATEGORY_DRY                              0.899093            1.000000   \n",
       "TOTAL_CATEGORY_FRESH                            0.604691            0.868425   \n",
       "TOTAL_CATEGORY_FROZEN                           0.810419            0.937578   \n",
       "TOTAL_CATEGORY_PROTEIN                          0.596498            0.852946   \n",
       "% Share of F&B Purchases from Company          -0.009533           -0.001342   \n",
       "\n",
       "                                       TOTAL_CATEGORY_FRESH  \\\n",
       "ZIP                                               -0.073601   \n",
       "COUNTY_CODE                                       -0.011120   \n",
       "UNITS                                             -0.295014   \n",
       "EMPLOYEES                                          0.328389   \n",
       "YEARS_IN_BUSINESS                                  0.019171   \n",
       "ANNUAL_SALES                                       0.816357   \n",
       "AVERAGE_CHECK                                     -0.143345   \n",
       "FOOD_BEVERAGE_PURCHASE                             0.943782   \n",
       "FOOD_PURCHASE                                      0.961717   \n",
       "BEVERAGE_PURCHASE                                  0.604691   \n",
       "TOTAL_CATEGORY_DRY                                 0.868425   \n",
       "TOTAL_CATEGORY_FRESH                               1.000000   \n",
       "TOTAL_CATEGORY_FROZEN                              0.888007   \n",
       "TOTAL_CATEGORY_PROTEIN                             0.970551   \n",
       "% Share of F&B Purchases from Company              0.014887   \n",
       "\n",
       "                                       TOTAL_CATEGORY_FROZEN  \\\n",
       "ZIP                                                -0.083137   \n",
       "COUNTY_CODE                                         0.030666   \n",
       "UNITS                                              -0.451845   \n",
       "EMPLOYEES                                           0.321689   \n",
       "YEARS_IN_BUSINESS                                   0.009571   \n",
       "ANNUAL_SALES                                        0.861170   \n",
       "AVERAGE_CHECK                                      -0.009571   \n",
       "FOOD_BEVERAGE_PURCHASE                              0.974828   \n",
       "FOOD_PURCHASE                                       0.968472   \n",
       "BEVERAGE_PURCHASE                                   0.810419   \n",
       "TOTAL_CATEGORY_DRY                                  0.937578   \n",
       "TOTAL_CATEGORY_FRESH                                0.888007   \n",
       "TOTAL_CATEGORY_FROZEN                               1.000000   \n",
       "TOTAL_CATEGORY_PROTEIN                              0.908301   \n",
       "% Share of F&B Purchases from Company               0.010476   \n",
       "\n",
       "                                       TOTAL_CATEGORY_PROTEIN  \\\n",
       "ZIP                                                 -0.091194   \n",
       "COUNTY_CODE                                          0.002014   \n",
       "UNITS                                               -0.268321   \n",
       "EMPLOYEES                                            0.320769   \n",
       "YEARS_IN_BUSINESS                                    0.023244   \n",
       "ANNUAL_SALES                                         0.812402   \n",
       "AVERAGE_CHECK                                       -0.184247   \n",
       "FOOD_BEVERAGE_PURCHASE                               0.951959   \n",
       "FOOD_PURCHASE                                        0.971848   \n",
       "BEVERAGE_PURCHASE                                    0.596498   \n",
       "TOTAL_CATEGORY_DRY                                   0.852946   \n",
       "TOTAL_CATEGORY_FRESH                                 0.970551   \n",
       "TOTAL_CATEGORY_FROZEN                                0.908301   \n",
       "TOTAL_CATEGORY_PROTEIN                               1.000000   \n",
       "% Share of F&B Purchases from Company                0.012784   \n",
       "\n",
       "                                       % Share of F&B Purchases from Company  \n",
       "ZIP                                                                -0.021541  \n",
       "COUNTY_CODE                                                         0.005597  \n",
       "UNITS                                                               0.044164  \n",
       "EMPLOYEES                                                          -0.015590  \n",
       "YEARS_IN_BUSINESS                                                  -0.018369  \n",
       "ANNUAL_SALES                                                        0.025115  \n",
       "AVERAGE_CHECK                                                       0.006433  \n",
       "FOOD_BEVERAGE_PURCHASE                                              0.007338  \n",
       "FOOD_PURCHASE                                                       0.009383  \n",
       "BEVERAGE_PURCHASE                                                  -0.009533  \n",
       "TOTAL_CATEGORY_DRY                                                 -0.001342  \n",
       "TOTAL_CATEGORY_FRESH                                                0.014887  \n",
       "TOTAL_CATEGORY_FROZEN                                               0.010476  \n",
       "TOTAL_CATEGORY_PROTEIN                                              0.012784  \n",
       "% Share of F&B Purchases from Company                               1.000000  "
      ]
     },
     "execution_count": 46,
     "metadata": {},
     "output_type": "execute_result"
    }
   ],
   "source": [
    "df.corr()"
   ]
  },
  {
   "cell_type": "code",
   "execution_count": 47,
   "id": "b0e65777",
   "metadata": {},
   "outputs": [
    {
     "data": {
      "text/plain": [
       "<AxesSubplot:>"
      ]
     },
     "execution_count": 47,
     "metadata": {},
     "output_type": "execute_result"
    },
    {
     "data": {
      "image/png": "[encoded data removed]",
      "text/plain": [
       "<Figure size 640x480 with 2 Axes>"
      ]
     },
     "metadata": {},
     "output_type": "display_data"
    }
   ],
   "source": [
    "sns.heatmap(df.corr())"
   ]
  },
  {
   "cell_type": "code",
   "execution_count": 48,
   "id": "17ad3c7a",
   "metadata": {},
   "outputs": [
    {
     "name": "stdout",
     "output_type": "stream",
     "text": [
      "<class 'pandas.core.frame.DataFrame'>\n",
      "Int64Index: 887 entries, 0 to 999\n",
      "Data columns (total 20 columns):\n",
      " #   Column                                 Non-Null Count  Dtype  \n",
      "---  ------                                 --------------  -----  \n",
      " 0   NAME                                   887 non-null    object \n",
      " 1   CITY                                   887 non-null    object \n",
      " 2   STATE                                  887 non-null    object \n",
      " 3   ZIP                                    887 non-null    int64  \n",
      " 4   COUNTY_CODE                            887 non-null    float64\n",
      " 5   COUNTY_NAME                            887 non-null    object \n",
      " 6   SIMPLIFIED_MENU                        887 non-null    object \n",
      " 7   UNITS                                  887 non-null    int32  \n",
      " 8   EMPLOYEES                              887 non-null    int32  \n",
      " 9   YEARS_IN_BUSINESS                      887 non-null    int32  \n",
      " 10  ANNUAL_SALES                           887 non-null    int64  \n",
      " 11  AVERAGE_CHECK                          887 non-null    int32  \n",
      " 12  FOOD_BEVERAGE_PURCHASE                 887 non-null    float64\n",
      " 13  FOOD_PURCHASE                          887 non-null    float64\n",
      " 14  BEVERAGE_PURCHASE                      887 non-null    float64\n",
      " 15  TOTAL_CATEGORY_DRY                     887 non-null    float64\n",
      " 16  TOTAL_CATEGORY_FRESH                   887 non-null    float64\n",
      " 17  TOTAL_CATEGORY_FROZEN                  887 non-null    float64\n",
      " 18  TOTAL_CATEGORY_PROTEIN                 887 non-null    float64\n",
      " 19  % Share of F&B Purchases from Company  887 non-null    float64\n",
      "dtypes: float64(9), int32(4), int64(2), object(5)\n",
      "memory usage: 131.7+ KB\n"
     ]
    }
   ],
   "source": [
    "df.info()"
   ]
  },
  {
   "cell_type": "code",
   "execution_count": 49,
   "id": "6832b672",
   "metadata": {},
   "outputs": [
    {
     "data": {
      "text/html": [
       "<div>\n",
       "<style scoped>\n",
       "    .dataframe tbody tr th:only-of-type {\n",
       "        vertical-align: middle;\n",
       "    }\n",
       "\n",
       "    .dataframe tbody tr th {\n",
       "        vertical-align: top;\n",
       "    }\n",
       "\n",
       "    .dataframe thead th {\n",
       "        text-align: right;\n",
       "    }\n",
       "</style>\n",
       "<table border=\"1\" class=\"dataframe\">\n",
       "  <thead>\n",
       "    <tr style=\"text-align: right;\">\n",
       "      <th></th>\n",
       "      <th>NAME</th>\n",
       "      <th>CITY</th>\n",
       "      <th>STATE</th>\n",
       "      <th>ZIP</th>\n",
       "      <th>COUNTY_CODE</th>\n",
       "      <th>COUNTY_NAME</th>\n",
       "      <th>SIMPLIFIED_MENU</th>\n",
       "      <th>UNITS</th>\n",
       "      <th>EMPLOYEES</th>\n",
       "      <th>YEARS_IN_BUSINESS</th>\n",
       "      <th>ANNUAL_SALES</th>\n",
       "      <th>AVERAGE_CHECK</th>\n",
       "      <th>FOOD_BEVERAGE_PURCHASE</th>\n",
       "      <th>FOOD_PURCHASE</th>\n",
       "      <th>BEVERAGE_PURCHASE</th>\n",
       "      <th>TOTAL_CATEGORY_DRY</th>\n",
       "      <th>TOTAL_CATEGORY_FRESH</th>\n",
       "      <th>TOTAL_CATEGORY_FROZEN</th>\n",
       "      <th>TOTAL_CATEGORY_PROTEIN</th>\n",
       "      <th>% Share of F&amp;B Purchases from Company</th>\n",
       "    </tr>\n",
       "  </thead>\n",
       "  <tbody>\n",
       "    <tr>\n",
       "      <th>997</th>\n",
       "      <td>REYNOLDS CAFE</td>\n",
       "      <td>NAUGATUCK</td>\n",
       "      <td>CT</td>\n",
       "      <td>6770</td>\n",
       "      <td>9009.0</td>\n",
       "      <td>NEW HAVEN</td>\n",
       "      <td>CLASSIC &amp; VARIED MENU</td>\n",
       "      <td>5</td>\n",
       "      <td>0</td>\n",
       "      <td>1</td>\n",
       "      <td>0</td>\n",
       "      <td>1</td>\n",
       "      <td>42407.077315</td>\n",
       "      <td>38439.475788</td>\n",
       "      <td>3967.601528</td>\n",
       "      <td>5235.276904</td>\n",
       "      <td>6858.790982</td>\n",
       "      <td>9732.188501</td>\n",
       "      <td>13174.927943</td>\n",
       "      <td>0.302793</td>\n",
       "    </tr>\n",
       "    <tr>\n",
       "      <th>998</th>\n",
       "      <td>PUEBLO VIEJO</td>\n",
       "      <td>PORT SAINT LUCIE</td>\n",
       "      <td>FL</td>\n",
       "      <td>34952</td>\n",
       "      <td>12111.0</td>\n",
       "      <td>SAINT LUCIE</td>\n",
       "      <td>CLASSIC &amp; VARIED MENU</td>\n",
       "      <td>5</td>\n",
       "      <td>3</td>\n",
       "      <td>1</td>\n",
       "      <td>0</td>\n",
       "      <td>1</td>\n",
       "      <td>89487.281190</td>\n",
       "      <td>81654.068217</td>\n",
       "      <td>7833.212973</td>\n",
       "      <td>10980.852218</td>\n",
       "      <td>14425.825462</td>\n",
       "      <td>18639.765949</td>\n",
       "      <td>31855.749617</td>\n",
       "      <td>0.497217</td>\n",
       "    </tr>\n",
       "    <tr>\n",
       "      <th>999</th>\n",
       "      <td>BUFFALO WILD WINGS</td>\n",
       "      <td>DEARBORN</td>\n",
       "      <td>MI</td>\n",
       "      <td>48124</td>\n",
       "      <td>26163.0</td>\n",
       "      <td>WAYNE</td>\n",
       "      <td>BAR &amp; GRILL, BREW PUB, &amp; EATERTAINMENT</td>\n",
       "      <td>3</td>\n",
       "      <td>1</td>\n",
       "      <td>1</td>\n",
       "      <td>2</td>\n",
       "      <td>0</td>\n",
       "      <td>565386.131138</td>\n",
       "      <td>525716.048679</td>\n",
       "      <td>39670.082460</td>\n",
       "      <td>73253.221050</td>\n",
       "      <td>91863.877018</td>\n",
       "      <td>114742.390183</td>\n",
       "      <td>199189.990762</td>\n",
       "      <td>0.666672</td>\n",
       "    </tr>\n",
       "  </tbody>\n",
       "</table>\n",
       "</div>"
      ],
      "text/plain": [
       "                   NAME              CITY STATE    ZIP  COUNTY_CODE  \\\n",
       "997       REYNOLDS CAFE         NAUGATUCK    CT   6770       9009.0   \n",
       "998        PUEBLO VIEJO  PORT SAINT LUCIE    FL  34952      12111.0   \n",
       "999  BUFFALO WILD WINGS          DEARBORN    MI  48124      26163.0   \n",
       "\n",
       "     COUNTY_NAME                         SIMPLIFIED_MENU  UNITS  EMPLOYEES  \\\n",
       "997    NEW HAVEN                   CLASSIC & VARIED MENU      5          0   \n",
       "998  SAINT LUCIE                   CLASSIC & VARIED MENU      5          3   \n",
       "999        WAYNE  BAR & GRILL, BREW PUB, & EATERTAINMENT      3          1   \n",
       "\n",
       "     YEARS_IN_BUSINESS  ANNUAL_SALES  AVERAGE_CHECK  FOOD_BEVERAGE_PURCHASE  \\\n",
       "997                  1             0              1            42407.077315   \n",
       "998                  1             0              1            89487.281190   \n",
       "999                  1             2              0           565386.131138   \n",
       "\n",
       "     FOOD_PURCHASE  BEVERAGE_PURCHASE  TOTAL_CATEGORY_DRY  \\\n",
       "997   38439.475788        3967.601528         5235.276904   \n",
       "998   81654.068217        7833.212973        10980.852218   \n",
       "999  525716.048679       39670.082460        73253.221050   \n",
       "\n",
       "     TOTAL_CATEGORY_FRESH  TOTAL_CATEGORY_FROZEN  TOTAL_CATEGORY_PROTEIN  \\\n",
       "997           6858.790982            9732.188501            13174.927943   \n",
       "998          14425.825462           18639.765949            31855.749617   \n",
       "999          91863.877018          114742.390183           199189.990762   \n",
       "\n",
       "     % Share of F&B Purchases from Company  \n",
       "997                               0.302793  \n",
       "998                               0.497217  \n",
       "999                               0.666672  "
      ]
     },
     "execution_count": 49,
     "metadata": {},
     "output_type": "execute_result"
    }
   ],
   "source": [
    "df.tail(3)"
   ]
  },
  {
   "cell_type": "markdown",
   "id": "0ecbfa16",
   "metadata": {},
   "source": [
    "1 - Which City has most (restaurants) ?"
   ]
  },
  {
   "cell_type": "code",
   "execution_count": 50,
   "id": "f5031576",
   "metadata": {},
   "outputs": [
    {
     "data": {
      "text/plain": [
       "Text(0.5, 0, 'City Name')"
      ]
     },
     "execution_count": 50,
     "metadata": {},
     "output_type": "execute_result"
    },
    {
     "data": {
      "image/png": "[encoded data removed]",
      "text/plain": [
       "<Figure size 640x480 with 1 Axes>"
      ]
     },
     "metadata": {},
     "output_type": "display_data"
    }
   ],
   "source": [
    "#Here we can see the most number of customers are from CHicago city and then PHILADELPHIA\n",
    "df.CITY.value_counts().head().plot.bar()\n",
    "plt.pyplot.xlabel('City Name')"
   ]
  },
  {
   "cell_type": "markdown",
   "id": "a5168f0e",
   "metadata": {},
   "source": [
    "2 - Which State has most customers(restaurants)"
   ]
  },
  {
   "cell_type": "code",
   "execution_count": 51,
   "id": "dd490f55",
   "metadata": {},
   "outputs": [
    {
     "data": {
      "text/plain": [
       "<AxesSubplot:ylabel='STATE'>"
      ]
     },
     "execution_count": 51,
     "metadata": {},
     "output_type": "execute_result"
    },
    {
     "data": {
      "image/png": "[encoded data removed]",
      "text/plain": [
       "<Figure size 640x480 with 1 Axes>"
      ]
     },
     "metadata": {},
     "output_type": "display_data"
    }
   ],
   "source": [
    "#Which State has most customers? - 1st CA , 2nd Texas\n",
    "df.STATE.value_counts().head(6).plot.pie(autopct='%1.2f%%')"
   ]
  },
  {
   "cell_type": "markdown",
   "id": "5dc7e406",
   "metadata": {},
   "source": [
    "3 - What UNITS are most among the restaurants?"
   ]
  },
  {
   "cell_type": "code",
   "execution_count": 52,
   "id": "579fb373",
   "metadata": {},
   "outputs": [
    {
     "data": {
      "text/plain": [
       "Text(0.5, 0, 'Units as LabelEncoded')"
      ]
     },
     "execution_count": 52,
     "metadata": {},
     "output_type": "execute_result"
    },
    {
     "data": {
      "image/png": "[encoded data removed]",
      "text/plain": [
       "<Figure size 640x480 with 1 Axes>"
      ]
     },
     "metadata": {},
     "output_type": "display_data"
    }
   ],
   "source": [
    "# we can see that most of the Restaurants have - INDEPENDENT Units (1-9) according to LabelEncoding Value = (5)\n",
    "sns.histplot(x = df.UNITS)\n",
    "plt.pyplot.xlabel('Units as LabelEncoded')"
   ]
  },
  {
   "cell_type": "markdown",
   "id": "93572b60",
   "metadata": {},
   "source": [
    "4 - Who performs better in Annual Sales with experience in business?"
   ]
  },
  {
   "cell_type": "code",
   "execution_count": 53,
   "id": "446bbe9c",
   "metadata": {},
   "outputs": [
    {
     "data": {
      "text/plain": [
       "Text(0.5, 1.0, 'Business Years VS Sales')"
      ]
     },
     "execution_count": 53,
     "metadata": {},
     "output_type": "execute_result"
    },
    {
     "data": {
      "image/png": "[encoded data removed]",
      "text/plain": [
       "<Figure size 640x480 with 1 Axes>"
      ]
     },
     "metadata": {},
     "output_type": "display_data"
    }
   ],
   "source": [
    "# Annual Sales LE = $1,000,001 - $2,500,000' = 0, '<=$500,000' = 3, '$500,001 - $1,000,000' = 2,\n",
    "#  '$2,500,001 - $5,000,000' = 1, '>$5,000,000' = 4\n",
    "# Business Year LE = (2 to 5 = 0, 5 yr plus = 1)\n",
    "\n",
    "sns.barplot(data = df, x = df.YEARS_IN_BUSINESS, y = df.ANNUAL_SALES)\n",
    "plt.pyplot.title('Business Years VS Sales')"
   ]
  },
  {
   "cell_type": "markdown",
   "id": "88291dd5",
   "metadata": {},
   "source": [
    "As shown in the above bar plot, the restaurants which are in business since (2-5) years are having more number of annual sales, than those in business for more than 5 years"
   ]
  },
  {
   "cell_type": "markdown",
   "id": "1fb69648",
   "metadata": {},
   "source": [
    "5 - Which Units have most F&B Purchases?"
   ]
  },
  {
   "cell_type": "code",
   "execution_count": 54,
   "id": "995c46d2",
   "metadata": {},
   "outputs": [
    {
     "data": {
      "text/plain": [
       "Text(0.5, 0, 'UNITS as LabelEncoding')"
      ]
     },
     "execution_count": 54,
     "metadata": {},
     "output_type": "execute_result"
    },
    {
     "data": {
      "image/png": "[encoded data removed]",
      "text/plain": [
       "<Figure size 640x480 with 1 Axes>"
      ]
     },
     "metadata": {},
     "output_type": "display_data"
    }
   ],
   "source": [
    "#501+ UNITS' = 3, 'INDEPENDENT (1-9 UNITS)' = 5, '251-500 UNITS' = 2,\n",
    "#101-250 UNITS' = 1, '51-100 UNITS' = 4, '10-50 UNITS' = 0\n",
    "\n",
    "sns.lineplot(x = df.UNITS, y = df.FOOD_BEVERAGE_PURCHASE)\n",
    "plt.pyplot.xlabel('UNITS as LabelEncoding')"
   ]
  },
  {
   "cell_type": "markdown",
   "id": "4d6b2715",
   "metadata": {},
   "source": [
    "1- We can easily see the above line plot and determine, that those units - 0('10-50 UNITS') are having higher purchases\n",
    "There was an increase in purchase by Units - 2(251-500 UNITS), and then purchase gradually decreases.\n"
   ]
  },
  {
   "cell_type": "markdown",
   "id": "1738edba",
   "metadata": {},
   "source": [
    "2 - Its shocking to see the Restaurants having units - 3(500+ units) are having lower purchases than (10-50 units)"
   ]
  },
  {
   "cell_type": "code",
   "execution_count": 55,
   "id": "c0e206b5",
   "metadata": {},
   "outputs": [
    {
     "data": {
      "text/html": [
       "<div>\n",
       "<style scoped>\n",
       "    .dataframe tbody tr th:only-of-type {\n",
       "        vertical-align: middle;\n",
       "    }\n",
       "\n",
       "    .dataframe tbody tr th {\n",
       "        vertical-align: top;\n",
       "    }\n",
       "\n",
       "    .dataframe thead th {\n",
       "        text-align: right;\n",
       "    }\n",
       "</style>\n",
       "<table border=\"1\" class=\"dataframe\">\n",
       "  <thead>\n",
       "    <tr style=\"text-align: right;\">\n",
       "      <th></th>\n",
       "      <th>NAME</th>\n",
       "      <th>CITY</th>\n",
       "      <th>STATE</th>\n",
       "      <th>ZIP</th>\n",
       "      <th>COUNTY_CODE</th>\n",
       "      <th>COUNTY_NAME</th>\n",
       "      <th>SIMPLIFIED_MENU</th>\n",
       "      <th>UNITS</th>\n",
       "      <th>EMPLOYEES</th>\n",
       "      <th>YEARS_IN_BUSINESS</th>\n",
       "      <th>ANNUAL_SALES</th>\n",
       "      <th>AVERAGE_CHECK</th>\n",
       "      <th>FOOD_BEVERAGE_PURCHASE</th>\n",
       "      <th>FOOD_PURCHASE</th>\n",
       "      <th>BEVERAGE_PURCHASE</th>\n",
       "      <th>TOTAL_CATEGORY_DRY</th>\n",
       "      <th>TOTAL_CATEGORY_FRESH</th>\n",
       "      <th>TOTAL_CATEGORY_FROZEN</th>\n",
       "      <th>TOTAL_CATEGORY_PROTEIN</th>\n",
       "      <th>% Share of F&amp;B Purchases from Company</th>\n",
       "    </tr>\n",
       "  </thead>\n",
       "  <tbody>\n",
       "    <tr>\n",
       "      <th>0</th>\n",
       "      <td>APPLEBEE'S</td>\n",
       "      <td>POTTSTOWN</td>\n",
       "      <td>PA</td>\n",
       "      <td>19464</td>\n",
       "      <td>42091.0</td>\n",
       "      <td>MONTGOMERY</td>\n",
       "      <td>CLASSIC &amp; VARIED MENU</td>\n",
       "      <td>3</td>\n",
       "      <td>4</td>\n",
       "      <td>1</td>\n",
       "      <td>2</td>\n",
       "      <td>0</td>\n",
       "      <td>597290.100988</td>\n",
       "      <td>545006.687015</td>\n",
       "      <td>52283.413973</td>\n",
       "      <td>73292.586865</td>\n",
       "      <td>96286.339607</td>\n",
       "      <td>124412.626443</td>\n",
       "      <td>212623.779075</td>\n",
       "      <td>0.578681</td>\n",
       "    </tr>\n",
       "    <tr>\n",
       "      <th>1</th>\n",
       "      <td>STANS RESTAURANT</td>\n",
       "      <td>SAN LEANDRO</td>\n",
       "      <td>CA</td>\n",
       "      <td>94577</td>\n",
       "      <td>6001.0</td>\n",
       "      <td>ALAMEDA</td>\n",
       "      <td>CLASSIC &amp; VARIED MENU</td>\n",
       "      <td>5</td>\n",
       "      <td>0</td>\n",
       "      <td>1</td>\n",
       "      <td>0</td>\n",
       "      <td>1</td>\n",
       "      <td>39742.939174</td>\n",
       "      <td>36264.065946</td>\n",
       "      <td>3478.873227</td>\n",
       "      <td>4876.797417</td>\n",
       "      <td>6406.773077</td>\n",
       "      <td>8278.261162</td>\n",
       "      <td>14147.721358</td>\n",
       "      <td>0.339348</td>\n",
       "    </tr>\n",
       "  </tbody>\n",
       "</table>\n",
       "</div>"
      ],
      "text/plain": [
       "               NAME         CITY STATE    ZIP  COUNTY_CODE COUNTY_NAME  \\\n",
       "0        APPLEBEE'S    POTTSTOWN    PA  19464      42091.0  MONTGOMERY   \n",
       "1  STANS RESTAURANT  SAN LEANDRO    CA  94577       6001.0     ALAMEDA   \n",
       "\n",
       "         SIMPLIFIED_MENU  UNITS  EMPLOYEES  YEARS_IN_BUSINESS  ANNUAL_SALES  \\\n",
       "0  CLASSIC & VARIED MENU      3          4                  1             2   \n",
       "1  CLASSIC & VARIED MENU      5          0                  1             0   \n",
       "\n",
       "   AVERAGE_CHECK  FOOD_BEVERAGE_PURCHASE  FOOD_PURCHASE  BEVERAGE_PURCHASE  \\\n",
       "0              0           597290.100988  545006.687015       52283.413973   \n",
       "1              1            39742.939174   36264.065946        3478.873227   \n",
       "\n",
       "   TOTAL_CATEGORY_DRY  TOTAL_CATEGORY_FRESH  TOTAL_CATEGORY_FROZEN  \\\n",
       "0        73292.586865          96286.339607          124412.626443   \n",
       "1         4876.797417           6406.773077            8278.261162   \n",
       "\n",
       "   TOTAL_CATEGORY_PROTEIN  % Share of F&B Purchases from Company  \n",
       "0           212623.779075                               0.578681  \n",
       "1            14147.721358                               0.339348  "
      ]
     },
     "execution_count": 55,
     "metadata": {},
     "output_type": "execute_result"
    }
   ],
   "source": [
    "df.head(2)"
   ]
  },
  {
   "cell_type": "markdown",
   "id": "da98a853",
   "metadata": {},
   "source": [
    "6 - What % share of F&B purchases is the most for the companys's customer restaurants?"
   ]
  },
  {
   "cell_type": "code",
   "execution_count": 56,
   "id": "0bbe80b5",
   "metadata": {},
   "outputs": [
    {
     "data": {
      "text/plain": [
       "count    887.000000\n",
       "mean       0.486774\n",
       "std        0.288602\n",
       "min        0.001300\n",
       "25%        0.231484\n",
       "50%        0.489578\n",
       "75%        0.736600\n",
       "max        0.999887\n",
       "Name: % Share of F&B Purchases from Company, dtype: float64"
      ]
     },
     "execution_count": 56,
     "metadata": {},
     "output_type": "execute_result"
    }
   ],
   "source": [
    "df[\"% Share of F&B Purchases from Company\"].describe()"
   ]
  },
  {
   "cell_type": "code",
   "execution_count": 57,
   "id": "19c4553f",
   "metadata": {},
   "outputs": [
    {
     "data": {
      "text/plain": [
       "<AxesSubplot:xlabel='% Share of F&B Purchases from Company', ylabel='Count'>"
      ]
     },
     "execution_count": 57,
     "metadata": {},
     "output_type": "execute_result"
    },
    {
     "data": {
      "image/png": "[encoded data removed]",
      "text/plain": [
       "<Figure size 640x480 with 1 Axes>"
      ]
     },
     "metadata": {},
     "output_type": "display_data"
    }
   ],
   "source": [
    "sns.histplot(df[\"% Share of F&B Purchases from Company\"])"
   ]
  },
  {
   "cell_type": "markdown",
   "id": "dc0080fd",
   "metadata": {},
   "source": [
    "We can see that the most of the percent share lies between 0.2% - 0.6%, with average of 0.4%"
   ]
  },
  {
   "cell_type": "markdown",
   "id": "057ea7b6",
   "metadata": {},
   "source": [
    "7 - Which Menu Style restaurant have more no of annual sales ?"
   ]
  },
  {
   "cell_type": "code",
   "execution_count": 58,
   "id": "53b44ea2",
   "metadata": {},
   "outputs": [
    {
     "data": {
      "text/plain": [
       "<AxesSubplot:xlabel='ANNUAL_SALES', ylabel='SIMPLIFIED_MENU'>"
      ]
     },
     "execution_count": 58,
     "metadata": {},
     "output_type": "execute_result"
    },
    {
     "data": {
      "image/png": "[encoded data removed]",
      "text/plain": [
       "<Figure size 640x480 with 1 Axes>"
      ]
     },
     "metadata": {},
     "output_type": "display_data"
    }
   ],
   "source": [
    "sns.barplot(x=df['ANNUAL_SALES'], y=df['SIMPLIFIED_MENU'])"
   ]
  },
  {
   "cell_type": "markdown",
   "id": "45516fd2",
   "metadata": {},
   "source": [
    "As we can see from above chart : 1st Hamburgers"
   ]
  },
  {
   "cell_type": "markdown",
   "id": "3f523cea",
   "metadata": {},
   "source": [
    "After that 2nd Steak, Seafood & Fish category restraunts have most Anuual sales"
   ]
  },
  {
   "cell_type": "code",
   "execution_count": 59,
   "id": "cabf453a",
   "metadata": {},
   "outputs": [
    {
     "data": {
      "text/plain": [
       "0.9998868678449319"
      ]
     },
     "execution_count": 59,
     "metadata": {},
     "output_type": "execute_result"
    }
   ],
   "source": [
    "# Which restaurant has the most percent share of F&B purchases ?\n",
    "df[\"% Share of F&B Purchases from Company\"].max()"
   ]
  },
  {
   "cell_type": "code",
   "execution_count": 60,
   "id": "e7207030",
   "metadata": {},
   "outputs": [
    {
     "data": {
      "text/html": [
       "<div>\n",
       "<style scoped>\n",
       "    .dataframe tbody tr th:only-of-type {\n",
       "        vertical-align: middle;\n",
       "    }\n",
       "\n",
       "    .dataframe tbody tr th {\n",
       "        vertical-align: top;\n",
       "    }\n",
       "\n",
       "    .dataframe thead th {\n",
       "        text-align: right;\n",
       "    }\n",
       "</style>\n",
       "<table border=\"1\" class=\"dataframe\">\n",
       "  <thead>\n",
       "    <tr style=\"text-align: right;\">\n",
       "      <th></th>\n",
       "      <th>NAME</th>\n",
       "      <th>CITY</th>\n",
       "      <th>STATE</th>\n",
       "      <th>ZIP</th>\n",
       "      <th>COUNTY_CODE</th>\n",
       "      <th>COUNTY_NAME</th>\n",
       "      <th>SIMPLIFIED_MENU</th>\n",
       "      <th>UNITS</th>\n",
       "      <th>EMPLOYEES</th>\n",
       "      <th>YEARS_IN_BUSINESS</th>\n",
       "      <th>ANNUAL_SALES</th>\n",
       "      <th>AVERAGE_CHECK</th>\n",
       "      <th>FOOD_BEVERAGE_PURCHASE</th>\n",
       "      <th>FOOD_PURCHASE</th>\n",
       "      <th>BEVERAGE_PURCHASE</th>\n",
       "      <th>TOTAL_CATEGORY_DRY</th>\n",
       "      <th>TOTAL_CATEGORY_FRESH</th>\n",
       "      <th>TOTAL_CATEGORY_FROZEN</th>\n",
       "      <th>TOTAL_CATEGORY_PROTEIN</th>\n",
       "      <th>% Share of F&amp;B Purchases from Company</th>\n",
       "    </tr>\n",
       "  </thead>\n",
       "  <tbody>\n",
       "    <tr>\n",
       "      <th>45</th>\n",
       "      <td>CHINA BISTRO</td>\n",
       "      <td>DANVILLE</td>\n",
       "      <td>CA</td>\n",
       "      <td>94526</td>\n",
       "      <td>6013.0</td>\n",
       "      <td>CONTRA COSTA</td>\n",
       "      <td>CHINESE</td>\n",
       "      <td>5</td>\n",
       "      <td>0</td>\n",
       "      <td>1</td>\n",
       "      <td>0</td>\n",
       "      <td>1</td>\n",
       "      <td>28909.192282</td>\n",
       "      <td>27144.891092</td>\n",
       "      <td>1764.30119</td>\n",
       "      <td>4335.71181</td>\n",
       "      <td>5599.73856</td>\n",
       "      <td>4025.541657</td>\n",
       "      <td>10729.219148</td>\n",
       "      <td>0.999887</td>\n",
       "    </tr>\n",
       "  </tbody>\n",
       "</table>\n",
       "</div>"
      ],
      "text/plain": [
       "            NAME      CITY STATE    ZIP  COUNTY_CODE   COUNTY_NAME  \\\n",
       "45  CHINA BISTRO  DANVILLE    CA  94526       6013.0  CONTRA COSTA   \n",
       "\n",
       "   SIMPLIFIED_MENU  UNITS  EMPLOYEES  YEARS_IN_BUSINESS  ANNUAL_SALES  \\\n",
       "45         CHINESE      5          0                  1             0   \n",
       "\n",
       "    AVERAGE_CHECK  FOOD_BEVERAGE_PURCHASE  FOOD_PURCHASE  BEVERAGE_PURCHASE  \\\n",
       "45              1            28909.192282   27144.891092         1764.30119   \n",
       "\n",
       "    TOTAL_CATEGORY_DRY  TOTAL_CATEGORY_FRESH  TOTAL_CATEGORY_FROZEN  \\\n",
       "45          4335.71181            5599.73856            4025.541657   \n",
       "\n",
       "    TOTAL_CATEGORY_PROTEIN  % Share of F&B Purchases from Company  \n",
       "45            10729.219148                               0.999887  "
      ]
     },
     "execution_count": 60,
     "metadata": {},
     "output_type": "execute_result"
    }
   ],
   "source": [
    "df[df[\"% Share of F&B Purchases from Company\"] == 0.9998868678449319]"
   ]
  },
  {
   "cell_type": "markdown",
   "id": "ace48251",
   "metadata": {},
   "source": [
    "We can see that \"China Bistro\" has the most percent share of F&B purchases from Shauns Company."
   ]
  },
  {
   "cell_type": "code",
   "execution_count": 61,
   "id": "47f07369",
   "metadata": {},
   "outputs": [],
   "source": [
    "chinese_res = df[df.SIMPLIFIED_MENU == \"CHINESE\"]"
   ]
  },
  {
   "cell_type": "code",
   "execution_count": 62,
   "id": "24add87c",
   "metadata": {},
   "outputs": [
    {
     "data": {
      "text/html": [
       "<div>\n",
       "<style scoped>\n",
       "    .dataframe tbody tr th:only-of-type {\n",
       "        vertical-align: middle;\n",
       "    }\n",
       "\n",
       "    .dataframe tbody tr th {\n",
       "        vertical-align: top;\n",
       "    }\n",
       "\n",
       "    .dataframe thead th {\n",
       "        text-align: right;\n",
       "    }\n",
       "</style>\n",
       "<table border=\"1\" class=\"dataframe\">\n",
       "  <thead>\n",
       "    <tr style=\"text-align: right;\">\n",
       "      <th></th>\n",
       "      <th>ZIP</th>\n",
       "      <th>COUNTY_CODE</th>\n",
       "      <th>UNITS</th>\n",
       "      <th>EMPLOYEES</th>\n",
       "      <th>YEARS_IN_BUSINESS</th>\n",
       "      <th>ANNUAL_SALES</th>\n",
       "      <th>AVERAGE_CHECK</th>\n",
       "      <th>FOOD_BEVERAGE_PURCHASE</th>\n",
       "      <th>FOOD_PURCHASE</th>\n",
       "      <th>BEVERAGE_PURCHASE</th>\n",
       "      <th>TOTAL_CATEGORY_DRY</th>\n",
       "      <th>TOTAL_CATEGORY_FRESH</th>\n",
       "      <th>TOTAL_CATEGORY_FROZEN</th>\n",
       "      <th>TOTAL_CATEGORY_PROTEIN</th>\n",
       "      <th>% Share of F&amp;B Purchases from Company</th>\n",
       "    </tr>\n",
       "  </thead>\n",
       "  <tbody>\n",
       "    <tr>\n",
       "      <th>count</th>\n",
       "      <td>35.000000</td>\n",
       "      <td>35.000000</td>\n",
       "      <td>35.0</td>\n",
       "      <td>35.000000</td>\n",
       "      <td>35.0</td>\n",
       "      <td>35.000000</td>\n",
       "      <td>35.000000</td>\n",
       "      <td>35.000000</td>\n",
       "      <td>35.000000</td>\n",
       "      <td>35.000000</td>\n",
       "      <td>35.000000</td>\n",
       "      <td>35.000000</td>\n",
       "      <td>35.000000</td>\n",
       "      <td>35.000000</td>\n",
       "      <td>35.000000</td>\n",
       "    </tr>\n",
       "    <tr>\n",
       "      <th>mean</th>\n",
       "      <td>44823.857143</td>\n",
       "      <td>24666.828571</td>\n",
       "      <td>5.0</td>\n",
       "      <td>1.314286</td>\n",
       "      <td>1.0</td>\n",
       "      <td>0.142857</td>\n",
       "      <td>1.228571</td>\n",
       "      <td>92444.130109</td>\n",
       "      <td>86099.775732</td>\n",
       "      <td>6344.354377</td>\n",
       "      <td>13715.143681</td>\n",
       "      <td>17071.767653</td>\n",
       "      <td>13775.322995</td>\n",
       "      <td>33566.416613</td>\n",
       "      <td>0.470383</td>\n",
       "    </tr>\n",
       "    <tr>\n",
       "      <th>std</th>\n",
       "      <td>30120.650118</td>\n",
       "      <td>15276.398008</td>\n",
       "      <td>0.0</td>\n",
       "      <td>1.388428</td>\n",
       "      <td>0.0</td>\n",
       "      <td>0.550019</td>\n",
       "      <td>1.352247</td>\n",
       "      <td>159630.879186</td>\n",
       "      <td>149933.860013</td>\n",
       "      <td>9782.917149</td>\n",
       "      <td>23901.511953</td>\n",
       "      <td>30988.781899</td>\n",
       "      <td>22317.659019</td>\n",
       "      <td>59307.050772</td>\n",
       "      <td>0.298421</td>\n",
       "    </tr>\n",
       "    <tr>\n",
       "      <th>min</th>\n",
       "      <td>1545.000000</td>\n",
       "      <td>6001.000000</td>\n",
       "      <td>5.0</td>\n",
       "      <td>0.000000</td>\n",
       "      <td>1.0</td>\n",
       "      <td>0.000000</td>\n",
       "      <td>0.000000</td>\n",
       "      <td>28730.967300</td>\n",
       "      <td>25151.269316</td>\n",
       "      <td>1764.301190</td>\n",
       "      <td>4068.404579</td>\n",
       "      <td>3299.547707</td>\n",
       "      <td>4025.541657</td>\n",
       "      <td>9469.079364</td>\n",
       "      <td>0.017676</td>\n",
       "    </tr>\n",
       "    <tr>\n",
       "      <th>25%</th>\n",
       "      <td>20799.500000</td>\n",
       "      <td>11527.000000</td>\n",
       "      <td>5.0</td>\n",
       "      <td>0.000000</td>\n",
       "      <td>1.0</td>\n",
       "      <td>0.000000</td>\n",
       "      <td>1.000000</td>\n",
       "      <td>28945.134499</td>\n",
       "      <td>27178.639789</td>\n",
       "      <td>1809.368060</td>\n",
       "      <td>4341.102313</td>\n",
       "      <td>5599.738560</td>\n",
       "      <td>4128.369090</td>\n",
       "      <td>10729.219148</td>\n",
       "      <td>0.207220</td>\n",
       "    </tr>\n",
       "    <tr>\n",
       "      <th>50%</th>\n",
       "      <td>34609.000000</td>\n",
       "      <td>24031.000000</td>\n",
       "      <td>5.0</td>\n",
       "      <td>1.000000</td>\n",
       "      <td>1.0</td>\n",
       "      <td>0.000000</td>\n",
       "      <td>1.000000</td>\n",
       "      <td>63748.215000</td>\n",
       "      <td>57316.906878</td>\n",
       "      <td>3989.813847</td>\n",
       "      <td>9804.835540</td>\n",
       "      <td>10816.207089</td>\n",
       "      <td>9103.412690</td>\n",
       "      <td>22042.736636</td>\n",
       "      <td>0.523020</td>\n",
       "    </tr>\n",
       "    <tr>\n",
       "      <th>75%</th>\n",
       "      <td>68202.000000</td>\n",
       "      <td>37046.000000</td>\n",
       "      <td>5.0</td>\n",
       "      <td>3.000000</td>\n",
       "      <td>1.0</td>\n",
       "      <td>0.000000</td>\n",
       "      <td>1.000000</td>\n",
       "      <td>82257.128844</td>\n",
       "      <td>75989.610801</td>\n",
       "      <td>6301.045301</td>\n",
       "      <td>11743.742550</td>\n",
       "      <td>15103.311685</td>\n",
       "      <td>13470.710161</td>\n",
       "      <td>29330.432621</td>\n",
       "      <td>0.640827</td>\n",
       "    </tr>\n",
       "    <tr>\n",
       "      <th>max</th>\n",
       "      <td>95370.000000</td>\n",
       "      <td>55059.000000</td>\n",
       "      <td>5.0</td>\n",
       "      <td>4.000000</td>\n",
       "      <td>1.0</td>\n",
       "      <td>3.000000</td>\n",
       "      <td>6.000000</td>\n",
       "      <td>970073.636467</td>\n",
       "      <td>910870.942225</td>\n",
       "      <td>59202.694242</td>\n",
       "      <td>145488.662599</td>\n",
       "      <td>187904.203464</td>\n",
       "      <td>135080.627505</td>\n",
       "      <td>360028.482754</td>\n",
       "      <td>0.999887</td>\n",
       "    </tr>\n",
       "  </tbody>\n",
       "</table>\n",
       "</div>"
      ],
      "text/plain": [
       "                ZIP   COUNTY_CODE  UNITS  EMPLOYEES  YEARS_IN_BUSINESS  \\\n",
       "count     35.000000     35.000000   35.0  35.000000               35.0   \n",
       "mean   44823.857143  24666.828571    5.0   1.314286                1.0   \n",
       "std    30120.650118  15276.398008    0.0   1.388428                0.0   \n",
       "min     1545.000000   6001.000000    5.0   0.000000                1.0   \n",
       "25%    20799.500000  11527.000000    5.0   0.000000                1.0   \n",
       "50%    34609.000000  24031.000000    5.0   1.000000                1.0   \n",
       "75%    68202.000000  37046.000000    5.0   3.000000                1.0   \n",
       "max    95370.000000  55059.000000    5.0   4.000000                1.0   \n",
       "\n",
       "       ANNUAL_SALES  AVERAGE_CHECK  FOOD_BEVERAGE_PURCHASE  FOOD_PURCHASE  \\\n",
       "count     35.000000      35.000000               35.000000      35.000000   \n",
       "mean       0.142857       1.228571            92444.130109   86099.775732   \n",
       "std        0.550019       1.352247           159630.879186  149933.860013   \n",
       "min        0.000000       0.000000            28730.967300   25151.269316   \n",
       "25%        0.000000       1.000000            28945.134499   27178.639789   \n",
       "50%        0.000000       1.000000            63748.215000   57316.906878   \n",
       "75%        0.000000       1.000000            82257.128844   75989.610801   \n",
       "max        3.000000       6.000000           970073.636467  910870.942225   \n",
       "\n",
       "       BEVERAGE_PURCHASE  TOTAL_CATEGORY_DRY  TOTAL_CATEGORY_FRESH  \\\n",
       "count          35.000000           35.000000             35.000000   \n",
       "mean         6344.354377        13715.143681          17071.767653   \n",
       "std          9782.917149        23901.511953          30988.781899   \n",
       "min          1764.301190         4068.404579           3299.547707   \n",
       "25%          1809.368060         4341.102313           5599.738560   \n",
       "50%          3989.813847         9804.835540          10816.207089   \n",
       "75%          6301.045301        11743.742550          15103.311685   \n",
       "max         59202.694242       145488.662599         187904.203464   \n",
       "\n",
       "       TOTAL_CATEGORY_FROZEN  TOTAL_CATEGORY_PROTEIN  \\\n",
       "count              35.000000               35.000000   \n",
       "mean            13775.322995            33566.416613   \n",
       "std             22317.659019            59307.050772   \n",
       "min              4025.541657             9469.079364   \n",
       "25%              4128.369090            10729.219148   \n",
       "50%              9103.412690            22042.736636   \n",
       "75%             13470.710161            29330.432621   \n",
       "max            135080.627505           360028.482754   \n",
       "\n",
       "       % Share of F&B Purchases from Company  \n",
       "count                              35.000000  \n",
       "mean                                0.470383  \n",
       "std                                 0.298421  \n",
       "min                                 0.017676  \n",
       "25%                                 0.207220  \n",
       "50%                                 0.523020  \n",
       "75%                                 0.640827  \n",
       "max                                 0.999887  "
      ]
     },
     "execution_count": 62,
     "metadata": {},
     "output_type": "execute_result"
    }
   ],
   "source": [
    "df[df.SIMPLIFIED_MENU == \"CHINESE\"].describe()"
   ]
  },
  {
   "cell_type": "markdown",
   "id": "de64edef",
   "metadata": {},
   "source": [
    "There are total 35 Chinese Restaurants, with mean % share of purchases = 0.470383"
   ]
  },
  {
   "cell_type": "code",
   "execution_count": 63,
   "id": "18bf4543",
   "metadata": {},
   "outputs": [
    {
     "data": {
      "text/plain": [
       "3235544.553816012"
      ]
     },
     "execution_count": 63,
     "metadata": {},
     "output_type": "execute_result"
    }
   ],
   "source": [
    "#Total F&B Purchase for chinese restaurants =\n",
    "#Giving variable name to chinese restarunts\n",
    "chinese_res['FOOD_BEVERAGE_PURCHASE'].sum()"
   ]
  },
  {
   "cell_type": "markdown",
   "id": "32ef9c63",
   "metadata": {},
   "source": [
    "The total F&B Purchase for chinese restaurants = 3235544.553816012"
   ]
  },
  {
   "cell_type": "markdown",
   "id": "0ddfbb56",
   "metadata": {},
   "source": [
    "8 - Which Menu Style Restaurant has most % of F&B Share"
   ]
  },
  {
   "cell_type": "code",
   "execution_count": 64,
   "id": "a3a8e050",
   "metadata": {},
   "outputs": [
    {
     "data": {
      "text/plain": [
       "<AxesSubplot:xlabel='% Share of F&B Purchases from Company', ylabel='SIMPLIFIED_MENU'>"
      ]
     },
     "execution_count": 64,
     "metadata": {},
     "output_type": "execute_result"
    },
    {
     "data": {
      "image/png": "[encoded data removed]",
      "text/plain": [
       "<Figure size 640x480 with 1 Axes>"
      ]
     },
     "metadata": {},
     "output_type": "display_data"
    }
   ],
   "source": [
    "#Which Menu Style Restaurant has most % of F&B Share\n",
    "sns.barplot(y = df.SIMPLIFIED_MENU, x = df['% Share of F&B Purchases from Company'])"
   ]
  },
  {
   "cell_type": "markdown",
   "id": "0c5e6622",
   "metadata": {},
   "source": [
    "We can see that 1st - (American and American Traditional), 2nd - (BAR & GRILL, BREW PUB, & EATERTAINMENT) , \n",
    "3rd (Other ethnic foods)\n",
    "are those restaurants(Menu-Style) having most %share of F&B purchases"
   ]
  },
  {
   "cell_type": "code",
   "execution_count": 65,
   "id": "2845a36a",
   "metadata": {},
   "outputs": [
    {
     "data": {
      "text/plain": [
       "22.857019189412007"
      ]
     },
     "execution_count": 65,
     "metadata": {},
     "output_type": "execute_result"
    }
   ],
   "source": [
    "am_am = df[df.SIMPLIFIED_MENU == \"AMERICAN AND AMERICAN TRADITIONAL\"]\n",
    "am_am[\"% Share of F&B Purchases from Company\"].sum()"
   ]
  },
  {
   "cell_type": "markdown",
   "id": "4dc37411",
   "metadata": {},
   "source": [
    "TOtal % share of F&B Purchases from Company - For AMERICAN AND AMERICAN TRADITIONAL = 22.857019189412007"
   ]
  },
  {
   "cell_type": "code",
   "execution_count": 66,
   "id": "fd5e8914",
   "metadata": {},
   "outputs": [
    {
     "data": {
      "text/plain": [
       "12.763998314533591"
      ]
     },
     "execution_count": 66,
     "metadata": {},
     "output_type": "execute_result"
    }
   ],
   "source": [
    "bar_ent = df[df.SIMPLIFIED_MENU == \"BAR & GRILL, BREW PUB, & EATERTAINMENT\"]\n",
    "bar_ent[\"% Share of F&B Purchases from Company\"].sum()"
   ]
  },
  {
   "cell_type": "markdown",
   "id": "2b0ccff5",
   "metadata": {},
   "source": [
    "TOtal % share of F&B Purchases from Company - For BAR & GRILL, BREW PUB, & EATERTAINMENT = 12.763998314533591"
   ]
  },
  {
   "cell_type": "code",
   "execution_count": 67,
   "id": "7c743a5b",
   "metadata": {},
   "outputs": [
    {
     "data": {
      "text/plain": [
       "5.144706661978111"
      ]
     },
     "execution_count": 67,
     "metadata": {},
     "output_type": "execute_result"
    }
   ],
   "source": [
    "et_am = df[df.SIMPLIFIED_MENU == \"OTHER ETHNIC FOOD\"]\n",
    "et_am[\"% Share of F&B Purchases from Company\"].sum()"
   ]
  },
  {
   "cell_type": "markdown",
   "id": "825a61cc",
   "metadata": {},
   "source": [
    "TOtal % share of F&B Purchases from Company - For ethnic foods = 5.144706661978111"
   ]
  },
  {
   "cell_type": "markdown",
   "id": "58550978",
   "metadata": {},
   "source": [
    "# Conclusion to sheet 1\n",
    "# Therefore, we can notice that restaurants with menu style - \n",
    "1 - AMERICAN AND AMERICAN TRADITIONAL\n",
    "\n",
    "2 - BAR & GRILL, BREW PUB, & EATERTAINMENT\n",
    "\n",
    "3 - OTHER ETHNIC FOOD\n",
    "\n",
    "have the most % share of F&B Purchases from shaun's company\n",
    "\n",
    "Hence, we get the insight that these category restaurants must be approched so as to get Maximum percent of share in there purchases"
   ]
  },
  {
   "cell_type": "markdown",
   "id": "b5c8a22d",
   "metadata": {},
   "source": [
    "# Now , Data visualisation using BI Tools would give better understanding to the Clients"
   ]
  },
  {
   "cell_type": "markdown",
   "id": "7e05d260",
   "metadata": {},
   "source": [
    "The biggest opportunities can be found in these type of (menu style) restaurants in Non-Commercial establishments as well as Retail Outlets"
   ]
  },
  {
   "cell_type": "code",
   "execution_count": 68,
   "id": "8510cac4",
   "metadata": {},
   "outputs": [],
   "source": [
    "#Exporting new sheet 1\n",
    "df.to_excel('Sheet_1.xlsx')"
   ]
  },
  {
   "cell_type": "markdown",
   "id": "974ee9df",
   "metadata": {},
   "source": [
    "# Sheet 2 - Data Cleaning and EDA"
   ]
  },
  {
   "cell_type": "code",
   "execution_count": 69,
   "id": "cc4e9cf0",
   "metadata": {},
   "outputs": [
    {
     "name": "stdout",
     "output_type": "stream",
     "text": [
      "D:\\Bepec\\Project 2 - Food Service\n"
     ]
    }
   ],
   "source": [
    "cd D:\\Bepec\\Project 2 - Food Service"
   ]
  },
  {
   "cell_type": "code",
   "execution_count": 70,
   "id": "e90ddb43",
   "metadata": {},
   "outputs": [],
   "source": [
    "df2 = pd.read_excel(\"Food_services.docx-EmbeddedFile.xlsx\", \"Non Commercial\" )"
   ]
  },
  {
   "cell_type": "code",
   "execution_count": 71,
   "id": "44b9f0fd",
   "metadata": {},
   "outputs": [
    {
     "data": {
      "text/html": [
       "<div>\n",
       "<style scoped>\n",
       "    .dataframe tbody tr th:only-of-type {\n",
       "        vertical-align: middle;\n",
       "    }\n",
       "\n",
       "    .dataframe tbody tr th {\n",
       "        vertical-align: top;\n",
       "    }\n",
       "\n",
       "    .dataframe thead th {\n",
       "        text-align: right;\n",
       "    }\n",
       "</style>\n",
       "<table border=\"1\" class=\"dataframe\">\n",
       "  <thead>\n",
       "    <tr style=\"text-align: right;\">\n",
       "      <th></th>\n",
       "      <th>NAME</th>\n",
       "      <th>ADDRESS</th>\n",
       "      <th>CITY</th>\n",
       "      <th>STATE</th>\n",
       "      <th>ZIP</th>\n",
       "      <th>ZIP_PLUS4</th>\n",
       "      <th>COUNTY_CODE</th>\n",
       "      <th>COUNTY_NAME</th>\n",
       "      <th>MSA</th>\n",
       "      <th>MARKET_SEGMENT</th>\n",
       "      <th>...</th>\n",
       "      <th>ENROLLMENT_RANGE</th>\n",
       "      <th>CAPACITY_BEDS_RANGE</th>\n",
       "      <th>NUMBER_OF_SCHOOLS_RANGE</th>\n",
       "      <th>OPERATION_TYPE</th>\n",
       "      <th>OWNERSHIP_TYPE</th>\n",
       "      <th>NUMBER_OF_MEALS_PER_DAY_RANGE</th>\n",
       "      <th>AVERAGE_DAILY_CENSUS</th>\n",
       "      <th>PRIMARY_GPO</th>\n",
       "      <th>SECONDARY_GPO</th>\n",
       "      <th>TOTAL_PATIENT_DAYS</th>\n",
       "    </tr>\n",
       "  </thead>\n",
       "  <tbody>\n",
       "    <tr>\n",
       "      <th>0</th>\n",
       "      <td>HERITAGE HALL NORTH NURSING HOME</td>\n",
       "      <td>55 COOPER ST</td>\n",
       "      <td>AGAWAM</td>\n",
       "      <td>MA</td>\n",
       "      <td>1001</td>\n",
       "      <td>2149.0</td>\n",
       "      <td>25013</td>\n",
       "      <td>HAMPDEN</td>\n",
       "      <td>1122.0</td>\n",
       "      <td>NURSING HOME</td>\n",
       "      <td>...</td>\n",
       "      <td>NOT APPLICABLE</td>\n",
       "      <td>101 TO 500</td>\n",
       "      <td>NOT APPLICABLE</td>\n",
       "      <td>UNCODED</td>\n",
       "      <td>PUBLIC</td>\n",
       "      <td>&gt;2000</td>\n",
       "      <td>120.0</td>\n",
       "      <td>NaN</td>\n",
       "      <td>NaN</td>\n",
       "      <td>NaN</td>\n",
       "    </tr>\n",
       "    <tr>\n",
       "      <th>1</th>\n",
       "      <td>AGAWAM COUNCIL ON AGING SENIOR CENTER</td>\n",
       "      <td>68 MEADOWBROOK MNR</td>\n",
       "      <td>AGAWAM</td>\n",
       "      <td>MA</td>\n",
       "      <td>1001</td>\n",
       "      <td>3126.0</td>\n",
       "      <td>25013</td>\n",
       "      <td>HAMPDEN</td>\n",
       "      <td>1122.0</td>\n",
       "      <td>SOCIAL AND PRIVATE CLUBS, LEGIONS, FRATERNITIES</td>\n",
       "      <td>...</td>\n",
       "      <td>NOT APPLICABLE</td>\n",
       "      <td>NOT APPLICABLE</td>\n",
       "      <td>NOT APPLICABLE</td>\n",
       "      <td>UNCODED</td>\n",
       "      <td>UNCODED</td>\n",
       "      <td>51 TO 100</td>\n",
       "      <td>NaN</td>\n",
       "      <td>NaN</td>\n",
       "      <td>NaN</td>\n",
       "      <td>NaN</td>\n",
       "    </tr>\n",
       "  </tbody>\n",
       "</table>\n",
       "<p>2 rows × 21 columns</p>\n",
       "</div>"
      ],
      "text/plain": [
       "                                    NAME             ADDRESS    CITY STATE  \\\n",
       "0       HERITAGE HALL NORTH NURSING HOME        55 COOPER ST  AGAWAM    MA   \n",
       "1  AGAWAM COUNCIL ON AGING SENIOR CENTER  68 MEADOWBROOK MNR  AGAWAM    MA   \n",
       "\n",
       "    ZIP  ZIP_PLUS4  COUNTY_CODE COUNTY_NAME     MSA  \\\n",
       "0  1001     2149.0        25013     HAMPDEN  1122.0   \n",
       "1  1001     3126.0        25013     HAMPDEN  1122.0   \n",
       "\n",
       "                                    MARKET_SEGMENT  ... ENROLLMENT_RANGE  \\\n",
       "0                                     NURSING HOME  ...   NOT APPLICABLE   \n",
       "1  SOCIAL AND PRIVATE CLUBS, LEGIONS, FRATERNITIES  ...   NOT APPLICABLE   \n",
       "\n",
       "  CAPACITY_BEDS_RANGE NUMBER_OF_SCHOOLS_RANGE OPERATION_TYPE OWNERSHIP_TYPE  \\\n",
       "0          101 TO 500          NOT APPLICABLE        UNCODED         PUBLIC   \n",
       "1      NOT APPLICABLE          NOT APPLICABLE        UNCODED        UNCODED   \n",
       "\n",
       "  NUMBER_OF_MEALS_PER_DAY_RANGE AVERAGE_DAILY_CENSUS  PRIMARY_GPO  \\\n",
       "0                         >2000                120.0          NaN   \n",
       "1                     51 TO 100                  NaN          NaN   \n",
       "\n",
       "  SECONDARY_GPO TOTAL_PATIENT_DAYS  \n",
       "0           NaN                NaN  \n",
       "1           NaN                NaN  \n",
       "\n",
       "[2 rows x 21 columns]"
      ]
     },
     "execution_count": 71,
     "metadata": {},
     "output_type": "execute_result"
    }
   ],
   "source": [
    "df2.head(2)"
   ]
  },
  {
   "cell_type": "code",
   "execution_count": 72,
   "id": "c5f2c342",
   "metadata": {},
   "outputs": [
    {
     "name": "stdout",
     "output_type": "stream",
     "text": [
      "<class 'pandas.core.frame.DataFrame'>\n",
      "RangeIndex: 1000 entries, 0 to 999\n",
      "Data columns (total 21 columns):\n",
      " #   Column                         Non-Null Count  Dtype  \n",
      "---  ------                         --------------  -----  \n",
      " 0   NAME                           1000 non-null   object \n",
      " 1   ADDRESS                        1000 non-null   object \n",
      " 2   CITY                           1000 non-null   object \n",
      " 3   STATE                          1000 non-null   object \n",
      " 4   ZIP                            1000 non-null   int64  \n",
      " 5   ZIP_PLUS4                      996 non-null    float64\n",
      " 6   COUNTY_CODE                    1000 non-null   int64  \n",
      " 7   COUNTY_NAME                    1000 non-null   object \n",
      " 8   MSA                            972 non-null    float64\n",
      " 9   MARKET_SEGMENT                 1000 non-null   object \n",
      " 10  EMPLOYEES_NON_COMMERCIAL       1000 non-null   object \n",
      " 11  ENROLLMENT_RANGE               1000 non-null   object \n",
      " 12  CAPACITY_BEDS_RANGE            1000 non-null   object \n",
      " 13  NUMBER_OF_SCHOOLS_RANGE        1000 non-null   object \n",
      " 14  OPERATION_TYPE                 1000 non-null   object \n",
      " 15  OWNERSHIP_TYPE                 1000 non-null   object \n",
      " 16  NUMBER_OF_MEALS_PER_DAY_RANGE  1000 non-null   object \n",
      " 17  AVERAGE_DAILY_CENSUS           255 non-null    float64\n",
      " 18  PRIMARY_GPO                    92 non-null     object \n",
      " 19  SECONDARY_GPO                  23 non-null     object \n",
      " 20  TOTAL_PATIENT_DAYS             27 non-null     object \n",
      "dtypes: float64(3), int64(2), object(16)\n",
      "memory usage: 164.2+ KB\n"
     ]
    }
   ],
   "source": [
    "df2.info()"
   ]
  },
  {
   "cell_type": "code",
   "execution_count": 73,
   "id": "b9bc1f47",
   "metadata": {},
   "outputs": [],
   "source": [
    "# Dropping columns having large amount of null values or UNCODED Values\n",
    "# Lets drop MSA column and Zipplus4 too (No Use)\n",
    "del df2[\"AVERAGE_DAILY_CENSUS\"]\n",
    "del df2[\"PRIMARY_GPO\"]\n",
    "del df2[\"SECONDARY_GPO\"]\n",
    "del df2[\"TOTAL_PATIENT_DAYS\"]\n",
    "del df2[\"MSA\"]\n",
    "del df2[\"ZIP_PLUS4\"]\n",
    "del df2[\"CAPACITY_BEDS_RANGE\"]\n",
    "del df2[\"NUMBER_OF_SCHOOLS_RANGE\"]\n",
    "del df2[\"OPERATION_TYPE\"]\n",
    "del df2[\"OWNERSHIP_TYPE\"]"
   ]
  },
  {
   "cell_type": "code",
   "execution_count": 74,
   "id": "2ba025d1",
   "metadata": {},
   "outputs": [
    {
     "name": "stdout",
     "output_type": "stream",
     "text": [
      "<class 'pandas.core.frame.DataFrame'>\n",
      "RangeIndex: 1000 entries, 0 to 999\n",
      "Data columns (total 11 columns):\n",
      " #   Column                         Non-Null Count  Dtype \n",
      "---  ------                         --------------  ----- \n",
      " 0   NAME                           1000 non-null   object\n",
      " 1   ADDRESS                        1000 non-null   object\n",
      " 2   CITY                           1000 non-null   object\n",
      " 3   STATE                          1000 non-null   object\n",
      " 4   ZIP                            1000 non-null   int64 \n",
      " 5   COUNTY_CODE                    1000 non-null   int64 \n",
      " 6   COUNTY_NAME                    1000 non-null   object\n",
      " 7   MARKET_SEGMENT                 1000 non-null   object\n",
      " 8   EMPLOYEES_NON_COMMERCIAL       1000 non-null   object\n",
      " 9   ENROLLMENT_RANGE               1000 non-null   object\n",
      " 10  NUMBER_OF_MEALS_PER_DAY_RANGE  1000 non-null   object\n",
      "dtypes: int64(2), object(9)\n",
      "memory usage: 86.1+ KB\n"
     ]
    }
   ],
   "source": [
    "df2.info()"
   ]
  },
  {
   "cell_type": "code",
   "execution_count": 75,
   "id": "1846ee1a",
   "metadata": {},
   "outputs": [
    {
     "data": {
      "text/plain": [
       "array(['MA'], dtype=object)"
      ]
     },
     "execution_count": 75,
     "metadata": {},
     "output_type": "execute_result"
    }
   ],
   "source": [
    "# The dataset contains non commercial data of MA (Massachusetts) State only.\n",
    "df2.STATE.unique()"
   ]
  },
  {
   "cell_type": "code",
   "execution_count": 76,
   "id": "9bfd78e9",
   "metadata": {},
   "outputs": [
    {
     "data": {
      "text/plain": [
       "array(['UNCODED', '251-500', '1000+', '1-250', '751-999', '501-750'],\n",
       "      dtype=object)"
      ]
     },
     "execution_count": 76,
     "metadata": {},
     "output_type": "execute_result"
    }
   ],
   "source": [
    "# The employee count column have Uncoded values too\n",
    "df2.EMPLOYEES_NON_COMMERCIAL.unique()"
   ]
  },
  {
   "cell_type": "code",
   "execution_count": 77,
   "id": "cc080eda",
   "metadata": {},
   "outputs": [],
   "source": [
    "# as most of the rows contain UNCODED values, hence no replacement can be done\n",
    "# hence it is better to leave the data for employee count as it is and delete it \n",
    "# and should avoid analysis using this column\n",
    "df2[df2.EMPLOYEES_NON_COMMERCIAL == 'UNCODED'].shape\n",
    "del df2[\"EMPLOYEES_NON_COMMERCIAL\"]"
   ]
  },
  {
   "cell_type": "code",
   "execution_count": 78,
   "id": "27d0ffd2",
   "metadata": {},
   "outputs": [
    {
     "data": {
      "text/plain": [
       "NOT APPLICABLE    672\n",
       "UNCODED            98\n",
       "2001 TO 5000       69\n",
       "1001 TO 2000       46\n",
       "251 TO 500         38\n",
       "501 TO 1000        32\n",
       "OVER 5000          31\n",
       "250 AND LESS       14\n",
       "Name: ENROLLMENT_RANGE, dtype: int64"
      ]
     },
     "execution_count": 78,
     "metadata": {},
     "output_type": "execute_result"
    }
   ],
   "source": [
    "# as most of the rows contain NOT APPLICABLE values, hence no replacement can be done\n",
    "# hence it is better to leave the data for ENROLLMENT_RANGE as it is and delete it\n",
    "# and should avoid analysis using this column\n",
    "df2.ENROLLMENT_RANGE.value_counts()"
   ]
  },
  {
   "cell_type": "code",
   "execution_count": 79,
   "id": "6ff03406",
   "metadata": {},
   "outputs": [],
   "source": [
    "del df2[\"ENROLLMENT_RANGE\"]"
   ]
  },
  {
   "cell_type": "code",
   "execution_count": 80,
   "id": "5802bbdc",
   "metadata": {},
   "outputs": [
    {
     "data": {
      "text/plain": [
       "array(['>2000', '51 TO 100', '1001 TO 2000', '251 TO 500', '501 TO 1000',\n",
       "       '101 TO 250'], dtype=object)"
      ]
     },
     "execution_count": 80,
     "metadata": {},
     "output_type": "execute_result"
    }
   ],
   "source": [
    "# NUMBER_OF_MEALS_PER_DAY_RANGE column can help us identify the requirement of F&B Purchases from the company\n",
    "df2.NUMBER_OF_MEALS_PER_DAY_RANGE.unique()"
   ]
  },
  {
   "cell_type": "code",
   "execution_count": 81,
   "id": "9d21892a",
   "metadata": {},
   "outputs": [
    {
     "data": {
      "text/plain": [
       "array([2000,   50, 1000,  250,  500,  100], dtype=int64)"
      ]
     },
     "execution_count": 81,
     "metadata": {},
     "output_type": "execute_result"
    }
   ],
   "source": [
    "# NUMBER_OF_MEALS_PER_DAY_RANGE Column value are replaced using self label encoding for better analysis\n",
    "df2.NUMBER_OF_MEALS_PER_DAY_RANGE=df2.NUMBER_OF_MEALS_PER_DAY_RANGE.replace('51 TO 100', 50)\n",
    "df2.NUMBER_OF_MEALS_PER_DAY_RANGE=df2.NUMBER_OF_MEALS_PER_DAY_RANGE.replace('101 TO 250', 100)\n",
    "df2.NUMBER_OF_MEALS_PER_DAY_RANGE=df2.NUMBER_OF_MEALS_PER_DAY_RANGE.replace('251 TO 500', 250)\n",
    "df2.NUMBER_OF_MEALS_PER_DAY_RANGE=df2.NUMBER_OF_MEALS_PER_DAY_RANGE.replace('501 TO 1000', 500)\n",
    "df2.NUMBER_OF_MEALS_PER_DAY_RANGE=df2.NUMBER_OF_MEALS_PER_DAY_RANGE.replace('1001 TO 2000', 1000)\n",
    "df2.NUMBER_OF_MEALS_PER_DAY_RANGE=df2.NUMBER_OF_MEALS_PER_DAY_RANGE.replace('>2000', 2000)\n",
    "df2.NUMBER_OF_MEALS_PER_DAY_RANGE.unique()"
   ]
  },
  {
   "cell_type": "code",
   "execution_count": 82,
   "id": "0f143314",
   "metadata": {},
   "outputs": [
    {
     "name": "stdout",
     "output_type": "stream",
     "text": [
      "<class 'pandas.core.frame.DataFrame'>\n",
      "RangeIndex: 1000 entries, 0 to 999\n",
      "Data columns (total 9 columns):\n",
      " #   Column                         Non-Null Count  Dtype \n",
      "---  ------                         --------------  ----- \n",
      " 0   NAME                           1000 non-null   object\n",
      " 1   ADDRESS                        1000 non-null   object\n",
      " 2   CITY                           1000 non-null   object\n",
      " 3   STATE                          1000 non-null   object\n",
      " 4   ZIP                            1000 non-null   int64 \n",
      " 5   COUNTY_CODE                    1000 non-null   int64 \n",
      " 6   COUNTY_NAME                    1000 non-null   object\n",
      " 7   MARKET_SEGMENT                 1000 non-null   object\n",
      " 8   NUMBER_OF_MEALS_PER_DAY_RANGE  1000 non-null   int64 \n",
      "dtypes: int64(3), object(6)\n",
      "memory usage: 70.4+ KB\n"
     ]
    }
   ],
   "source": [
    "df2.info()"
   ]
  },
  {
   "cell_type": "markdown",
   "id": "e10091b0",
   "metadata": {},
   "source": [
    "# Statistical Findings and Questions based from dataset"
   ]
  },
  {
   "cell_type": "markdown",
   "id": "e510abab",
   "metadata": {},
   "source": [
    "1 Which city consumes the maximum number of meals per day?"
   ]
  },
  {
   "cell_type": "code",
   "execution_count": 83,
   "id": "bf93e724",
   "metadata": {},
   "outputs": [
    {
     "data": {
      "text/plain": [
       "50      325\n",
       "2000    306\n",
       "500     177\n",
       "1000    127\n",
       "250      43\n",
       "100      22\n",
       "Name: NUMBER_OF_MEALS_PER_DAY_RANGE, dtype: int64"
      ]
     },
     "execution_count": 83,
     "metadata": {},
     "output_type": "execute_result"
    }
   ],
   "source": [
    "df2.NUMBER_OF_MEALS_PER_DAY_RANGE.value_counts()"
   ]
  },
  {
   "cell_type": "code",
   "execution_count": 84,
   "id": "51b011ff",
   "metadata": {},
   "outputs": [
    {
     "data": {
      "text/plain": [
       "WORCESTER           23\n",
       "BOSTON              13\n",
       "SPRINGFIELD          8\n",
       "FRAMINGHAM           8\n",
       "HOLYOKE              8\n",
       "                    ..\n",
       "CONWAY               1\n",
       "WEBSTER              1\n",
       "SWAMPSCOTT           1\n",
       "WEST STOCKBRIDGE     1\n",
       "AGAWAM               1\n",
       "Name: CITY, Length: 128, dtype: int64"
      ]
     },
     "execution_count": 84,
     "metadata": {},
     "output_type": "execute_result"
    }
   ],
   "source": [
    "# Top City with more than 2000 meals per day\n",
    "# 1st - WORCESTER\n",
    "# 2nd - BOSTON\n",
    "df2.CITY[df2.NUMBER_OF_MEALS_PER_DAY_RANGE == 2000].value_counts()"
   ]
  },
  {
   "cell_type": "code",
   "execution_count": 85,
   "id": "df35e4dd",
   "metadata": {},
   "outputs": [
    {
     "data": {
      "text/plain": [
       "WORCESTER    6\n",
       "WESTFIELD    6\n",
       "BOSTON       6\n",
       "METHUEN      3\n",
       "LOWELL       3\n",
       "            ..\n",
       "LUNENBURG    1\n",
       "HARVARD      1\n",
       "GROTON       1\n",
       "GARDNER      1\n",
       "AMHERST      1\n",
       "Name: CITY, Length: 87, dtype: int64"
      ]
     },
     "execution_count": 85,
     "metadata": {},
     "output_type": "execute_result"
    }
   ],
   "source": [
    "# Top City with more than 1000 meals per day\n",
    "# 1st - WORCESTER\n",
    "# 2nd - Westfield\n",
    "df2.CITY[df2.NUMBER_OF_MEALS_PER_DAY_RANGE == 1000].value_counts()"
   ]
  },
  {
   "cell_type": "code",
   "execution_count": 86,
   "id": "3e91ae8e",
   "metadata": {},
   "outputs": [
    {
     "data": {
      "text/plain": [
       "BOSTON           14\n",
       "WORCESTER         7\n",
       "LYNN              6\n",
       "SPRINGFIELD       6\n",
       "LAWRENCE          6\n",
       "                 ..\n",
       "NORTH READING     1\n",
       "AUBURN            1\n",
       "PEPPERELL         1\n",
       "GARDNER           1\n",
       "DORCHESTER        1\n",
       "Name: CITY, Length: 87, dtype: int64"
      ]
     },
     "execution_count": 86,
     "metadata": {},
     "output_type": "execute_result"
    }
   ],
   "source": [
    "# Top City with more than 500 meals per day\n",
    "# 1st - Boston\n",
    "# 2nd - Worchester\n",
    "df2.CITY[df2.NUMBER_OF_MEALS_PER_DAY_RANGE == 500].value_counts()"
   ]
  },
  {
   "cell_type": "code",
   "execution_count": 87,
   "id": "416e1fb5",
   "metadata": {},
   "outputs": [
    {
     "data": {
      "text/plain": [
       "WORCESTER           5\n",
       "BOSTON              4\n",
       "CHICOPEE            3\n",
       "NORWOOD             2\n",
       "HATHORNE            2\n",
       "BEVERLY             2\n",
       "ANDOVER             2\n",
       "SPRINGFIELD         1\n",
       "WOBURN              1\n",
       "WESTWOOD            1\n",
       "MARSHFIELD          1\n",
       "SOUTH HAMILTON      1\n",
       "MERRIMAC            1\n",
       "LOWELL              1\n",
       "METHUEN             1\n",
       "LAWRENCE            1\n",
       "SHERBORN            1\n",
       "GREAT BARRINGTON    1\n",
       "LEEDS               1\n",
       "NORTHAMPTON         1\n",
       "WESTBOROUGH         1\n",
       "SHREWSBURY          1\n",
       "LEICESTER           1\n",
       "LITTLETON           1\n",
       "GARDNER             1\n",
       "FITCHBURG           1\n",
       "ATHOL               1\n",
       "WILLIAMSTOWN        1\n",
       "NORTH ADAMS         1\n",
       "HUDSON              1\n",
       "Name: CITY, dtype: int64"
      ]
     },
     "execution_count": 87,
     "metadata": {},
     "output_type": "execute_result"
    }
   ],
   "source": [
    "# Top City with more than 250 meals per day\n",
    "# 1st - WORCESTER\n",
    "# 2nd - BOSTON\n",
    "df2.CITY[df2.NUMBER_OF_MEALS_PER_DAY_RANGE == 250].value_counts()"
   ]
  },
  {
   "cell_type": "code",
   "execution_count": 88,
   "id": "eed4f5d1",
   "metadata": {},
   "outputs": [
    {
     "data": {
      "text/plain": [
       "WORCESTER          2\n",
       "PITTSFIELD         1\n",
       "LOWELL             1\n",
       "BOSTON             1\n",
       "WESTWOOD           1\n",
       "NORWOOD            1\n",
       "HINGHAM            1\n",
       "GLOUCESTER         1\n",
       "DANVERS            1\n",
       "SWAMPSCOTT         1\n",
       "WAKEFIELD          1\n",
       "METHUEN            1\n",
       "NEW MARLBOROUGH    1\n",
       "CHELMSFORD         1\n",
       "BURLINGTON         1\n",
       "FRAMINGHAM         1\n",
       "SPENCER            1\n",
       "PETERSHAM          1\n",
       "CONWAY             1\n",
       "CHARLEMONT         1\n",
       "DORCHESTER         1\n",
       "Name: CITY, dtype: int64"
      ]
     },
     "execution_count": 88,
     "metadata": {},
     "output_type": "execute_result"
    }
   ],
   "source": [
    "# Top City with more than 100 meals per day\n",
    "# 1st - WORCESTER\n",
    "# 2nd - Pittsfield\n",
    "df2.CITY[df2.NUMBER_OF_MEALS_PER_DAY_RANGE == 100].value_counts()"
   ]
  },
  {
   "cell_type": "code",
   "execution_count": 89,
   "id": "5710bb31",
   "metadata": {},
   "outputs": [
    {
     "data": {
      "text/plain": [
       "BOSTON         29\n",
       "SPRINGFIELD    19\n",
       "WORCESTER      17\n",
       "LAWRENCE       12\n",
       "PITTSFIELD     11\n",
       "               ..\n",
       "WINCHENDON      1\n",
       "TOWNSEND        1\n",
       "PEPPERELL       1\n",
       "LUNENBURG       1\n",
       "SUTTON          1\n",
       "Name: CITY, Length: 152, dtype: int64"
      ]
     },
     "execution_count": 89,
     "metadata": {},
     "output_type": "execute_result"
    }
   ],
   "source": [
    "# Top City with more than 50 meals per day\n",
    "# 1st - Boston\n",
    "# 2nd - Springfield\n",
    "df2.CITY[df2.NUMBER_OF_MEALS_PER_DAY_RANGE == 50].value_counts()"
   ]
  },
  {
   "cell_type": "markdown",
   "id": "2ce07dd9",
   "metadata": {},
   "source": [
    "From the above results we can see that (Worcester City), was among the top cities with most no of meals per day"
   ]
  },
  {
   "cell_type": "code",
   "execution_count": 90,
   "id": "61b75512",
   "metadata": {},
   "outputs": [
    {
     "name": "stdout",
     "output_type": "stream",
     "text": [
      "<class 'pandas.core.frame.DataFrame'>\n",
      "RangeIndex: 1000 entries, 0 to 999\n",
      "Data columns (total 9 columns):\n",
      " #   Column                         Non-Null Count  Dtype \n",
      "---  ------                         --------------  ----- \n",
      " 0   NAME                           1000 non-null   object\n",
      " 1   ADDRESS                        1000 non-null   object\n",
      " 2   CITY                           1000 non-null   object\n",
      " 3   STATE                          1000 non-null   object\n",
      " 4   ZIP                            1000 non-null   int64 \n",
      " 5   COUNTY_CODE                    1000 non-null   int64 \n",
      " 6   COUNTY_NAME                    1000 non-null   object\n",
      " 7   MARKET_SEGMENT                 1000 non-null   object\n",
      " 8   NUMBER_OF_MEALS_PER_DAY_RANGE  1000 non-null   int64 \n",
      "dtypes: int64(3), object(6)\n",
      "memory usage: 70.4+ KB\n"
     ]
    }
   ],
   "source": [
    "df2.info()"
   ]
  },
  {
   "cell_type": "markdown",
   "id": "49fa8141",
   "metadata": {},
   "source": [
    "2 - Which Market Segment was among the top consumer of (Meals per day) in WORCESTER City?"
   ]
  },
  {
   "cell_type": "code",
   "execution_count": 91,
   "id": "628ead8c",
   "metadata": {},
   "outputs": [
    {
     "data": {
      "text/plain": [
       "NURSING HOME                                                 15\n",
       "OTHER HEALTHCARE ESTABLISHMENTS                              12\n",
       "4 YEAR COLLEGE & UNIVERSITIES                                 6\n",
       "PRIMARY SCHOOL                                                6\n",
       "HOSPITALS                                                     6\n",
       "CENTERS FOR REHABILITATION AND READAPTION, ADULT DAY CARE     6\n",
       "PRE-K, KINDERGARTEN, CHILD CARE                               2\n",
       "SECONDARY SCHOOL                                              2\n",
       "ASSISTED LIVING                                               2\n",
       "2 YEAR COLLEGE & UNIVERSITIES                                 2\n",
       "SCHOOL DISTRICTS                                              1\n",
       "Name: MARKET_SEGMENT, dtype: int64"
      ]
     },
     "execution_count": 91,
     "metadata": {},
     "output_type": "execute_result"
    }
   ],
   "source": [
    "df2.MARKET_SEGMENT[df2.CITY == \"WORCESTER\"].value_counts()"
   ]
  },
  {
   "cell_type": "markdown",
   "id": "d3c2002a",
   "metadata": {},
   "source": [
    "1st - NURSING HOME \n",
    "\n",
    "2nd - OTHER HEALTHCARE ESTABLISHMENTS"
   ]
  },
  {
   "cell_type": "code",
   "execution_count": 92,
   "id": "7dfecc47",
   "metadata": {},
   "outputs": [
    {
     "data": {
      "text/plain": [
       "2000    129\n",
       "1000     61\n",
       "500      31\n",
       "Name: NUMBER_OF_MEALS_PER_DAY_RANGE, dtype: int64"
      ]
     },
     "execution_count": 92,
     "metadata": {},
     "output_type": "execute_result"
    }
   ],
   "source": [
    "# The code output shows that 2000 meals per day consumed from 129 Nursing-Home segment\n",
    "# and 1000 meals per day from 61 Nursing home segment\n",
    "df2.NUMBER_OF_MEALS_PER_DAY_RANGE[df2.MARKET_SEGMENT == \"NURSING HOME\"].value_counts()"
   ]
  },
  {
   "cell_type": "markdown",
   "id": "3d948c46",
   "metadata": {},
   "source": [
    "This confirms that Nursing Homes consumes maximum amount of Meals per day"
   ]
  },
  {
   "cell_type": "code",
   "execution_count": 93,
   "id": "94bf9325",
   "metadata": {},
   "outputs": [
    {
     "data": {
      "text/plain": [
       "WORCESTER          15\n",
       "HOLYOKE             8\n",
       "FRAMINGHAM          7\n",
       "HAVERHILL           7\n",
       "LOWELL              6\n",
       "                   ..\n",
       "TEWKSBURY           1\n",
       "SHELBURNE FALLS     1\n",
       "WESTFORD            1\n",
       "ATHOL               1\n",
       "AGAWAM              1\n",
       "Name: CITY, Length: 107, dtype: int64"
      ]
     },
     "execution_count": 93,
     "metadata": {},
     "output_type": "execute_result"
    }
   ],
   "source": [
    "df2.CITY[df2.MARKET_SEGMENT == \"NURSING HOME\"].value_counts()"
   ]
  },
  {
   "cell_type": "code",
   "execution_count": 94,
   "id": "d2251c13",
   "metadata": {},
   "outputs": [],
   "source": [
    "# storing all Worcester City data in a Variable named (wr)\n",
    "wr = df2[df2.CITY==\"WORCESTER\"]"
   ]
  },
  {
   "cell_type": "code",
   "execution_count": 95,
   "id": "c85950f7",
   "metadata": {},
   "outputs": [
    {
     "name": "stderr",
     "output_type": "stream",
     "text": [
      "C:\\Users\\Dell\\AppData\\Local\\Temp\\ipykernel_13636\\3701700442.py:2: UserWarning: Boolean Series key will be reindexed to match DataFrame index.\n",
      "  wr[df2.MARKET_SEGMENT == \"NURSING HOME\"].reset_index()\n",
      "C:\\Users\\Dell\\AppData\\Local\\Temp\\ipykernel_13636\\3701700442.py:3: UserWarning: Boolean Series key will be reindexed to match DataFrame index.\n",
      "  wr_nh=wr[df2.MARKET_SEGMENT == \"NURSING HOME\"].reset_index()\n"
     ]
    }
   ],
   "source": [
    "# Storing all Nursing home in Worcestor City in a variable named(wr_nh)\n",
    "wr[df2.MARKET_SEGMENT == \"NURSING HOME\"].reset_index()\n",
    "wr_nh=wr[df2.MARKET_SEGMENT == \"NURSING HOME\"].reset_index()"
   ]
  },
  {
   "cell_type": "markdown",
   "id": "dad7b5a8",
   "metadata": {},
   "source": [
    "3 - What is the total no of Meals per day in Worcestor City consumed by Nursing homes?\n",
    "\n",
    "answer  = Greater than 24500"
   ]
  },
  {
   "cell_type": "code",
   "execution_count": 96,
   "id": "a2e6ae67",
   "metadata": {},
   "outputs": [
    {
     "data": {
      "text/plain": [
       "24500"
      ]
     },
     "execution_count": 96,
     "metadata": {},
     "output_type": "execute_result"
    }
   ],
   "source": [
    "# This shows the total no of Meals per day in WOrcestor City consumed by Nursing homes are greater than 24500\n",
    "wr_nh.NUMBER_OF_MEALS_PER_DAY_RANGE.sum()"
   ]
  },
  {
   "cell_type": "markdown",
   "id": "c01077c1",
   "metadata": {},
   "source": [
    "Therefore, we have the adjacent opportunities from the non-commercial establishments to additionally sell into (Nursing Home) Market Segments in the city of WORCESTER and rest other cities too"
   ]
  },
  {
   "cell_type": "markdown",
   "id": "2dbdca71",
   "metadata": {},
   "source": [
    "4 - Which County consumes the most no of meals per day?"
   ]
  },
  {
   "cell_type": "code",
   "execution_count": 97,
   "id": "9c878722",
   "metadata": {},
   "outputs": [
    {
     "data": {
      "text/plain": [
       "<AxesSubplot:xlabel='COUNTY_NAME', ylabel='NUMBER_OF_MEALS_PER_DAY_RANGE'>"
      ]
     },
     "execution_count": 97,
     "metadata": {},
     "output_type": "execute_result"
    },
    {
     "data": {
      "image/png": "[encoded data removed]",
      "text/plain": [
       "<Figure size 1500x700 with 1 Axes>"
      ]
     },
     "metadata": {},
     "output_type": "display_data"
    }
   ],
   "source": [
    "plt.pyplot.figure(figsize = (15,7))\n",
    "sns.barplot(x = df2.COUNTY_NAME, y= df2.NUMBER_OF_MEALS_PER_DAY_RANGE)"
   ]
  },
  {
   "cell_type": "code",
   "execution_count": 98,
   "id": "bedbc407",
   "metadata": {},
   "outputs": [
    {
     "data": {
      "text/plain": [
       "22450"
      ]
     },
     "execution_count": 98,
     "metadata": {},
     "output_type": "execute_result"
    }
   ],
   "source": [
    "pl = df2[df2.COUNTY_NAME == \"PLYMOUTH\"]\n",
    "pl.NUMBER_OF_MEALS_PER_DAY_RANGE.sum()"
   ]
  },
  {
   "cell_type": "markdown",
   "id": "16f4d9c6",
   "metadata": {},
   "source": [
    "From the above chart, Plymouth County consumes most no of meals greater than 22450 per day"
   ]
  },
  {
   "cell_type": "code",
   "execution_count": 99,
   "id": "2e95360b",
   "metadata": {},
   "outputs": [],
   "source": [
    "df2.to_excel('Sheet_2.xlsx')"
   ]
  },
  {
   "cell_type": "markdown",
   "id": "003634db",
   "metadata": {},
   "source": [
    "# Conclusion to Sheet 2:\n",
    "1 - we have the adjacent opportunities from the non-commercial establishments to additionally sell into (Nursing Home) Market Segments in the city of WORCESTER and rest other cities too\n",
    "\n",
    "2 - Plymouth County consumes most no of meals greater than 22450 per day"
   ]
  },
  {
   "cell_type": "markdown",
   "id": "affcc0ef",
   "metadata": {},
   "source": [
    "# # Sheet 3 - Data Cleaning and EDA"
   ]
  },
  {
   "cell_type": "code",
   "execution_count": 100,
   "id": "ba7ed2d5",
   "metadata": {},
   "outputs": [],
   "source": [
    "df3 = pd.read_excel(\"Food_services.docx-EmbeddedFile.xlsx\", \"Retail Stores\" )"
   ]
  },
  {
   "cell_type": "code",
   "execution_count": 101,
   "id": "99b833ac",
   "metadata": {},
   "outputs": [
    {
     "data": {
      "text/html": [
       "<div>\n",
       "<style scoped>\n",
       "    .dataframe tbody tr th:only-of-type {\n",
       "        vertical-align: middle;\n",
       "    }\n",
       "\n",
       "    .dataframe tbody tr th {\n",
       "        vertical-align: top;\n",
       "    }\n",
       "\n",
       "    .dataframe thead th {\n",
       "        text-align: right;\n",
       "    }\n",
       "</style>\n",
       "<table border=\"1\" class=\"dataframe\">\n",
       "  <thead>\n",
       "    <tr style=\"text-align: right;\">\n",
       "      <th></th>\n",
       "      <th>NAME</th>\n",
       "      <th>CITY</th>\n",
       "      <th>STATE</th>\n",
       "      <th>ZIP</th>\n",
       "      <th>ZIP_PLUS4</th>\n",
       "      <th>COUNTY_CODE</th>\n",
       "      <th>COUNTY_NAME</th>\n",
       "      <th>MSA</th>\n",
       "      <th>market_segment2</th>\n",
       "      <th>units</th>\n",
       "      <th>EMPLOYEES</th>\n",
       "      <th>years_in_business</th>\n",
       "      <th>annual_sales</th>\n",
       "    </tr>\n",
       "  </thead>\n",
       "  <tbody>\n",
       "    <tr>\n",
       "      <th>0</th>\n",
       "      <td>AZON LIQUORS</td>\n",
       "      <td>AGAWAM</td>\n",
       "      <td>MA</td>\n",
       "      <td>1001</td>\n",
       "      <td>1530.0</td>\n",
       "      <td>25013.0</td>\n",
       "      <td>HAMPDEN</td>\n",
       "      <td>1122.0</td>\n",
       "      <td>LIQUOR STORES</td>\n",
       "      <td>INDEPENDENT (1-9 UNITS)</td>\n",
       "      <td>1 TO 4</td>\n",
       "      <td>UNCODED / DATA CURRENTLY UNAVAILABLE</td>\n",
       "      <td>$500,001 - $1,000,000</td>\n",
       "    </tr>\n",
       "    <tr>\n",
       "      <th>1</th>\n",
       "      <td>CUSTOM WINE ONLINE LLC</td>\n",
       "      <td>COVINGTON</td>\n",
       "      <td>KY</td>\n",
       "      <td>41011</td>\n",
       "      <td>2487.0</td>\n",
       "      <td>21117.0</td>\n",
       "      <td>KENTON</td>\n",
       "      <td>1642.0</td>\n",
       "      <td>LIQUOR STORES</td>\n",
       "      <td>INDEPENDENT (1-9 UNITS)</td>\n",
       "      <td>1 TO 4</td>\n",
       "      <td>UNCODED / DATA CURRENTLY UNAVAILABLE</td>\n",
       "      <td>$2,500,001 - $5,000,000</td>\n",
       "    </tr>\n",
       "    <tr>\n",
       "      <th>2</th>\n",
       "      <td>BP</td>\n",
       "      <td>COVINGTON</td>\n",
       "      <td>KY</td>\n",
       "      <td>41011</td>\n",
       "      <td>1441.0</td>\n",
       "      <td>21117.0</td>\n",
       "      <td>KENTON</td>\n",
       "      <td>1642.0</td>\n",
       "      <td>GAS STATIONS</td>\n",
       "      <td>501+ UNITS</td>\n",
       "      <td>5 TO 9</td>\n",
       "      <td>UNCODED / DATA CURRENTLY UNAVAILABLE</td>\n",
       "      <td>UNCODED</td>\n",
       "    </tr>\n",
       "  </tbody>\n",
       "</table>\n",
       "</div>"
      ],
      "text/plain": [
       "                     NAME       CITY STATE    ZIP  ZIP_PLUS4  COUNTY_CODE  \\\n",
       "0            AZON LIQUORS     AGAWAM    MA   1001     1530.0      25013.0   \n",
       "1  CUSTOM WINE ONLINE LLC  COVINGTON    KY  41011     2487.0      21117.0   \n",
       "2                      BP  COVINGTON    KY  41011     1441.0      21117.0   \n",
       "\n",
       "  COUNTY_NAME     MSA market_segment2                    units EMPLOYEES  \\\n",
       "0     HAMPDEN  1122.0   LIQUOR STORES  INDEPENDENT (1-9 UNITS)    1 TO 4   \n",
       "1      KENTON  1642.0   LIQUOR STORES  INDEPENDENT (1-9 UNITS)    1 TO 4   \n",
       "2      KENTON  1642.0    GAS STATIONS               501+ UNITS    5 TO 9   \n",
       "\n",
       "                      years_in_business             annual_sales  \n",
       "0  UNCODED / DATA CURRENTLY UNAVAILABLE    $500,001 - $1,000,000  \n",
       "1  UNCODED / DATA CURRENTLY UNAVAILABLE  $2,500,001 - $5,000,000  \n",
       "2  UNCODED / DATA CURRENTLY UNAVAILABLE                  UNCODED  "
      ]
     },
     "execution_count": 101,
     "metadata": {},
     "output_type": "execute_result"
    }
   ],
   "source": [
    "df3.head(3)"
   ]
  },
  {
   "cell_type": "code",
   "execution_count": 102,
   "id": "54853f7c",
   "metadata": {},
   "outputs": [],
   "source": [
    "# deleting unnecessary columns from the database:\n",
    "del df3[\"ZIP_PLUS4\"]\n",
    "del df3[\"MSA\"]\n",
    "del df3[\"years_in_business\"]"
   ]
  },
  {
   "cell_type": "code",
   "execution_count": 103,
   "id": "ef1db05c",
   "metadata": {},
   "outputs": [
    {
     "name": "stdout",
     "output_type": "stream",
     "text": [
      "<class 'pandas.core.frame.DataFrame'>\n",
      "RangeIndex: 1001 entries, 0 to 1000\n",
      "Data columns (total 10 columns):\n",
      " #   Column           Non-Null Count  Dtype  \n",
      "---  ------           --------------  -----  \n",
      " 0   NAME             1001 non-null   object \n",
      " 1   CITY             1001 non-null   object \n",
      " 2   STATE            1001 non-null   object \n",
      " 3   ZIP              1001 non-null   int64  \n",
      " 4   COUNTY_CODE      974 non-null    float64\n",
      " 5   COUNTY_NAME      974 non-null    object \n",
      " 6   market_segment2  1001 non-null   object \n",
      " 7   units            1001 non-null   object \n",
      " 8   EMPLOYEES        1001 non-null   object \n",
      " 9   annual_sales     1001 non-null   object \n",
      "dtypes: float64(1), int64(1), object(8)\n",
      "memory usage: 78.3+ KB\n"
     ]
    }
   ],
   "source": [
    "df3.info()"
   ]
  },
  {
   "cell_type": "code",
   "execution_count": 104,
   "id": "2ad15a50",
   "metadata": {},
   "outputs": [
    {
     "data": {
      "text/plain": [
       "INDEPENDENT (1-9 UNITS)    828\n",
       "501+ UNITS                 101\n",
       "101-250 UNITS               55\n",
       "251-500 UNITS                9\n",
       "51-100 UNITS                 8\n",
       "Name: units, dtype: int64"
      ]
     },
     "execution_count": 104,
     "metadata": {},
     "output_type": "execute_result"
    }
   ],
   "source": [
    "df3.units.value_counts()"
   ]
  },
  {
   "cell_type": "code",
   "execution_count": 105,
   "id": "2569337f",
   "metadata": {},
   "outputs": [],
   "source": [
    "#Replacing the UNITS values: with the minimum value from the range for analysis\n",
    "df3['units'] = df3['units'].replace(\"INDEPENDENT (1-9 UNITS)\", 1)\n",
    "df3['units'] = df3['units'].replace(\"51-100 UNITS\", 51)\n",
    "df3['units'] = df3['units'].replace(\"101-250 UNITS\", 101)\n",
    "df3['units'] = df3['units'].replace(\"251-500 UNITS\", 251)\n",
    "df3['units'] = df3['units'].replace(\"501+ UNITS\", 501 )"
   ]
  },
  {
   "cell_type": "code",
   "execution_count": 106,
   "id": "eb7fd559",
   "metadata": {},
   "outputs": [
    {
     "data": {
      "text/plain": [
       "1 TO 4      564\n",
       "5 TO 9      148\n",
       "10 TO 19    142\n",
       "20 TO 49    110\n",
       "OVER 50      36\n",
       "UNKNOWN       1\n",
       "Name: EMPLOYEES, dtype: int64"
      ]
     },
     "execution_count": 106,
     "metadata": {},
     "output_type": "execute_result"
    }
   ],
   "source": [
    "# Found 1 unknown value, \n",
    "df3.EMPLOYEES.value_counts()"
   ]
  },
  {
   "cell_type": "code",
   "execution_count": 107,
   "id": "a9f55da6",
   "metadata": {},
   "outputs": [
    {
     "data": {
      "text/html": [
       "<div>\n",
       "<style scoped>\n",
       "    .dataframe tbody tr th:only-of-type {\n",
       "        vertical-align: middle;\n",
       "    }\n",
       "\n",
       "    .dataframe tbody tr th {\n",
       "        vertical-align: top;\n",
       "    }\n",
       "\n",
       "    .dataframe thead th {\n",
       "        text-align: right;\n",
       "    }\n",
       "</style>\n",
       "<table border=\"1\" class=\"dataframe\">\n",
       "  <thead>\n",
       "    <tr style=\"text-align: right;\">\n",
       "      <th></th>\n",
       "      <th>NAME</th>\n",
       "      <th>CITY</th>\n",
       "      <th>STATE</th>\n",
       "      <th>ZIP</th>\n",
       "      <th>COUNTY_CODE</th>\n",
       "      <th>COUNTY_NAME</th>\n",
       "      <th>market_segment2</th>\n",
       "      <th>units</th>\n",
       "      <th>EMPLOYEES</th>\n",
       "      <th>annual_sales</th>\n",
       "    </tr>\n",
       "  </thead>\n",
       "  <tbody>\n",
       "    <tr>\n",
       "      <th>0</th>\n",
       "      <td>AZON LIQUORS</td>\n",
       "      <td>AGAWAM</td>\n",
       "      <td>MA</td>\n",
       "      <td>1001</td>\n",
       "      <td>25013.0</td>\n",
       "      <td>HAMPDEN</td>\n",
       "      <td>LIQUOR STORES</td>\n",
       "      <td>1</td>\n",
       "      <td>1 TO 4</td>\n",
       "      <td>$500,001 - $1,000,000</td>\n",
       "    </tr>\n",
       "    <tr>\n",
       "      <th>1</th>\n",
       "      <td>CUSTOM WINE ONLINE LLC</td>\n",
       "      <td>COVINGTON</td>\n",
       "      <td>KY</td>\n",
       "      <td>41011</td>\n",
       "      <td>21117.0</td>\n",
       "      <td>KENTON</td>\n",
       "      <td>LIQUOR STORES</td>\n",
       "      <td>1</td>\n",
       "      <td>1 TO 4</td>\n",
       "      <td>$2,500,001 - $5,000,000</td>\n",
       "    </tr>\n",
       "    <tr>\n",
       "      <th>2</th>\n",
       "      <td>BP</td>\n",
       "      <td>COVINGTON</td>\n",
       "      <td>KY</td>\n",
       "      <td>41011</td>\n",
       "      <td>21117.0</td>\n",
       "      <td>KENTON</td>\n",
       "      <td>GAS STATIONS</td>\n",
       "      <td>501</td>\n",
       "      <td>5 TO 9</td>\n",
       "      <td>UNCODED</td>\n",
       "    </tr>\n",
       "  </tbody>\n",
       "</table>\n",
       "</div>"
      ],
      "text/plain": [
       "                     NAME       CITY STATE    ZIP  COUNTY_CODE COUNTY_NAME  \\\n",
       "0            AZON LIQUORS     AGAWAM    MA   1001      25013.0     HAMPDEN   \n",
       "1  CUSTOM WINE ONLINE LLC  COVINGTON    KY  41011      21117.0      KENTON   \n",
       "2                      BP  COVINGTON    KY  41011      21117.0      KENTON   \n",
       "\n",
       "  market_segment2  units EMPLOYEES             annual_sales  \n",
       "0   LIQUOR STORES      1    1 TO 4    $500,001 - $1,000,000  \n",
       "1   LIQUOR STORES      1    1 TO 4  $2,500,001 - $5,000,000  \n",
       "2    GAS STATIONS    501    5 TO 9                  UNCODED  "
      ]
     },
     "execution_count": 107,
     "metadata": {},
     "output_type": "execute_result"
    }
   ],
   "source": [
    "df3.head(3)"
   ]
  },
  {
   "cell_type": "code",
   "execution_count": 108,
   "id": "a278bbf3",
   "metadata": {},
   "outputs": [
    {
     "data": {
      "text/html": [
       "<div>\n",
       "<style scoped>\n",
       "    .dataframe tbody tr th:only-of-type {\n",
       "        vertical-align: middle;\n",
       "    }\n",
       "\n",
       "    .dataframe tbody tr th {\n",
       "        vertical-align: top;\n",
       "    }\n",
       "\n",
       "    .dataframe thead th {\n",
       "        text-align: right;\n",
       "    }\n",
       "</style>\n",
       "<table border=\"1\" class=\"dataframe\">\n",
       "  <thead>\n",
       "    <tr style=\"text-align: right;\">\n",
       "      <th></th>\n",
       "      <th>NAME</th>\n",
       "      <th>CITY</th>\n",
       "      <th>STATE</th>\n",
       "      <th>ZIP</th>\n",
       "      <th>COUNTY_CODE</th>\n",
       "      <th>COUNTY_NAME</th>\n",
       "      <th>market_segment2</th>\n",
       "      <th>units</th>\n",
       "      <th>EMPLOYEES</th>\n",
       "      <th>annual_sales</th>\n",
       "    </tr>\n",
       "  </thead>\n",
       "  <tbody>\n",
       "    <tr>\n",
       "      <th>56</th>\n",
       "      <td>K VA T FOOD STORES INC</td>\n",
       "      <td>LOUISA</td>\n",
       "      <td>KY</td>\n",
       "      <td>41230</td>\n",
       "      <td>21127.0</td>\n",
       "      <td>LAWRENCE</td>\n",
       "      <td>GROCERY STORES (LIMITED CHANNEL DISTRIBUTOR)</td>\n",
       "      <td>1</td>\n",
       "      <td>UNKNOWN</td>\n",
       "      <td>UNCODED</td>\n",
       "    </tr>\n",
       "  </tbody>\n",
       "</table>\n",
       "</div>"
      ],
      "text/plain": [
       "                      NAME    CITY STATE    ZIP  COUNTY_CODE COUNTY_NAME  \\\n",
       "56  K VA T FOOD STORES INC  LOUISA    KY  41230      21127.0    LAWRENCE   \n",
       "\n",
       "                                 market_segment2  units EMPLOYEES annual_sales  \n",
       "56  GROCERY STORES (LIMITED CHANNEL DISTRIBUTOR)      1   UNKNOWN      UNCODED  "
      ]
     },
     "execution_count": 108,
     "metadata": {},
     "output_type": "execute_result"
    }
   ],
   "source": [
    "# we can see that the annual sales for unknown employee row is uncoded, hence deleting the row.\n",
    "df3[df3[\"EMPLOYEES\"] == \"UNKNOWN\"]"
   ]
  },
  {
   "cell_type": "code",
   "execution_count": 109,
   "id": "15821178",
   "metadata": {},
   "outputs": [],
   "source": [
    "#replacing Unknown with np.nan and droping the row.\n",
    "df3[\"EMPLOYEES\"] = df3[\"EMPLOYEES\"].replace(\"UNKNOWN\", np.nan)\n",
    "df3[\"EMPLOYEES\"] = df3[\"EMPLOYEES\"].dropna(axis = 0)"
   ]
  },
  {
   "cell_type": "code",
   "execution_count": null,
   "id": "5c1b9162",
   "metadata": {},
   "outputs": [],
   "source": []
  },
  {
   "cell_type": "code",
   "execution_count": 110,
   "id": "5bdf2f3c",
   "metadata": {},
   "outputs": [
    {
     "data": {
      "text/plain": [
       "1 TO 4      564\n",
       "5 TO 9      148\n",
       "10 TO 19    142\n",
       "20 TO 49    110\n",
       "OVER 50      36\n",
       "Name: EMPLOYEES, dtype: int64"
      ]
     },
     "execution_count": 110,
     "metadata": {},
     "output_type": "execute_result"
    }
   ],
   "source": [
    "df3.EMPLOYEES.value_counts()"
   ]
  },
  {
   "cell_type": "code",
   "execution_count": 111,
   "id": "95e1eab0",
   "metadata": {},
   "outputs": [
    {
     "data": {
      "text/plain": [
       "NAME                0\n",
       "CITY                0\n",
       "STATE               0\n",
       "ZIP                 0\n",
       "COUNTY_CODE        27\n",
       "COUNTY_NAME        27\n",
       "market_segment2     0\n",
       "units               0\n",
       "EMPLOYEES           1\n",
       "annual_sales        0\n",
       "dtype: int64"
      ]
     },
     "execution_count": 111,
     "metadata": {},
     "output_type": "execute_result"
    }
   ],
   "source": [
    "df3.isna().sum()"
   ]
  },
  {
   "cell_type": "code",
   "execution_count": 112,
   "id": "16fb51cb",
   "metadata": {},
   "outputs": [],
   "source": [
    "# droping null values\n",
    "df3['EMPLOYEES'] = df3['EMPLOYEES'].dropna()"
   ]
  },
  {
   "cell_type": "code",
   "execution_count": 113,
   "id": "2b43a0dc",
   "metadata": {},
   "outputs": [
    {
     "data": {
      "text/plain": [
       "NAME                0\n",
       "CITY                0\n",
       "STATE               0\n",
       "ZIP                 0\n",
       "COUNTY_CODE        27\n",
       "COUNTY_NAME        27\n",
       "market_segment2     0\n",
       "units               0\n",
       "EMPLOYEES           1\n",
       "annual_sales        0\n",
       "dtype: int64"
      ]
     },
     "execution_count": 113,
     "metadata": {},
     "output_type": "execute_result"
    }
   ],
   "source": [
    "df3.isna().sum()"
   ]
  },
  {
   "cell_type": "code",
   "execution_count": 114,
   "id": "587f78eb",
   "metadata": {},
   "outputs": [],
   "source": [
    "df3 = df3.dropna(axis = 0)"
   ]
  },
  {
   "cell_type": "code",
   "execution_count": 115,
   "id": "cccdddc0",
   "metadata": {},
   "outputs": [
    {
     "data": {
      "text/plain": [
       "(973, 10)"
      ]
     },
     "execution_count": 115,
     "metadata": {},
     "output_type": "execute_result"
    }
   ],
   "source": [
    "df3.shape"
   ]
  },
  {
   "cell_type": "code",
   "execution_count": 116,
   "id": "44cd78ce",
   "metadata": {},
   "outputs": [],
   "source": [
    "# as the annual sales have uncoded value, hence deleting the rows is the best idea for analysis\n",
    "df3.annual_sales.value_counts()\n",
    "df3[\"annual_sales\"] = df3[\"annual_sales\"].replace(\"UNCODED\", np.nan)"
   ]
  },
  {
   "cell_type": "code",
   "execution_count": 117,
   "id": "fb46f84f",
   "metadata": {},
   "outputs": [
    {
     "data": {
      "text/plain": [
       "NAME                 0\n",
       "CITY                 0\n",
       "STATE                0\n",
       "ZIP                  0\n",
       "COUNTY_CODE          0\n",
       "COUNTY_NAME          0\n",
       "market_segment2      0\n",
       "units                0\n",
       "EMPLOYEES            0\n",
       "annual_sales       212\n",
       "dtype: int64"
      ]
     },
     "execution_count": 117,
     "metadata": {},
     "output_type": "execute_result"
    }
   ],
   "source": [
    "df3.isna().sum()"
   ]
  },
  {
   "cell_type": "code",
   "execution_count": 118,
   "id": "49deab87",
   "metadata": {},
   "outputs": [],
   "source": [
    "df3 = df3.dropna(axis = 0)"
   ]
  },
  {
   "cell_type": "code",
   "execution_count": 119,
   "id": "646888e9",
   "metadata": {},
   "outputs": [
    {
     "name": "stdout",
     "output_type": "stream",
     "text": [
      "<class 'pandas.core.frame.DataFrame'>\n",
      "Int64Index: 761 entries, 0 to 1000\n",
      "Data columns (total 10 columns):\n",
      " #   Column           Non-Null Count  Dtype  \n",
      "---  ------           --------------  -----  \n",
      " 0   NAME             761 non-null    object \n",
      " 1   CITY             761 non-null    object \n",
      " 2   STATE            761 non-null    object \n",
      " 3   ZIP              761 non-null    int64  \n",
      " 4   COUNTY_CODE      761 non-null    float64\n",
      " 5   COUNTY_NAME      761 non-null    object \n",
      " 6   market_segment2  761 non-null    object \n",
      " 7   units            761 non-null    int64  \n",
      " 8   EMPLOYEES        761 non-null    object \n",
      " 9   annual_sales     761 non-null    object \n",
      "dtypes: float64(1), int64(2), object(7)\n",
      "memory usage: 65.4+ KB\n"
     ]
    }
   ],
   "source": [
    "df3.info()"
   ]
  },
  {
   "cell_type": "code",
   "execution_count": 120,
   "id": "18c7b188",
   "metadata": {},
   "outputs": [
    {
     "data": {
      "text/plain": [
       "array(['1 TO 4', '10 TO 19', 'OVER 50', '5 TO 9', '20 TO 49'],\n",
       "      dtype=object)"
      ]
     },
     "execution_count": 120,
     "metadata": {},
     "output_type": "execute_result"
    }
   ],
   "source": [
    "df3.EMPLOYEES.unique()"
   ]
  },
  {
   "cell_type": "code",
   "execution_count": 121,
   "id": "07d44907",
   "metadata": {},
   "outputs": [],
   "source": [
    "# replacing employee row value by self labeling\n",
    "df3.EMPLOYEES = df3[\"EMPLOYEES\"].replace('1 TO 4', 1)\n",
    "df3.EMPLOYEES = df3[\"EMPLOYEES\"].replace('5 TO 9', 5)\n",
    "df3.EMPLOYEES = df3[\"EMPLOYEES\"].replace('10 TO 19', 10)\n",
    "df3.EMPLOYEES = df3[\"EMPLOYEES\"].replace('20 TO 49', 20)\n",
    "df3.EMPLOYEES = df3[\"EMPLOYEES\"].replace('OVER 50', 50)"
   ]
  },
  {
   "cell_type": "code",
   "execution_count": 122,
   "id": "d8772767",
   "metadata": {},
   "outputs": [
    {
     "data": {
      "text/plain": [
       "array([ 1, 10, 50,  5, 20], dtype=int64)"
      ]
     },
     "execution_count": 122,
     "metadata": {},
     "output_type": "execute_result"
    }
   ],
   "source": [
    "df3.EMPLOYEES.unique()"
   ]
  },
  {
   "cell_type": "code",
   "execution_count": 123,
   "id": "68551a03",
   "metadata": {},
   "outputs": [
    {
     "data": {
      "text/plain": [
       "array(['$500,001 - $1,000,000', '$2,500,001 - $5,000,000', '<=$500,000',\n",
       "       '$1,000,001 - $2,500,000', '>$5,000,000'], dtype=object)"
      ]
     },
     "execution_count": 123,
     "metadata": {},
     "output_type": "execute_result"
    }
   ],
   "source": [
    "df3.annual_sales.unique()"
   ]
  },
  {
   "cell_type": "code",
   "execution_count": 124,
   "id": "a1af8051",
   "metadata": {},
   "outputs": [],
   "source": [
    "# replacing annual sales values by self encoding\n",
    "df3.annual_sales = df3.annual_sales.replace('<=$500,000', 0)\n",
    "df3.annual_sales = df3.annual_sales.replace('$500,001 - $1,000,000', 1)\n",
    "df3.annual_sales = df3.annual_sales.replace('$1,000,001 - $2,500,000', 2)\n",
    "df3.annual_sales = df3.annual_sales.replace('$2,500,001 - $5,000,000', 3)\n",
    "df3.annual_sales = df3.annual_sales.replace('>$5,000,000', 4)"
   ]
  },
  {
   "cell_type": "code",
   "execution_count": 125,
   "id": "8b0e477f",
   "metadata": {},
   "outputs": [
    {
     "data": {
      "text/plain": [
       "array([1, 3, 0, 2, 4], dtype=int64)"
      ]
     },
     "execution_count": 125,
     "metadata": {},
     "output_type": "execute_result"
    }
   ],
   "source": [
    "df3.annual_sales.unique()"
   ]
  },
  {
   "cell_type": "markdown",
   "id": "9bd26474",
   "metadata": {},
   "source": [
    "# Statistical Findings and Questions based from dataset Sheet - 3"
   ]
  },
  {
   "cell_type": "code",
   "execution_count": 126,
   "id": "d8b5477e",
   "metadata": {},
   "outputs": [
    {
     "data": {
      "text/plain": [
       "GROCERY STORES (LIMITED CHANNEL DISTRIBUTOR)    383\n",
       "LIQUOR STORES                                   132\n",
       "CONVENIENCE STORES                              121\n",
       "OTHER FOOD SPECIALIST RETAILERS                  35\n",
       "FRUIT AND VEGETABLE MARKETS                      25\n",
       "MEAT MARKET                                      24\n",
       "GAS STATIONS                                     21\n",
       "CONFECTIONERS                                    14\n",
       "FISH & SEAFOOD MARKET                             6\n",
       "Name: market_segment2, dtype: int64"
      ]
     },
     "execution_count": 126,
     "metadata": {},
     "output_type": "execute_result"
    }
   ],
   "source": [
    "df3.market_segment2.value_counts()"
   ]
  },
  {
   "cell_type": "markdown",
   "id": "ba3280e9",
   "metadata": {},
   "source": [
    "1 - Which market segment has the most amount of annual sales?"
   ]
  },
  {
   "cell_type": "code",
   "execution_count": 127,
   "id": "b0b223b0",
   "metadata": {},
   "outputs": [
    {
     "data": {
      "text/plain": [
       "<AxesSubplot:xlabel='annual_sales', ylabel='market_segment2'>"
      ]
     },
     "execution_count": 127,
     "metadata": {},
     "output_type": "execute_result"
    },
    {
     "data": {
      "image/png": "[encoded data removed]",
      "text/plain": [
       "<Figure size 640x480 with 1 Axes>"
      ]
     },
     "metadata": {},
     "output_type": "display_data"
    }
   ],
   "source": [
    "sns.barplot(y = df3.market_segment2, x = df3.annual_sales)"
   ]
  },
  {
   "cell_type": "markdown",
   "id": "21a385a5",
   "metadata": {},
   "source": [
    "We can see from the chart that:\n",
    "\n",
    "1 - Fish&Seafood Market has the maximum annual sales\n",
    "\n",
    "2 - Gas Stations are on the 2nd for maximum sales"
   ]
  },
  {
   "cell_type": "code",
   "execution_count": 128,
   "id": "d407edc3",
   "metadata": {},
   "outputs": [
    {
     "name": "stdout",
     "output_type": "stream",
     "text": [
      "<class 'pandas.core.frame.DataFrame'>\n",
      "Int64Index: 761 entries, 0 to 1000\n",
      "Data columns (total 10 columns):\n",
      " #   Column           Non-Null Count  Dtype  \n",
      "---  ------           --------------  -----  \n",
      " 0   NAME             761 non-null    object \n",
      " 1   CITY             761 non-null    object \n",
      " 2   STATE            761 non-null    object \n",
      " 3   ZIP              761 non-null    int64  \n",
      " 4   COUNTY_CODE      761 non-null    float64\n",
      " 5   COUNTY_NAME      761 non-null    object \n",
      " 6   market_segment2  761 non-null    object \n",
      " 7   units            761 non-null    int64  \n",
      " 8   EMPLOYEES        761 non-null    int64  \n",
      " 9   annual_sales     761 non-null    int64  \n",
      "dtypes: float64(1), int64(4), object(5)\n",
      "memory usage: 65.4+ KB\n"
     ]
    }
   ],
   "source": [
    "df3.info()"
   ]
  },
  {
   "cell_type": "markdown",
   "id": "1abc077a",
   "metadata": {},
   "source": [
    "2 - Which states has most annual sales?"
   ]
  },
  {
   "cell_type": "code",
   "execution_count": 131,
   "id": "bc82753a",
   "metadata": {},
   "outputs": [
    {
     "data": {
      "text/plain": [
       "<AxesSubplot:xlabel='STATE', ylabel='annual_sales'>"
      ]
     },
     "execution_count": 131,
     "metadata": {},
     "output_type": "execute_result"
    },
    {
     "data": {
      "image/png": "[encoded data removed]",
      "text/plain": [
       "<Figure size 640x480 with 1 Axes>"
      ]
     },
     "metadata": {},
     "output_type": "display_data"
    }
   ],
   "source": [
    "sns.barplot(x = df3.STATE, y = df3.annual_sales)"
   ]
  },
  {
   "cell_type": "markdown",
   "id": "e4726532",
   "metadata": {},
   "source": [
    "We can see from the chart that Kentucky state, has most amount of annual sales."
   ]
  },
  {
   "cell_type": "markdown",
   "id": "52cc7034",
   "metadata": {},
   "source": [
    "# Conclusion to Sheet 3 EDA :\n",
    "1 - Biggest opportunities in Retail Outlets are in Kentucky State.\n",
    "\n",
    "2 - Fish&Seafood Market Segment as well as different Gas stations must be our hit.\n"
   ]
  },
  {
   "cell_type": "code",
   "execution_count": 130,
   "id": "006f3e42",
   "metadata": {},
   "outputs": [],
   "source": [
    "df3.to_excel('Sheet_3.xlsx')"
   ]
  },
  {
   "cell_type": "code",
   "execution_count": null,
   "id": "34aa1b94",
   "metadata": {},
   "outputs": [],
   "source": []
  },
  {
   "cell_type": "code",
   "execution_count": null,
   "id": "93283048",
   "metadata": {},
   "outputs": [],
   "source": []
  }
 ],
 "metadata": {
  "kernelspec": {
   "display_name": "Python 3 (ipykernel)",
   "language": "python",
   "name": "python3"
  },
  "language_info": {
   "codemirror_mode": {
    "name": "ipython",
    "version": 3
   },
   "file_extension": ".py",
   "mimetype": "text/x-python",
   "name": "python",
   "nbconvert_exporter": "python",
   "pygments_lexer": "ipython3",
   "version": "3.9.13"
  }
 },
 "nbformat": 4,
 "nbformat_minor": 5
}
